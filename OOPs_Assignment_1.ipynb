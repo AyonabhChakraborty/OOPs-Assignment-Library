{
 "cells": [
  {
   "cell_type": "code",
   "execution_count": 3,
   "id": "03273270-7195-47cc-9573-db20cc66ada1",
   "metadata": {},
   "outputs": [],
   "source": [
    "class BankAccount:\n",
    "    def __init__(self, accnum, accname, balance):\n",
    "        self.accnum = accnum\n",
    "        self.accname = accname\n",
    "        self.balance = balance\n",
    "\n",
    "    def deposit(self, amount):\n",
    "        self.balance += amount\n",
    "        print('Amount deposited:', amount)\n",
    "        print('Current Balance:', self.balance)\n",
    "\n",
    "    def withdraw(self, amount):\n",
    "        if self.balance >= amount:\n",
    "            self.balance -= amount\n",
    "            print('Amount withdrawn:', amount)\n",
    "            print('Current Balance:', self.balance)\n",
    "        else:\n",
    "            print('Insufficient Balance')"
   ]
  },
  {
   "cell_type": "code",
   "execution_count": 8,
   "id": "064249ef-4422-4f91-a54a-746016fa4fdd",
   "metadata": {},
   "outputs": [],
   "source": [
    "amt = BankAccount('1340940949', 'Big Honn', 43902749)"
   ]
  },
  {
   "cell_type": "code",
   "execution_count": 5,
   "id": "6a2dc471-6240-40c1-aabd-95900fbff5af",
   "metadata": {},
   "outputs": [
    {
     "data": {
      "text/plain": [
       "<__main__.BankAccount at 0x7f7d186ddea0>"
      ]
     },
     "execution_count": 5,
     "metadata": {},
     "output_type": "execute_result"
    }
   ],
   "source": [
    "amt"
   ]
  },
  {
   "cell_type": "code",
   "execution_count": 10,
   "id": "5700fc65-5af4-4bf4-8b5c-d19939def5ae",
   "metadata": {},
   "outputs": [
    {
     "name": "stdout",
     "output_type": "stream",
     "text": [
      "Amount deposited: 90000\n",
      "Current Balance: 43992749\n"
     ]
    }
   ],
   "source": [
    "amt.deposit(90000)"
   ]
  },
  {
   "cell_type": "code",
   "execution_count": 11,
   "id": "8a836f41-a273-4b2a-9e3a-d28e4a199954",
   "metadata": {},
   "outputs": [
    {
     "name": "stdout",
     "output_type": "stream",
     "text": [
      "Amount withdrawn: 324121\n",
      "Current Balance: 43668628\n"
     ]
    }
   ],
   "source": [
    "amt.withdraw(324121)"
   ]
  },
  {
   "cell_type": "code",
   "execution_count": null,
   "id": "b26739e5-a8b0-42a7-b125-94bf09e65c51",
   "metadata": {},
   "outputs": [],
   "source": []
  },
  {
   "cell_type": "code",
   "execution_count": 12,
   "id": "8520aeb3-0802-4246-904a-ab04658b8de8",
   "metadata": {},
   "outputs": [],
   "source": [
    "class Employee:\n",
    "    def __init__(self, emp_id, name, yearly_salary):\n",
    "        self.emp_id =  emp_id\n",
    "        self.name = name\n",
    "        self.yearly_salary = yearly_salary\n",
    "        \n",
    "    def calculate(self):\n",
    "        bonus = 0.1*self.yearly_salary\n",
    "        return bonus\n",
    "    \n",
    "    def display(self):\n",
    "        print('Employee ID : ', self.emp_id)\n",
    "        print('Employee Name : ', self.name)\n",
    "        print('Yearly Salary : ', self.yearly_salary)\n",
    "        print('Yearly Bonus : ', self.calculate())\n",
    "        \n",
    "        "
   ]
  },
  {
   "cell_type": "code",
   "execution_count": null,
   "id": "96389357-7400-4875-a3f7-185bf0b0dcdd",
   "metadata": {},
   "outputs": [],
   "source": []
  },
  {
   "cell_type": "code",
   "execution_count": null,
   "id": "423a2501-b5c2-450b-bb4f-1979eb79001b",
   "metadata": {},
   "outputs": [],
   "source": []
  },
  {
   "cell_type": "code",
   "execution_count": 15,
   "id": "11528f3e-543d-4776-84ff-3185abee0f84",
   "metadata": {},
   "outputs": [],
   "source": [
    "x = Employee('1322149','Ayonax Nartos', 1000000.0)"
   ]
  },
  {
   "cell_type": "code",
   "execution_count": 16,
   "id": "7dc1bd85-a883-4c5e-8dbe-7688848cd1c2",
   "metadata": {},
   "outputs": [
    {
     "data": {
      "text/plain": [
       "100000.0"
      ]
     },
     "execution_count": 16,
     "metadata": {},
     "output_type": "execute_result"
    }
   ],
   "source": [
    "x.calculate()"
   ]
  },
  {
   "cell_type": "code",
   "execution_count": 17,
   "id": "b556aab6-a493-4096-bc09-66d8c822936e",
   "metadata": {},
   "outputs": [
    {
     "name": "stdout",
     "output_type": "stream",
     "text": [
      "Employee ID :  1322149\n",
      "Employee Name :  Ayonax Nartos\n",
      "Yearly Salary :  1000000.0\n",
      "Yearly Bonus :  100000.0\n"
     ]
    }
   ],
   "source": [
    "x.display()"
   ]
  },
  {
   "cell_type": "code",
   "execution_count": null,
   "id": "5444566c-c9e3-45fd-b740-3d6231ef53fa",
   "metadata": {},
   "outputs": [],
   "source": []
  },
  {
   "cell_type": "code",
   "execution_count": 21,
   "id": "aced3b02-5011-4b2a-8cba-e246c84a01fd",
   "metadata": {},
   "outputs": [],
   "source": [
    "class RentWheels:\n",
    "    def __init__(self):\n",
    "        self.av_vehicles = [\"Car\", \"Truck\", \"Traveller\",\"Motorbike\",\"Bicycle\", \"Truck\"]\n",
    "        self.rented = []\n",
    "        \n",
    "    def availability(self):\n",
    "        print('The vehicles that are available are : ')\n",
    "        for v in self.av_vehicles:\n",
    "            print(v)\n",
    "        \n",
    "    def rent(self, v):\n",
    "        if v in self.av_vehicles:\n",
    "            self.av_vehicles.remove(v)\n",
    "            self.rented.append(v)\n",
    "            print(f'{v} has been rented successfully')\n",
    "        else:\n",
    "            print(f'{v} is not available')\n",
    "            \n",
    "    \n",
    "    def return_vehcile(self,v):\n",
    "        if v in self.rented:\n",
    "            self.rented.remove(v)\n",
    "            self.av_vehicles.append(v)\n",
    "            print(f'{v} has been returned successfully')\n",
    "        \n",
    "        \n",
    "    \n",
    "        else:\n",
    "            print(f'{v} has not been rented from the organization')\n",
    "            \n"
   ]
  },
  {
   "cell_type": "code",
   "execution_count": 22,
   "id": "f9b61b41-d2be-42d5-901b-dd31141750a1",
   "metadata": {},
   "outputs": [],
   "source": [
    "vx = RentWheels()"
   ]
  },
  {
   "cell_type": "code",
   "execution_count": 24,
   "id": "18a4c470-3059-41bf-99e0-29b6189bf80e",
   "metadata": {},
   "outputs": [
    {
     "name": "stdout",
     "output_type": "stream",
     "text": [
      "The vehicles that are available are : \n",
      "Car\n",
      "Truck\n",
      "Traveller\n",
      "Motorbike\n",
      "Bicycle\n",
      "Truck\n"
     ]
    }
   ],
   "source": [
    "vx.availability()"
   ]
  },
  {
   "cell_type": "code",
   "execution_count": 26,
   "id": "bb27fd05-89e6-4c09-b22d-ecaf5a85b8ac",
   "metadata": {},
   "outputs": [
    {
     "name": "stdout",
     "output_type": "stream",
     "text": [
      "Car has been rented successfully\n"
     ]
    }
   ],
   "source": [
    "vx.rent('Car')"
   ]
  },
  {
   "cell_type": "code",
   "execution_count": 28,
   "id": "c66e0c82-c4d7-46c6-bd79-18a86666c90d",
   "metadata": {},
   "outputs": [
    {
     "name": "stdout",
     "output_type": "stream",
     "text": [
      "Car has been returned successfully\n"
     ]
    }
   ],
   "source": [
    "vx.return_vehcile('Car')"
   ]
  },
  {
   "cell_type": "code",
   "execution_count": null,
   "id": "e0f2f5bf-0cff-4b43-8ad4-a78593bc3949",
   "metadata": {},
   "outputs": [],
   "source": []
  },
  {
   "cell_type": "code",
   "execution_count": null,
   "id": "ce5a598a-5318-49f6-bd2e-f2947c431d21",
   "metadata": {},
   "outputs": [],
   "source": []
  },
  {
   "cell_type": "code",
   "execution_count": 1,
   "id": "b5ccb796-b01a-4501-9a58-25de085bec1d",
   "metadata": {},
   "outputs": [],
   "source": [
    "class Book:\n",
    "    def __init__(self,title,author):\n",
    "        self.title = title\n",
    "        self.author = author\n",
    "        self.av = True\n",
    "        \n",
    "    def fetch_title(self):\n",
    "        return self.title\n",
    "    \n",
    "    def fetch_author(self):\n",
    "        return self.author\n",
    "    \n",
    "    def check_availability(self):\n",
    "        return self.av\n",
    "    \n",
    "    def borrow(self):\n",
    "        if self.av == True:\n",
    "            self.av == False\n",
    "            print(f'{self.title} by {self.author} has been borrowed')\n",
    "            \n",
    "        else:\n",
    "            print(f'{self.title} by {self.author} is not available.')\n",
    "        \n",
    "    \n",
    "    def returnbook(self):\n",
    "        self.av == True\n",
    "        print(f'{self.title} by {self.author} has been returned.')\n",
    "        \n",
    "        \n",
    "        \n",
    "class Library:\n",
    "    def __init__(self):\n",
    "        self.books = []\n",
    "        \n",
    "    def addbook(self,book):\n",
    "        self.books.append(book)\n",
    "        print(f'{book.title} by {book.author} has been added')\n",
    "        \n",
    "        \n",
    "    def display(self):\n",
    "        print('All books that are availabl')\n",
    "        for book in self.books:\n",
    "            if book.check_availability():\n",
    "                print(f'{book.title} by {book.author}')\n",
    "    \n",
    "    def borrowbook(self,title):\n",
    "        for book in self.books:\n",
    "            if book.fetch_title() == title:\n",
    "                book.borrowbook() #calling borrowbook method to remove the book from the list\n",
    "                self.books.remove(book)\n",
    "                return\n",
    "            \n",
    "        print(f'{title} is not available in the library')\n",
    "        \n",
    "        \n",
    "        \n",
    "    def returnbook(self, title):\n",
    "        for book in self.books:\n",
    "            if book.fetch_title() == title:\n",
    "                print('You have not borrowed this book')\n",
    "                return\n",
    "            \n",
    "            book = Book(title, \"\")\n",
    "            book.returnbook()\n",
    "            self.books.append(book)\n",
    "            \n",
    "            \n",
    "    "
   ]
  },
  {
   "cell_type": "code",
   "execution_count": 2,
   "id": "9976c0e8-cac4-42ef-903c-497e71a12d28",
   "metadata": {},
   "outputs": [],
   "source": [
    "lib = Library()"
   ]
  },
  {
   "cell_type": "code",
   "execution_count": 3,
   "id": "f6ab3404-c9de-405c-89c7-0cccfb659b7d",
   "metadata": {},
   "outputs": [],
   "source": [
    "book1 = Book('The Merchant of Venice', 'Shakespeare')\n",
    "book2 = Book('The Great Gatsby', 'Ottox')\n",
    "book3 = Book('The War of Worlds', 'Alein Koll')"
   ]
  },
  {
   "cell_type": "code",
   "execution_count": 4,
   "id": "a78b3c33-baf1-44a0-8b75-8b35eafff8bc",
   "metadata": {},
   "outputs": [
    {
     "name": "stdout",
     "output_type": "stream",
     "text": [
      "The Merchant of Venice by Shakespeare has been added\n",
      "The Great Gatsby by Ottox has been added\n",
      "The War of Worlds by Alein Koll has been added\n"
     ]
    }
   ],
   "source": [
    "lib.addbook(book1)\n",
    "lib.addbook(book2)\n",
    "lib.addbook(book3)"
   ]
  },
  {
   "cell_type": "code",
   "execution_count": 5,
   "id": "7bcebfe4-1e9c-49e2-be28-9fcd6dc99909",
   "metadata": {},
   "outputs": [
    {
     "name": "stdout",
     "output_type": "stream",
     "text": [
      "All books that are availabl\n",
      "The Merchant of Venice by Shakespeare\n",
      "The Great Gatsby by Ottox\n",
      "The War of Worlds by Alein Koll\n"
     ]
    }
   ],
   "source": [
    "lib.display()"
   ]
  },
  {
   "cell_type": "code",
   "execution_count": 10,
   "id": "46c589e9-2960-499a-abd5-612f174cb648",
   "metadata": {},
   "outputs": [],
   "source": [
    "book1 = Library()"
   ]
  },
  {
   "cell_type": "code",
   "execution_count": 12,
   "id": "6526a4f7-61c1-419e-9451-23626a23bb9d",
   "metadata": {},
   "outputs": [
    {
     "name": "stdout",
     "output_type": "stream",
     "text": [
      "The Merchant of Venice is not available in the library\n"
     ]
    }
   ],
   "source": [
    "book1.borrowbook('The Merchant of Venice')"
   ]
  },
  {
   "cell_type": "code",
   "execution_count": 13,
   "id": "a603843e-1b0c-4272-a407-0351c9aa6433",
   "metadata": {},
   "outputs": [
    {
     "name": "stdout",
     "output_type": "stream",
     "text": [
      "All books that are availabl\n",
      "The Merchant of Venice by Shakespeare\n",
      "The Great Gatsby by Ottox\n",
      "The War of Worlds by Alein Koll\n"
     ]
    }
   ],
   "source": [
    "lib.display()"
   ]
  },
  {
   "cell_type": "code",
   "execution_count": null,
   "id": "f603018c-457f-4b92-aac6-5a88809ef22c",
   "metadata": {},
   "outputs": [],
   "source": []
  },
  {
   "cell_type": "code",
   "execution_count": null,
   "id": "7efd0da7-198d-4e8c-b726-78daa1f127cf",
   "metadata": {},
   "outputs": [],
   "source": []
  },
  {
   "cell_type": "code",
   "execution_count": 20,
   "id": "b0131eb2-3123-4e18-84f5-61922249c0b8",
   "metadata": {},
   "outputs": [],
   "source": [
    "class Product: # Defining a class Product to represent a product with attributes like product_id, name, price, and quantity.\n",
    "    def __init__(self,product_id,name,price,quantity):\n",
    "        # Initializing the attributes of the Product's instances\n",
    "        self.product_id = product_id\n",
    "        self.name = name\n",
    "        self.price = price\n",
    "        self.quantity = quantity\n",
    "        \n",
    "        \n",
    "        # Defining a string representation for the Product instance.\n",
    "        def __str__(self):\n",
    "            return f\"Product ID : {self.product_id}, Name : {self.name}, Price : ${self.pridce:2f}, Quantity : {self.quantity}\"\n",
    "        \n",
    "class Inventory:\n",
    "    def __init__(self):\n",
    "        self.products = {}\n",
    "        \n",
    "    def addproduct(self,product):\n",
    "        if product.product_id in self.products:\n",
    "            print(f'Product with ID {product.product_id} already exists')\n",
    "            \n",
    "        else:\n",
    "            self.products[product.product_id] = product\n",
    "            print(f'{product.name} has been added to the inventory')\n",
    "            \n",
    "    def updatep(self, product_id, newquant):\n",
    "        if product_id in self.products:\n",
    "            self.products[product_id].quantity = newquant\n",
    "            print(f'Quantity of {self.products[product_id].name} has been updated')\n",
    "        else:\n",
    "            print(f'Product with ID {product_id} does not exist')\n",
    "            \n",
    "    def displayx(self):\n",
    "        print(\"Available Products are : \")\n",
    "        for product in self.products.values():\n",
    "            print(product)\n",
    "            \n",
    "if __name__ == (\"__main__\"):\n",
    "    inventory = Inventory()\n",
    "    product1 = Product(1, \"Macbook Air\", 999.99, 10)\n",
    "    product2 = Product(2, \"Macbook Air Lite\", 749.99, 10)\n",
    "    product3 = Product(3, \"Macbook Air Pro\", 1599.99, 29)\n",
    "    product4 = Product(4, \"Macbook Air Sonic\", 1099.99, 128)\n",
    "    product5 = Product(5, \"Macbook Air X\", 2099.99, 100)"
   ]
  },
  {
   "cell_type": "code",
   "execution_count": 23,
   "id": "17cd9ef7-2296-4576-a403-b48dbab779e6",
   "metadata": {},
   "outputs": [
    {
     "name": "stdout",
     "output_type": "stream",
     "text": [
      "Macbook Air has been added to the inventory\n",
      "Macbook Air Lite has been added to the inventory\n",
      "Macbook Air Pro has been added to the inventory\n",
      "Macbook Air Sonic has been added to the inventory\n",
      "Macbook Air X has been added to the inventory\n"
     ]
    }
   ],
   "source": [
    "    inventory.addproduct(product1)\n",
    "    inventory.addproduct(product2)\n",
    "    inventory.addproduct(product3)\n",
    "    inventory.addproduct(product4)\n",
    "    inventory.addproduct(product5)"
   ]
  },
  {
   "cell_type": "code",
   "execution_count": 24,
   "id": "71860426-9876-4d73-a84e-be3890ca9f41",
   "metadata": {},
   "outputs": [
    {
     "name": "stdout",
     "output_type": "stream",
     "text": [
      "Available Products are : \n",
      "<__main__.Product object at 0x7f97541e2320>\n",
      "<__main__.Product object at 0x7f9757432050>\n",
      "<__main__.Product object at 0x7f97541e2080>\n",
      "<__main__.Product object at 0x7f97541e1f00>\n",
      "<__main__.Product object at 0x7f97541e1c60>\n"
     ]
    }
   ],
   "source": [
    "inventory.displayx()"
   ]
  },
  {
   "cell_type": "code",
   "execution_count": 25,
   "id": "59c26244-1fb3-48de-a980-85efe1b8d8d1",
   "metadata": {},
   "outputs": [
    {
     "name": "stdout",
     "output_type": "stream",
     "text": [
      "Quantity of Macbook Air Pro has been updated\n",
      "Product with ID 6 does not exist\n"
     ]
    }
   ],
   "source": [
    "\n",
    "    inventory.updatep(3, 30)\n",
    "    inventory.updatep(6, 20)  "
   ]
  },
  {
   "cell_type": "code",
   "execution_count": 24,
   "id": "bc82e0ab-ab02-4cec-ba03-35793eb39e31",
   "metadata": {},
   "outputs": [],
   "source": [
    "# Define a base class called \"Shape\" to represent a shape with attributes length, breadth, and height.\n",
    "class Shape:\n",
    "    def __init__(self, length, breadth, height=None):\n",
    "        self.length = length\n",
    "        self.breadth = breadth\n",
    "        self.height = height\n",
    "\n",
    "    def cal_area(self):\n",
    "        pass\n",
    "\n",
    "    def cal_perimeter(self):\n",
    "        pass\n",
    "\n",
    "    def cal_volume(self):\n",
    "        pass\n",
    "\n",
    "# Define a class \"Rectangle\" which is a subclass of \"Shape.\"\n",
    "class Rectangle(Shape):\n",
    "    def cal_area(self):\n",
    "        return self.length * self.breadth\n",
    "\n",
    "    def cal_perimeter(self):\n",
    "        return 2 * (self.length + self.breadth)\n",
    "\n",
    "# Define a class \"Square\" which is a subclass of \"Rectangle.\"\n",
    "class Square(Rectangle):\n",
    "    def __init__(self, side_length):\n",
    "        super().__init__(side_length, side_length)\n",
    "\n",
    "# Define a class \"Triangle\" which is a subclass of \"Shape.\"\n",
    "class Triangle(Shape):\n",
    "    def cal_area(self):\n",
    "        return 1/2* self.breadth * self.height\n",
    "\n",
    "# Define a class \"Circle\" which is a subclass of \"Shape.\"\n",
    "class Circle(Shape):\n",
    "    def cal_area(self):\n",
    "        import math\n",
    "        return math.pi * ((self.length) / 2) ** 2\n",
    "\n",
    "    def cal_perimeter(self):\n",
    "        import math\n",
    "        return 2 * math.pi * self.length\n",
    "\n",
    "# Define a class \"Cuboid\" which is a subclass of \"Shape.\"\n",
    "class Cuboid(Shape):\n",
    "    def cal_area(self):\n",
    "        return 2 * ((self.length * self.height) + (self.height * self.breadth) + (self.breadth * self.length))\n",
    "\n",
    "    def cal_perimeter(self):\n",
    "        return 4 * (self.length + self.breadth + self.height)\n",
    "\n",
    "# Define a class \"Sphere\" which is a subclass of \"Shape.\"\n",
    "class Sphere(Shape):\n",
    "    def cal_volume(self):\n",
    "        import math\n",
    "        return (4 / 3) * math.pi * (self.length / 2) ** 3\n",
    "\n",
    "\n"
   ]
  },
  {
   "cell_type": "code",
   "execution_count": 18,
   "id": "dcaa84be-7cdf-4468-a7c2-1bdae2bbd7c2",
   "metadata": {},
   "outputs": [
    {
     "name": "stdout",
     "output_type": "stream",
     "text": [
      " Area : 115\n",
      " Perimeter : 56\n",
      " Area : 529\n",
      " Perimter : 92\n"
     ]
    }
   ],
   "source": [
    "rectangle = Rectangle(23,5)\n",
    "print(f\" Area : {rectangle.cal_area()}\")\n",
    "print(f\" Perimeter : {rectangle.cal_perimeter()}\")\n",
    "\n",
    "square = Square(23)\n",
    "print(f\" Area : {square.cal_area()}\")\n",
    "print(f\" Perimter : {square.cal_perimeter()}\")"
   ]
  },
  {
   "cell_type": "code",
   "execution_count": null,
   "id": "a2573b0f-2159-45af-b287-e022b4446768",
   "metadata": {},
   "outputs": [],
   "source": []
  },
  {
   "cell_type": "code",
   "execution_count": null,
   "id": "bb485028-3932-48fe-87ff-02b6c331c3af",
   "metadata": {},
   "outputs": [],
   "source": []
  },
  {
   "cell_type": "code",
   "execution_count": 22,
   "id": "d9a4931a-9dcd-4362-85a9-efcd54f8cbf8",
   "metadata": {},
   "outputs": [],
   "source": []
  },
  {
   "cell_type": "code",
   "execution_count": 34,
   "id": "4d8e96cd-b382-4f37-8e11-c0655e641114",
   "metadata": {},
   "outputs": [
    {
     "name": "stdout",
     "output_type": "stream",
     "text": [
      "Area: 19.2\n",
      "\n",
      "Area: 63.61725123519331\n",
      "Perimeter: 28.274333882308138\n",
      "Area of Cuboid : 1012\n"
     ]
    }
   ],
   "source": [
    "# Define a base class called \"Shape\" to represent a shape with attributes length, breadth, and height.\n",
    "class Shape:\n",
    "    def __init__(self, length, breadth, height=None):\n",
    "        self.length = length\n",
    "        self.breadth = breadth\n",
    "        self.height = height\n",
    "\n",
    "    def cal_area(self):\n",
    "        pass\n",
    "\n",
    "    def cal_perimeter(self):\n",
    "        pass\n",
    "\n",
    "    def cal_volume(self):\n",
    "        pass\n",
    "\n",
    "# Define a class \"Rectangle\" which is a subclass of \"Shape.\"\n",
    "class Rectangle(Shape):\n",
    "    def cal_area(self):\n",
    "        return self.length * self.breadth\n",
    "\n",
    "    def cal_perimeter(self):\n",
    "        return 2 * (self.length + self.breadth)\n",
    "\n",
    "# Define a class \"Square\" which is a subclass of \"Rectangle.\"\n",
    "class Square(Rectangle):\n",
    "    def __init__(self, side_length):\n",
    "        super().__init__(side_length, side_length)\n",
    "\n",
    "# Define a class \"Triangle\" which is a subclass of \"Shape.\"\n",
    "class Triangle(Shape):\n",
    "    def cal_area(self):\n",
    "        return 0.5 * self.breadth * self.height\n",
    "\n",
    "# Define a class \"Circle\" which is a subclass of \"Shape.\"\n",
    "class Circle(Shape):\n",
    "    def cal_area(self):\n",
    "        import math\n",
    "        return math.pi * ((self.length) / 2) ** 2\n",
    "\n",
    "    def cal_perimeter(self):\n",
    "        import math\n",
    "        return 2 * math.pi * (self.length / 2)\n",
    "\n",
    "# Define a class \"Cuboid\" which is a subclass of \"Shape.\"\n",
    "class Cuboid(Shape):\n",
    "    def cal_area(self):\n",
    "        return 2 * ((self.length * self.height) + (self.height * self.breadth) + (self.breadth * self.length))\n",
    "\n",
    "    def cal_perimeter(self):\n",
    "        return 4 * (self.length + self.breadth + self.height)\n",
    "\n",
    "# Define a class \"Sphere\" which is a subclass of \"Shape.\"\n",
    "class Sphere(Shape):\n",
    "    def cal_volume(self):\n",
    "        import math\n",
    "        return (4 / 3) * math.pi * (self.length / 2) ** 3\n",
    "\n",
    "# Create an instance of the Triangle class with specified dimensions (breadth and height).\n",
    "# Create an instance of the Triangle class with specified dimensions (breadth and height).\n",
    "triangle = Triangle(0,4.8, 8.0)\n",
    "\n",
    "# Check if height is provided and calculate and display the area of the triangle.\n",
    "if triangle.height is not None:\n",
    "    print(f\"Area: {triangle.cal_area()}\\n\")\n",
    "else:\n",
    "    print(\"Height is not provided, cannot calculate the area of the triangle.\")\n",
    "# Create an instance of the Circle class with the specified length (radius).\n",
    "circle = Circle(9,0,0)\n",
    "\n",
    "# Calculate and display the area and perimeter of the circle.\n",
    "print(f\"Area: {circle.cal_area()}\")\n",
    "print(f\"Perimeter: {circle.cal_perimeter()}\")\n",
    "\n",
    "cuboid = Cuboid(12,13,14)\n",
    "print(f\"Area of Cuboid : {cuboid.cal_area()}\")\n"
   ]
  },
  {
   "cell_type": "code",
   "execution_count": null,
   "id": "e25b7901-d496-4445-9349-43fa8dde0db5",
   "metadata": {},
   "outputs": [],
   "source": []
  },
  {
   "cell_type": "code",
   "execution_count": null,
   "id": "f02afb8f-22a4-41e9-9923-e547a280a9d0",
   "metadata": {},
   "outputs": [],
   "source": [
    "\n"
   ]
  },
  {
   "cell_type": "code",
   "execution_count": 38,
   "id": "1920073d-45ee-4a49-a36a-b3e2b560b243",
   "metadata": {},
   "outputs": [
    {
     "name": "stdout",
     "output_type": "stream",
     "text": [
      "Student ID :  1\n",
      "Student Name :  John Baptist\n",
      "Grades :  90,70,84,88,10\n",
      "Average Grade :  68.4\n"
     ]
    }
   ],
   "source": [
    "class Student:\n",
    "    def __init__(self, student_id, name):\n",
    "        self.student_id = student_id\n",
    "        self.name = name\n",
    "        self.grades = []\n",
    "        \n",
    "    def addgrades(self,grade):\n",
    "        self.grades.append(grade)\n",
    "        \n",
    "    def calculate_avg(self):\n",
    "        if len(self.grades)<0:\n",
    "            return 0\n",
    "        else:\n",
    "            total = sum(self.grades)\n",
    "            return total/(len(self.grades))\n",
    "        \n",
    "    def displayx(self):\n",
    "        print(f\"Student ID : \", self.student_id)\n",
    "        print(f\"Student Name : \", self.name)\n",
    "        if len(self.grades)>0:\n",
    "            print(\"Grades : \", \",\".join(map(str, self.grades)))\n",
    "            print(\"Average Grade : \", self.calculate_avg())\n",
    "        else:\n",
    "            print(\"Insufficient Data\")\n",
    "            \n",
    "            \n",
    "student1 = Student(1, \"John Baptist\")\n",
    "student1.addgrades(90)\n",
    "student1.addgrades(70)\n",
    "student1.addgrades(84)\n",
    "student1.addgrades(88)\n",
    "student1.addgrades(10)\n",
    "\n",
    "student1.displayx()\n",
    "            \n",
    "    \n",
    "            \n",
    "            \n",
    "        \n",
    "        "
   ]
  },
  {
   "cell_type": "code",
   "execution_count": null,
   "id": "9f08db70-1d76-4500-98ed-4df77881afeb",
   "metadata": {},
   "outputs": [],
   "source": []
  },
  {
   "cell_type": "code",
   "execution_count": null,
   "id": "3a86ff3b-f53b-4fce-854e-f9dc86d8dc0b",
   "metadata": {},
   "outputs": [],
   "source": []
  },
  {
   "cell_type": "code",
   "execution_count": 40,
   "id": "66425ff3-b64c-4790-959a-afb75b957aa5",
   "metadata": {},
   "outputs": [],
   "source": [
    "email = Email(sender=\"social.fwesolutions@gmail.com\",recipient=\"aniketghosh.norfwfkldwkdrloxsolufwefwftions@gmail.com\",subject=\"Intro\")"
   ]
  },
  {
   "cell_type": "code",
   "execution_count": 39,
   "id": "b58f7660-bcde-4d12-b37c-1f4f3ff72639",
   "metadata": {},
   "outputs": [],
   "source": [
    "import smtplib\n",
    "\n",
    "class Email:\n",
    "    def __init__(self,sender,recipient,subject):\n",
    "        self.sender = sender\n",
    "        self.recipient = recipient\n",
    "        self.subject = subject\n",
    "        self.message = None\n",
    "        \n",
    "    def email_composition(self,message):\n",
    "        self.message = message\n",
    "        \n",
    "    def send_mail(self,smtp_server,smtp_port,sender_email,sender_password):\n",
    "        if not self.message:\n",
    "            print('Email not composed. Please compose it properly')\n",
    "            return\n",
    "        \n",
    "        try:\n",
    "            with smtplib.SMTP(smtp_server,smtp_port) as server:\n",
    "                server.starttls()\n",
    "                server.login(sender_email,sender_password)\n",
    "                \n",
    "                emailcontent = f\"From : {self.sender}\\nTo : {self.recipient}\\nSubject : {self.subject}\\n\\n{self.message}\"\n",
    "                server.sendmail(sender_email,self.recipient,emailcontent)\n",
    "                \n",
    "                print(\"Email has been sent successfully\")\n",
    "                \n",
    "        except Exception as e:\n",
    "                print(\"An error has occured while sendjng the email : \", str(e))\n",
    "                \n",
    "           \n",
    "    def display_details(self):\n",
    "        print(\"Sender : \", self.sender)\n",
    "        print(\"Recipient : \", self.recipient)\n",
    "        print(\"Subject : \", self.subject)\n",
    "        if self.message:\n",
    "            print(\"Message : \", self.message)\n",
    "        else:\n",
    "            print(\"Message was not composed.\")\n",
    "        \n",
    "        \n",
    "        \n",
    "                \n",
    "             \n",
    "    \n",
    "        \n",
    "    "
   ]
  },
  {
   "cell_type": "code",
   "execution_count": 41,
   "id": "69054275-a346-4097-8e88-41b7bc0b2ab5",
   "metadata": {},
   "outputs": [],
   "source": [
    "email.email_composition(\"This is a message\")"
   ]
  },
  {
   "cell_type": "code",
   "execution_count": null,
   "id": "68771efc-ffc4-44a3-8932-6f67b86e94da",
   "metadata": {},
   "outputs": [],
   "source": [
    "smtp_server = \"xxxx.com\"\n",
    "smtp_port =  663\n",
    "sender_email = \"efeifiowef@gmail.com\"\n",
    "sender_password = \"webfiuoifnoinnnnn\"\n",
    "\n",
    "email.send_mail(smtp_server, smtp_port,sender_email,sender_password)\n",
    "\n",
    "email.display_details()"
   ]
  },
  {
   "cell_type": "code",
   "execution_count": null,
   "id": "603ceddf-cac2-4ae0-9de7-254407984886",
   "metadata": {},
   "outputs": [],
   "source": []
  },
  {
   "cell_type": "code",
   "execution_count": null,
   "id": "c3e915c5-599f-4ba2-90a0-4aeb27204f3d",
   "metadata": {},
   "outputs": [],
   "source": []
  },
  {
   "cell_type": "code",
   "execution_count": 44,
   "id": "5413b260-0e19-41b9-9e40-02402ce21b5b",
   "metadata": {},
   "outputs": [],
   "source": [
    "class MediaProfile:\n",
    "    def __init__(self,username):\n",
    "        self.username = username\n",
    "        self.posts = []\n",
    "        \n",
    "    def addpost(self,post_content):\n",
    "        self.posts.append(post_content)\n",
    "        \n",
    "    def display_posts(self):\n",
    "        if not self.posts:\n",
    "            print(f\"{self.username} has not uploaded anything\")\n",
    "        else:\n",
    "            print(f\"Posts by {self.username} are as follows :-\")\n",
    "            for i,post in enumerate(self.posts, start=1):\n",
    "                print(f\"{i}.{post}\")\n",
    "                \n",
    "                \n",
    "    def search_posts(self,keyword):\n",
    "        matching_posts = [post for post in self.posts if keyword.lower() in post.lower()]\n",
    "        if not matching_posts:\n",
    "            print(f\"No matching posts for the keyword {keyword} was found for the user {self.username}\")\n",
    "        else:\n",
    "            print(f\"Posts found for the user {self.username} for the keyword {keyword}\")\n",
    "            for i, post in enumerate(matching_posts,start=1):\n",
    "                print(f\"{i}. {post}\")\n",
    "        \n",
    "                \n",
    "        \n",
    "    \n",
    "                \n",
    "            \n",
    "        \n",
    "    "
   ]
  },
  {
   "cell_type": "code",
   "execution_count": 45,
   "id": "df882e53-c396-4591-a2ed-1ee9c9b6b265",
   "metadata": {},
   "outputs": [],
   "source": [
    "profile = MediaProfile(username=\"jxhnxname\")"
   ]
  },
  {
   "cell_type": "code",
   "execution_count": 46,
   "id": "7670cafa-8cdd-4005-a975-ee42a294bcb5",
   "metadata": {},
   "outputs": [
    {
     "name": "stdout",
     "output_type": "stream",
     "text": [
      "Posts by jxhnxname are as follows :-\n",
      "1.Hello, Welcome to facts about roses\n",
      "2.Roses can be of various flowers\n",
      "3.Paint roses for the people you love\n",
      "Posts found for the user jxhnxname for the keyword roses\n",
      "1. Hello, Welcome to facts about roses\n",
      "2. Roses can be of various flowers\n",
      "3. Paint roses for the people you love\n"
     ]
    }
   ],
   "source": [
    "profile.addpost(\"Hello, Welcome to facts about roses\")\n",
    "profile.addpost(\"Roses can be of various flowers\")\n",
    "profile.addpost(\"Paint roses for the people you love\")\n",
    "\n",
    "profile.display_posts()\n",
    "profile.search_posts('roses')"
   ]
  },
  {
   "cell_type": "code",
   "execution_count": null,
   "id": "7368ee22-acbc-47c0-9039-f445f8e3093f",
   "metadata": {},
   "outputs": [],
   "source": []
  },
  {
   "cell_type": "code",
   "execution_count": null,
   "id": "ceabde28-3892-49ef-8758-85b63dcc9621",
   "metadata": {},
   "outputs": [],
   "source": []
  },
  {
   "cell_type": "code",
   "execution_count": 10,
   "id": "160eb0cf-83a0-4a1b-8223-654f9fcbf0ef",
   "metadata": {},
   "outputs": [],
   "source": [
    "class ToDoList:\n",
    "    def __init__(self):\n",
    "        self.tasks = []\n",
    "        self.tasks_completed = []\n",
    "        \n",
    "    def add_task(self,task,due_date):\n",
    "        \n",
    "        self.tasks.append({\"task\" : task, \"due_date\" : due_date})\n",
    "        \n",
    "    def mark_completion(self,task):\n",
    "        \n",
    "        for done_task in self.tasks:\n",
    "            if done_task[\"task\"] == task:\n",
    "                self.tasks_completed.append(done_task)\n",
    "                self.tasks.remove(done_task)\n",
    "                return\n",
    "            \n",
    "    def show_remaining_tasks(self): \n",
    "        print('The remaining tasks are : ')\n",
    "        for task in self.tasks:\n",
    "            print(f\"Task : {task['task']}, Due Date : {task['due_date']}\")\n",
    "            \n",
    "    def show_completed_tasks(self):\n",
    "        print('The completed tasks are : ')\n",
    "        for task in self.tasks_completed:\n",
    "            print(f\"Task : {task['task']}, Due Date : {task['due_date']}\")\n",
    "            \n",
    "            \n",
    "                \n",
    "            \n",
    "        "
   ]
  },
  {
   "cell_type": "code",
   "execution_count": 11,
   "id": "06f09ebc-cd45-4de4-8092-0cbb11b84153",
   "metadata": {},
   "outputs": [],
   "source": [
    "todo = ToDoList()"
   ]
  },
  {
   "cell_type": "code",
   "execution_count": 13,
   "id": "6c838fe1-f387-471d-881e-3f24b479e502",
   "metadata": {},
   "outputs": [],
   "source": [
    "todo.add_task(\"Buy Wallet\",\"04-09-2018\")\n",
    "todo.add_task(\"Water the plants\",\"05-09-2018\")\n",
    "todo.add_task(\"Take Dog to Vet\",\"09-09-2018\")"
   ]
  },
  {
   "cell_type": "code",
   "execution_count": 14,
   "id": "b4ce3e39-d473-436e-b8a3-33b709137beb",
   "metadata": {},
   "outputs": [
    {
     "name": "stdout",
     "output_type": "stream",
     "text": [
      "The remaining tasks are : \n",
      "Task : Buy Wallet, Due Date : 04-09-2018\n",
      "Task : Water the plants, Due Date : 05-09-2018\n",
      "Task : Take Dog to Vet, Due Date : 09-09-2018\n"
     ]
    }
   ],
   "source": [
    "todo.show_remaining_tasks()"
   ]
  },
  {
   "cell_type": "code",
   "execution_count": 15,
   "id": "8eee1ef8-9da8-4954-a178-907b13f5b327",
   "metadata": {},
   "outputs": [],
   "source": [
    "todo.mark_completion(\"Buy Wallet\")"
   ]
  },
  {
   "cell_type": "code",
   "execution_count": 16,
   "id": "ced8295b-bc51-4645-aa86-cb24017c1852",
   "metadata": {},
   "outputs": [
    {
     "name": "stdout",
     "output_type": "stream",
     "text": [
      "The completed tasks are : \n",
      "Task : Buy Wallet, Due Date : 04-09-2018\n"
     ]
    }
   ],
   "source": [
    "todo.show_completed_tasks()"
   ]
  },
  {
   "cell_type": "code",
   "execution_count": 17,
   "id": "e77c377b-65ba-4903-9374-e8601fbd9fa3",
   "metadata": {},
   "outputs": [
    {
     "name": "stdout",
     "output_type": "stream",
     "text": [
      "The remaining tasks are : \n",
      "Task : Water the plants, Due Date : 05-09-2018\n",
      "Task : Take Dog to Vet, Due Date : 09-09-2018\n"
     ]
    }
   ],
   "source": [
    "todo.show_remaining_tasks()"
   ]
  },
  {
   "cell_type": "code",
   "execution_count": null,
   "id": "7a4d0355-0d7f-4be8-8c10-635afbe19137",
   "metadata": {},
   "outputs": [],
   "source": []
  }
 ],
 "metadata": {
  "kernelspec": {
   "display_name": "Python 3 (ipykernel)",
   "language": "python",
   "name": "python3"
  },
  "language_info": {
   "codemirror_mode": {
    "name": "ipython",
    "version": 3
   },
   "file_extension": ".py",
   "mimetype": "text/x-python",
   "name": "python",
   "nbconvert_exporter": "python",
   "pygments_lexer": "ipython3",
   "version": "3.10.8"
  }
 },
 "nbformat": 4,
 "nbformat_minor": 5
}
