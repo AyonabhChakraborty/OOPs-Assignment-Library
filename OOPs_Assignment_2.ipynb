{
 "cells": [
  {
   "cell_type": "markdown",
   "id": "7fc02766-bd9b-42c7-8c20-0d7a8d41f436",
   "metadata": {},
   "source": [
    "CONSTRUCTOR\n"
   ]
  },
  {
   "cell_type": "markdown",
   "id": "dfd98d15-49f3-44fa-bbb7-9df8e992b850",
   "metadata": {},
   "source": [
    "A constructor is a special method within a class that is used to initialize objects of that class. The constructor method is named __init__ and it is automatically called when you create a new instance of a class. Its purpose is to set initial values and attributes for the object, allowing you to customize the behavior and state of the object when it's created."
   ]
  },
  {
   "cell_type": "code",
   "execution_count": 1,
   "id": "9b1fae1d-db25-4a68-bf73-0840dbec48ca",
   "metadata": {},
   "outputs": [
    {
     "name": "stdout",
     "output_type": "stream",
     "text": [
      "Amul\n",
      "Chocolate\n",
      "$2.79\n"
     ]
    }
   ],
   "source": [
    "class Cor:\n",
    "    def __init__(self,company_name,ice_cream_flavour,price):\n",
    "        self.company_name = company_name\n",
    "        self.ice_cream_flavour = ice_cream_flavour\n",
    "        self.price = price\n",
    "        \n",
    "icecream = Cor(\"Amul\",\"Chocolate\",\"$2.79\")\n",
    "\n",
    "print(icecream.company_name)\n",
    "print(icecream.ice_cream_flavour)\n",
    "print(icecream.price)\n",
    "        \n"
   ]
  },
  {
   "cell_type": "code",
   "execution_count": null,
   "id": "71e98e94-c68b-46cb-a373-6ba4227a9b36",
   "metadata": {},
   "outputs": [],
   "source": []
  },
  {
   "cell_type": "code",
   "execution_count": null,
   "id": "144b2f3f-c59f-4d54-bc80-f2aaeb1aa330",
   "metadata": {},
   "outputs": [],
   "source": []
  },
  {
   "cell_type": "markdown",
   "id": "7134f3ec-f86f-4513-847f-50aa269723da",
   "metadata": {},
   "source": [
    "Parameterless Constructor:\n",
    "\n",
    "Also known as the default constructor or the no-argument constructor.\n",
    "It has the special method name __init__, but it doesn't take any additional parameters beyond the self parameter, which is a reference to the instance of the class.\n",
    "It is automatically called when you create a new instance of the class.\n",
    "A parameterless constructor typically initializes default values or sets up the object with some predefined values."
   ]
  },
  {
   "cell_type": "code",
   "execution_count": 8,
   "id": "0dc44014-e905-45db-875b-a72c59135c72",
   "metadata": {},
   "outputs": [],
   "source": [
    "class Boy:\n",
    "    def __init__(self):\n",
    "        self.name = \"Ramesh Roshan\"\n",
    "        self.age = 79\n",
    "        \n",
    "\n"
   ]
  },
  {
   "cell_type": "markdown",
   "id": "c04b66b6-4583-435d-bba5-5d5300b75a6a",
   "metadata": {},
   "source": [
    "Parameterized Constructor:\n",
    "\n",
    "Also known as a parameterized constructor, a parameterized initializer, or an argument constructor.\n",
    "It takes additional parameters alongside the self parameter, allowing you to pass values during the object's creation.\n",
    "The purpose of a parameterized constructor is to customize the initial state of the object by accepting external input and assigning it to object attributes.\n",
    "It provides more flexibility in creating objects with different initial states."
   ]
  },
  {
   "cell_type": "code",
   "execution_count": 4,
   "id": "61aae428-9d7b-44f5-8f88-c1467a7737b5",
   "metadata": {},
   "outputs": [],
   "source": [
    "class Area:\n",
    "    def __init__(self,length,breadth):\n",
    "        self.length = length\n",
    "        self.breadth =  breadth\n",
    "        \n",
    "        \n",
    "        \n",
    "rectangle = Area(11,22)\n",
    "\n"
   ]
  },
  {
   "cell_type": "code",
   "execution_count": null,
   "id": "f2d8f919-1c16-4783-be91-7a1ab7586918",
   "metadata": {},
   "outputs": [],
   "source": []
  },
  {
   "cell_type": "code",
   "execution_count": null,
   "id": "3164134d-d35d-480c-8041-bad8715f0792",
   "metadata": {},
   "outputs": [],
   "source": []
  },
  {
   "cell_type": "markdown",
   "id": "f149faf3-0ce5-43fc-954d-094d3f41d0ce",
   "metadata": {},
   "source": [
    "\n",
    "In Python, we define a constructor in a class by creating a special method called __init__. This method is automatically called when we create a new instance of the class. "
   ]
  },
  {
   "cell_type": "code",
   "execution_count": 5,
   "id": "ea29d4d1-c585-45a2-bfb4-d8d9cf9f4f7e",
   "metadata": {},
   "outputs": [
    {
     "name": "stdout",
     "output_type": "stream",
     "text": [
      "Atin\n",
      "30\n"
     ]
    }
   ],
   "source": [
    "class Details:\n",
    "    def __init__(self,name,age):\n",
    "        self.name = name\n",
    "        self.age = age\n",
    "        \n",
    "person1 =  Details(\"Atin\",30)\n",
    "\n",
    "print(person1.name)\n",
    "print(person1.age)\n"
   ]
  },
  {
   "cell_type": "code",
   "execution_count": null,
   "id": "31e697fb-9d16-40de-8564-a8a427502a26",
   "metadata": {},
   "outputs": [],
   "source": []
  },
  {
   "cell_type": "code",
   "execution_count": null,
   "id": "5e241bb1-51be-4f11-a7c9-1c7b2a4a181d",
   "metadata": {},
   "outputs": [],
   "source": []
  },
  {
   "cell_type": "markdown",
   "id": "db8021d1-b609-479f-b014-1e3bac4c76b0",
   "metadata": {},
   "source": [
    "The __init__ method is a special method within a class that plays a crucial role in defining constructors. The __init__ method is automatically called when you create a new instance (object) of a class. Its primary role is to initialize the attributes and state of the object. "
   ]
  },
  {
   "cell_type": "code",
   "execution_count": null,
   "id": "41c5c36d-607e-48b5-ba1f-f081e55a0a4e",
   "metadata": {},
   "outputs": [],
   "source": []
  },
  {
   "cell_type": "code",
   "execution_count": null,
   "id": "9df8f6a3-6bab-4469-af42-178c7a7ba4d7",
   "metadata": {},
   "outputs": [],
   "source": []
  },
  {
   "cell_type": "code",
   "execution_count": 6,
   "id": "1b54468e-9b60-47bd-95bb-d8c46cfac0b1",
   "metadata": {},
   "outputs": [
    {
     "name": "stdout",
     "output_type": "stream",
     "text": [
      "Fahaim\n",
      "79\n"
     ]
    }
   ],
   "source": [
    "class Person:\n",
    "    def __init__(self,name,age):\n",
    "        self.name = name\n",
    "        self.age = age\n",
    "        \n",
    "personX = Person(\"Fahaim\",79)\n",
    "\n",
    "print(personX.name)\n",
    "print(personX.age)"
   ]
  },
  {
   "cell_type": "code",
   "execution_count": null,
   "id": "9ba2dc4b-97dc-4392-8234-53e4c7525f65",
   "metadata": {},
   "outputs": [],
   "source": []
  },
  {
   "cell_type": "code",
   "execution_count": null,
   "id": "f4d3d912-1473-4d19-8a83-d3a1ec294ebb",
   "metadata": {},
   "outputs": [],
   "source": []
  },
  {
   "cell_type": "markdown",
   "id": "559bd646-3705-42b3-8e92-e2e82fbf772b",
   "metadata": {},
   "source": [
    "Constructors can be called implicitly or explicitly. While creating a new instanc of a class, we are implicitly calling them. A basic example of explicit constructor call would changing the initialization of objects"
   ]
  },
  {
   "cell_type": "code",
   "execution_count": 10,
   "id": "e65606e6-0f22-4abf-8ea8-ca47c69ea0d9",
   "metadata": {},
   "outputs": [
    {
     "name": "stdout",
     "output_type": "stream",
     "text": [
      "Eclairs\n",
      "Parle\n",
      "$2\n",
      "Caramel\n",
      "   \n",
      "Ecalirs\n",
      "Paorle\n",
      "$5\n",
      "Chocolava\n"
     ]
    }
   ],
   "source": [
    "class Chocolate:\n",
    "    def __init__(self,name,brand,price,flavour):\n",
    "        self.name = name\n",
    "        self.brand =  brand\n",
    "        self.price = price \n",
    "        self.flavour = flavour\n",
    "        \n",
    "choca = Chocolate(\"Eclairs\",\"Parle\",\"$2\",\"Caramel\")\n",
    "\n",
    "print(choca.name)\n",
    "print(choca.brand)\n",
    "print(choca.price)\n",
    "print(choca.flavour)\n",
    "print(\"   \")\n",
    "choca.__init__(\"Ecalirs\",\"Paorle\",\"$5\",\"Chocolava\")\n",
    "\n",
    "print(choca.name)\n",
    "print(choca.brand)\n",
    "print(choca.price)\n",
    "print(choca.flavour)\n",
    "\n",
    "\n"
   ]
  },
  {
   "cell_type": "code",
   "execution_count": null,
   "id": "8957d94b-722f-451c-b862-b42a4aefd8f8",
   "metadata": {},
   "outputs": [],
   "source": []
  },
  {
   "cell_type": "code",
   "execution_count": null,
   "id": "c640e19c-b327-4fe6-86b6-cc08020101fd",
   "metadata": {},
   "outputs": [],
   "source": []
  },
  {
   "cell_type": "markdown",
   "id": "d8d3678a-d2db-44fc-8cef-e3ce50b104b6",
   "metadata": {},
   "source": [
    "The self parameter is a special parameter that represents the instance of the class. It's a reference to the object being created or operated on. The self parameter is not a reserved keyword, and you can name it differently, but it is a convention to use self for clarity and consistency. The self parameter allows you to access and modify the attributes and methods of the object within the class. It is essential for differentiating between instance variables and class variables and for working with object-specific data. "
   ]
  },
  {
   "cell_type": "code",
   "execution_count": 15,
   "id": "c113fe6d-e38c-43c2-bf5d-d3d3fbef4aad",
   "metadata": {},
   "outputs": [
    {
     "name": "stdout",
     "output_type": "stream",
     "text": [
      "The items purchased by the customer is as follows:- \n",
      "F0012 : Pineapple\n",
      "PH021 : Box of Soap\n",
      "A0004 : Wine Bottle\n",
      " \n",
      "The total cost is $ 659\n"
     ]
    }
   ],
   "source": [
    "class Bazaar:\n",
    "    def __init__(self,name,item_id,price):\n",
    "        self.name =  name\n",
    "        self.item_id = item_id \n",
    "        self.price = price\n",
    "        \n",
    "    \n",
    "item1 = Bazaar(\"Pineapple\",\"F0012\",100)\n",
    "item2 =  Bazaar(\"Box of Soap\",\"PH021\",50)\n",
    "item3 =  Bazaar(\"Wine Bottle\",\"A0004\",509)\n",
    "\n",
    "print(\"The items purchased by the customer is as follows:- \")\n",
    "print(f\"{item1.item_id} : {item1.name}\")\n",
    "print(f\"{item2.item_id} : {item2.name}\")\n",
    "print(f\"{item3.item_id} : {item3.name}\")\n",
    "print(\" \")\n",
    "print(\"The total cost is $\",item1.price+item2.price+item3.price)"
   ]
  },
  {
   "cell_type": "code",
   "execution_count": null,
   "id": "df6e341f-95b4-402b-8dd7-9d803636b74b",
   "metadata": {},
   "outputs": [],
   "source": []
  },
  {
   "cell_type": "code",
   "execution_count": null,
   "id": "32cc405a-ca5f-4843-b909-7794f77420ff",
   "metadata": {},
   "outputs": [],
   "source": []
  },
  {
   "cell_type": "markdown",
   "id": "5db72c65-f92e-4aa5-aff2-0885fe4a29ef",
   "metadata": {},
   "source": [
    "\n",
    "\n",
    "The __init__ method is called automatically when you create a new instance of a class, and it can be considered the closest equivalent to a default constructor. If you don't define any __init__ method in your class, Python provides a default constructor that takes no additional parameters (beyond the self parameter) and doesn't perform any custom initialization. In other words, it initializes the object with no attributes or initial state."
   ]
  },
  {
   "cell_type": "code",
   "execution_count": null,
   "id": "66a2573e-c1df-4bee-81c1-ff24f264a93f",
   "metadata": {},
   "outputs": [],
   "source": []
  },
  {
   "cell_type": "code",
   "execution_count": null,
   "id": "8ad07af1-9758-480c-882e-6d6fe13b7870",
   "metadata": {},
   "outputs": [],
   "source": []
  },
  {
   "cell_type": "code",
   "execution_count": 16,
   "id": "8e6bd238-ed17-416c-83a7-914890bd45b8",
   "metadata": {},
   "outputs": [
    {
     "name": "stdout",
     "output_type": "stream",
     "text": [
      "The area of the rectangle is : 989\n"
     ]
    }
   ],
   "source": [
    "class Rectangle:\n",
    "    def __init__(self,length,breadth):\n",
    "        self.length = length\n",
    "        self.breadth = breadth\n",
    "        \n",
    "    def calc_area(self):\n",
    "        return self.length*self.breadth\n",
    "    \n",
    "rec1 = Rectangle(23,43)\n",
    "print(f\"The area of the rectangle is : {rec1.calc_area()}\")"
   ]
  },
  {
   "cell_type": "code",
   "execution_count": null,
   "id": "4e6ba00e-ccf0-40e3-a788-15e1ae885f81",
   "metadata": {},
   "outputs": [],
   "source": []
  },
  {
   "cell_type": "code",
   "execution_count": null,
   "id": "1ffe6537-79da-4785-a266-e9953d02887b",
   "metadata": {},
   "outputs": [],
   "source": []
  },
  {
   "cell_type": "markdown",
   "id": "cbb6d362-c3bc-4a6c-8e71-f4c32171fd6d",
   "metadata": {},
   "source": [
    "You can define additional methods (constructors) with different names that accept different sets of arguments. These additional methods can call the main constructor with default values for omitted arguments.\n",
    "\n",
    "cls is a conventional name for the first parameter of a class method. It stands for \"class\" and is used to reference the class itself within the method. Class methods are similar to instance methods, but they operate on the class and not on instances of the class. The cls parameter is automatically passed to a class method by Python when it is called.\n",
    "\n",
    "You define class methods using the @classmethod decorator, and you include cls as the first parameter in the method definition. It allows you to access class-level attributes, methods, and perform operations related to the class itself."
   ]
  },
  {
   "cell_type": "code",
   "execution_count": 29,
   "id": "fdf0f220-ee0e-42f0-ac34-89ff9d901408",
   "metadata": {},
   "outputs": [
    {
     "data": {
      "text/plain": [
       "90"
      ]
     },
     "execution_count": 29,
     "metadata": {},
     "output_type": "execute_result"
    }
   ],
   "source": [
    "class C1:\n",
    "    x = 0\n",
    "\n",
    "    def __init__(self, iter_value):\n",
    "        self.iter_value = iter_value\n",
    "\n",
    "    @classmethod\n",
    "    def increment_value(cls, iter_value):\n",
    "        for i in range(iter_value):\n",
    "            cls.x += 1\n",
    "\n",
    "    @classmethod\n",
    "    def yield_result(cls):\n",
    "        return cls.x\n",
    "\n",
    "iter1 = C1(90)\n",
    "\n",
    "\n",
    "C1.increment_value(iter1.iter_value)\n",
    "\n",
    "result1 = C1.yield_result()\n",
    "\n",
    "\n",
    "result1\n"
   ]
  },
  {
   "cell_type": "code",
   "execution_count": null,
   "id": "4409aaf3-6bb9-47d1-843c-a47e070f17a2",
   "metadata": {},
   "outputs": [],
   "source": []
  },
  {
   "cell_type": "code",
   "execution_count": null,
   "id": "825ec8f2-d19f-4eb9-9598-cdd7817c152c",
   "metadata": {},
   "outputs": [],
   "source": []
  },
  {
   "cell_type": "markdown",
   "id": "d9d35392-7e14-47a9-9c7a-dc93e3e27da4",
   "metadata": {},
   "source": [
    "Method overloading is a concept in object-oriented programming where you define multiple methods in a class with the same name but different parameter lists. These methods can have different numbers or types of parameters. The choice of which method to call is determined at compile-time or runtime, depending on the programming language."
   ]
  },
  {
   "cell_type": "markdown",
   "id": "8e92eea0-0ec6-4f24-bec6-76fd72a07333",
   "metadata": {},
   "source": [
    "In Python, method overloading based on the number or types of arguments is not supported in the same way as in some other programming languages like Java or C++. Python uses a different approach called \"duck typing,\" which means that method resolution is determined at runtime based on the actual arguments passed to the method. This allows a single method name to accept a variable number of arguments with different types."
   ]
  },
  {
   "cell_type": "code",
   "execution_count": 3,
   "id": "2767fd07-7f10-4bd3-9836-29f8cfce64b5",
   "metadata": {},
   "outputs": [
    {
     "name": "stdout",
     "output_type": "stream",
     "text": [
      "Allo\n",
      "Bob\n",
      "25\n"
     ]
    }
   ],
   "source": [
    "class P:\n",
    "    def __init__(self,name,age=None):\n",
    "        self.name = name\n",
    "        self.age = age\n",
    "        \n",
    "#Creating instances using different constructors        \n",
    "person1 = P(\"Allo\") #Here age is none\n",
    "print(person1.name)\n",
    "person2 = P(\"Bob\",25)\n",
    "print(person2.name)\n",
    "print(person2.age)"
   ]
  },
  {
   "cell_type": "code",
   "execution_count": null,
   "id": "c22837e3-6761-44b7-8982-bd5fa6a6239a",
   "metadata": {},
   "outputs": [],
   "source": []
  },
  {
   "cell_type": "code",
   "execution_count": null,
   "id": "82dd65fb-585f-4cec-8439-985ddbeff2da",
   "metadata": {},
   "outputs": [],
   "source": []
  },
  {
   "cell_type": "markdown",
   "id": "6b7561c9-000b-48a2-a65e-921cf943f6ee",
   "metadata": {},
   "source": [
    "The super() function is used in constructors to call the constructor of the parent class (also known as the base or superclass). This is particularly useful in cases where you want to extend the functionality of a class through inheritance, and you need to ensure that the initialization of the parent class is properly executed."
   ]
  },
  {
   "cell_type": "markdown",
   "id": "2464fb8b-5f8a-444c-a124-157033e4c29b",
   "metadata": {},
   "source": [
    "The super() function is typically used in the constructor of a derived (subclass) class to call the constructor of the parent (superclass) class. It allows you to inherit and build upon the behavior of the parent class while adding or customizing the behavior specific to the derived class."
   ]
  },
  {
   "cell_type": "code",
   "execution_count": 4,
   "id": "2e7c0925-3df5-4eb3-9629-0b6ee6884d65",
   "metadata": {},
   "outputs": [
    {
     "name": "stdout",
     "output_type": "stream",
     "text": [
      "Buddy (a Golden Retriever dog) says Woof!\n"
     ]
    }
   ],
   "source": [
    "class Species:\n",
    "    def __init__(self,name):\n",
    "        self.name = name\n",
    "        \n",
    "    def speak(self):\n",
    "        pass\n",
    "    \n",
    "class Dog(Species):\n",
    "    def __init__(self,name,breed):\n",
    "        super().__init__(name)\n",
    "        self.breed = breed\n",
    "        \n",
    "    def speak(self):\n",
    "        return f\"{self.name} (a {self.breed} dog) says Woof!\"\n",
    "    \n",
    "    \n",
    "dog = Dog(\"Buddy\",\"Golden Retriever\")\n",
    "\n",
    "print(dog.speak())"
   ]
  },
  {
   "cell_type": "code",
   "execution_count": null,
   "id": "207bd89b-047e-4471-aa4c-c7db4d260d31",
   "metadata": {},
   "outputs": [],
   "source": []
  },
  {
   "cell_type": "code",
   "execution_count": null,
   "id": "ead2233a-d238-494b-afe1-c0c0f664615a",
   "metadata": {},
   "outputs": [],
   "source": []
  },
  {
   "cell_type": "code",
   "execution_count": 2,
   "id": "02727b76-4383-4746-81bb-159cfca1c890",
   "metadata": {},
   "outputs": [
    {
     "name": "stdout",
     "output_type": "stream",
     "text": [
      "The information about the book is as follows:\n",
      "title: The Mocking Bird; author: Eminem; year of publish: 2018\n"
     ]
    }
   ],
   "source": [
    "class Book:\n",
    "    def __init__(self, title, author, published_year):\n",
    "        self.title = title\n",
    "        self.author = author  # Corrected the variable name\n",
    "        self.published_year = published_year  # Corrected the variable name\n",
    "\n",
    "    def display(self):\n",
    "        print('The information about the book is as follows:')\n",
    "        return f'title: {self.title}; author: {self.author}; year of publish: {self.published_year}'\n",
    "\n",
    "book1 = Book(\"The Mocking Bird\", \"Eminem\", 2018)\n",
    "print(book1.display())\n"
   ]
  },
  {
   "cell_type": "code",
   "execution_count": null,
   "id": "9718f571-7d5c-4805-ba6e-234a0ee3bc76",
   "metadata": {},
   "outputs": [],
   "source": []
  },
  {
   "cell_type": "code",
   "execution_count": null,
   "id": "0e1e2114-71b1-42c1-b8df-9a6f82270678",
   "metadata": {},
   "outputs": [],
   "source": []
  },
  {
   "cell_type": "markdown",
   "id": "aab9679d-089f-4e89-a7d2-8f6afa52d483",
   "metadata": {},
   "source": [
    "Constructors and regular methods are both essential components of Python classes, but they serve different purposes and have some key differences:\n",
    "\n",
    "Purpose:\n",
    "\n",
    "Constructors: Constructors are special methods used for initializing objects of a class. They are called automatically when you create a new instance of a class and are responsible for setting the initial state of the object. Constructors ensure that objects are created in a consistent and predictable state.\n",
    "\n",
    "Regular Methods: Regular methods are general-purpose methods within a class that perform specific actions or provide functionality related to the class. They can be called on instances of the class and typically operate on the object's attributes or perform some task.\n",
    "\n",
    "Name:\n",
    "\n",
    "Constructors: In Python, constructors are named __init__. This is a reserved name for the constructor method, and you cannot change it.\n",
    "\n",
    "Regular Methods: Regular methods can have any name you choose, provided they follow the rules for naming identifiers in Python.\n",
    "\n",
    "Invocation:\n",
    "\n",
    "Constructors: Constructors are automatically invoked when an object is created using the class, without the need for explicit calls. They are executed only once during the object's creation.\n",
    "\n",
    "Regular Methods: Regular methods must be explicitly called on instances of the class. They can be called multiple times as needed.\n",
    "\n",
    "Parameters:\n",
    "\n",
    "Constructors: Constructors typically accept the self parameter, which refers to the instance being created, and additional parameters to initialize the object's attributes. The parameters passed to a constructor can vary based on the requirements of the class.\n",
    "\n",
    "Regular Methods: Regular methods can take any number of parameters, including the self parameter, to perform their tasks. The parameters are defined based on the specific functionality of the method.\n",
    "\n",
    "Return Values:\n",
    "\n",
    "Constructors: Constructors don't return values explicitly. They are responsible for setting the initial state of the object. By convention, they return None.\n",
    "\n",
    "Regular Methods: Regular methods can return values if needed. The return value depends on the method's purpose."
   ]
  },
  {
   "cell_type": "code",
   "execution_count": null,
   "id": "b93fd718-75e9-4f7d-8fff-e1548eafd9fc",
   "metadata": {},
   "outputs": [],
   "source": []
  },
  {
   "cell_type": "code",
   "execution_count": null,
   "id": "56c6c58c-d863-4d32-b90b-be012762ffb7",
   "metadata": {},
   "outputs": [],
   "source": []
  },
  {
   "cell_type": "markdown",
   "id": "4d4d2248-ba48-40d5-aed8-92e2b0d2d29e",
   "metadata": {},
   "source": [
    "The self parameter in Python plays a crucial role in initializing instance variables within a constructor. The self parameter is a reference to the instance of the class, allowing you to access and modify instance-specific attributes (instance variables). Here's how self works in the context of instance variable initialization within a constructor:\n",
    "\n",
    "Reference to the Instance:\n",
    "\n",
    "When you create a new instance of a class, the self parameter in the constructor refers to that specific instance. It distinguishes one instance from another, even if multiple instances of the same class exist.\n",
    "\n",
    "Access to Instance Variables:\n",
    "\n",
    "You use self to access and work with instance variables. Instance variables are unique to each instance and store specific data related to that instance. By using self, you ensure that the variables are accessed and modified within the correct instance."
   ]
  },
  {
   "cell_type": "code",
   "execution_count": null,
   "id": "6501ea89-f36f-435a-9c42-93799968dd19",
   "metadata": {},
   "outputs": [],
   "source": []
  },
  {
   "cell_type": "code",
   "execution_count": null,
   "id": "e5965281-c97d-4c2b-bad9-bac75d7f4d47",
   "metadata": {},
   "outputs": [],
   "source": []
  },
  {
   "cell_type": "markdown",
   "id": "263c16a5-f952-4679-b246-3e9b642bdf38",
   "metadata": {},
   "source": [
    "In Python, you can prevent a class from having multiple instances by using the Singleton design pattern. The Singleton pattern restricts a class to have only one instance throughout the lifetime of your program. To implement a Singleton, you need to control the creation of objects and ensure that only one instance is ever created."
   ]
  },
  {
   "cell_type": "code",
   "execution_count": 1,
   "id": "4a557f09-4cb4-473d-88fb-1ad836d3f9a6",
   "metadata": {},
   "outputs": [
    {
     "name": "stdout",
     "output_type": "stream",
     "text": [
      "True\n"
     ]
    }
   ],
   "source": [
    "class Singleton:\n",
    "    _instance = None\n",
    "    \n",
    "    def __new__(cls):\n",
    "        if cls._instance is None:\n",
    "            cls._instance = super(Singleton, cls).__new__(cls)\n",
    "            cls._instance.initialized = False\n",
    "        return cls._instance\n",
    "    \n",
    "    def __init__(self):\n",
    "        if not self.initialized:\n",
    "            self.initialized = True\n",
    "            \n",
    "singleton1 = Singleton()\n",
    "singleton2 = Singleton()\n",
    "\n",
    "print(singleton1 is singleton2)"
   ]
  },
  {
   "cell_type": "code",
   "execution_count": null,
   "id": "ea403b0c-0b63-4145-99c0-3a79616f6f93",
   "metadata": {},
   "outputs": [],
   "source": []
  },
  {
   "cell_type": "code",
   "execution_count": null,
   "id": "6d7976ab-660e-4935-8ec2-9140016756c6",
   "metadata": {},
   "outputs": [],
   "source": []
  },
  {
   "cell_type": "code",
   "execution_count": 2,
   "id": "60feda5e-f13d-4fa4-a5d4-f0851ca8cc37",
   "metadata": {},
   "outputs": [
    {
     "name": "stdout",
     "output_type": "stream",
     "text": [
      "Enter the subjects of the student and separate them using \",\" \n"
     ]
    },
    {
     "name": "stdin",
     "output_type": "stream",
     "text": [
      "None Maths, English, Chemistry\n"
     ]
    },
    {
     "name": "stdout",
     "output_type": "stream",
     "text": [
      "The student has taken the following subjects :  ['Maths', ' English', ' Chemistry']\n"
     ]
    }
   ],
   "source": [
    "class Student:\n",
    "    def __init__(self,subjects):\n",
    "        self.subjects =  subjects\n",
    "        \n",
    "s = input(print('Enter the subjects of the student and separate them using \",\" ')).split(',')\n",
    "subject_list = [x for x in s]\n",
    "student1 = Student(subject_list)\n",
    "print('The student has taken the following subjects : ', student1.subjects)\n"
   ]
  },
  {
   "cell_type": "code",
   "execution_count": null,
   "id": "c17f668c-81c1-4432-95a2-c16232688451",
   "metadata": {},
   "outputs": [],
   "source": []
  },
  {
   "cell_type": "code",
   "execution_count": null,
   "id": "367a244c-bdc4-40d3-aa9c-5b303fe8bef1",
   "metadata": {},
   "outputs": [],
   "source": []
  },
  {
   "cell_type": "markdown",
   "id": "9853d076-90c9-4c5f-b8cd-657aa56ac2f2",
   "metadata": {},
   "source": [
    "The __del__ method in Python is a special method that serves as the destructor for a class. Its purpose is to define the cleanup or finalization actions that should be performed before an object of the class is destroyed and its memory is released. The __del__ method is automatically called when an object is about to be deleted and its reference count drops to zero."
   ]
  },
  {
   "cell_type": "markdown",
   "id": "3cbee086-6390-4ce9-b8ee-403dccb1af3d",
   "metadata": {},
   "source": [
    "Here's how it relates to constructors:\n",
    "\n",
    "Initialization and Cleanup:\n",
    "\n",
    "Constructors, such as the __init__ method, are responsible for initializing the object's attributes and state during object creation. They set up the object for use.\n",
    "\n",
    "The __del__ method, on the other hand, is responsible for cleaning up resources or performing any finalization tasks before the object is deleted, such as closing files, releasing memory, or releasing other resources.\n",
    "\n",
    "Constructor and Destructor Pair:\n",
    "\n",
    "Constructors and destructors work as a pair in object lifecycle management. The constructor initializes the object, and the destructor finalizes it.\n",
    "\n",
    "Relationship to the del Statement:\n",
    "\n",
    "The __del__ method is automatically called when the del statement is used to delete an object explicitly, or when an object goes out of scope and its reference count reaches zero, leading to automatic garbage collection."
   ]
  },
  {
   "cell_type": "code",
   "execution_count": 3,
   "id": "6f30a34c-3554-40cd-9839-b6c2b26d7333",
   "metadata": {},
   "outputs": [
    {
     "name": "stdout",
     "output_type": "stream",
     "text": [
      "Object 1 has been created\n",
      "Object 2 has been created\n",
      "Object 1 has been destroyed\n",
      "Object 2 has been destroyed\n"
     ]
    }
   ],
   "source": [
    "class Class:\n",
    "    def __init__(self,name):\n",
    "        self.name = name\n",
    "        print(f\"{self.name} has been created\")\n",
    "        \n",
    "    def __del__(self):\n",
    "        print(f\"{self.name} has been destroyed\")\n",
    "        \n",
    "object1 = Class(\"Object 1\")\n",
    "object2 = Class(\"Object 2\")\n",
    "\n",
    "del object1\n",
    "del object2"
   ]
  },
  {
   "cell_type": "code",
   "execution_count": null,
   "id": "8b96f6f2-f6b9-47ae-adf2-a9d86c10bf55",
   "metadata": {},
   "outputs": [],
   "source": []
  },
  {
   "cell_type": "code",
   "execution_count": null,
   "id": "6a94a4fe-c2ce-4d29-ad96-402b65862cf2",
   "metadata": {},
   "outputs": [],
   "source": []
  },
  {
   "cell_type": "markdown",
   "id": "652298a5-cd0b-47d7-a4f4-85a0b0111a23",
   "metadata": {},
   "source": [
    "Constructor chaining in Python refers to the process of one constructor calling another constructor within the same class or a parent class. This is often used to avoid duplicating code when multiple constructors share some common initialization logic. It allows you to reuse the code from one constructor in another constructor, making your code more maintainable and efficient."
   ]
  },
  {
   "cell_type": "code",
   "execution_count": 5,
   "id": "d0e203b2-1e0f-4721-a9fb-deb7f064d3fa",
   "metadata": {},
   "outputs": [
    {
     "name": "stdout",
     "output_type": "stream",
     "text": [
      "Name : Ramo Nunn; Age : 12\n",
      "None\n",
      "Name : Ramo Nunn; Age : 12; Student ID : 1245677\n",
      "None\n",
      "Name : Camo Imm; Age : 13\n",
      "None\n",
      "Name : Camo Imm; Age : 13; Student ID : 1245678\n",
      "None\n"
     ]
    }
   ],
   "source": [
    "class School:\n",
    "    def __init__(self,name,age):\n",
    "        self.name = name\n",
    "        self.age = age\n",
    "        \n",
    "    def display(self):\n",
    "        print(f\"Name : {self.name}; Age : {self.age}\")\n",
    "        \n",
    "class Student(School):\n",
    "    def __init__(self, name, age, student_id):\n",
    "        super().__init__(name,age)\n",
    "        self.student_id = student_id\n",
    "        \n",
    "    def display_student(self):\n",
    "        print(f\"Name : {self.name}; Age : {self.age}; Student ID : {self.student_id}\")\n",
    "        \n",
    "student1 = Student(\"Ramo Nunn\", 12, 1245677)\n",
    "student2 = Student(\"Camo Imm\", 13, 1245678)\n",
    "\n",
    "print(student1.display())\n",
    "print(student1.display_student())\n",
    "print(student2.display())\n",
    "print(student2.display_student())"
   ]
  },
  {
   "cell_type": "code",
   "execution_count": null,
   "id": "a6d77c49-801b-4a02-9ccf-583bb347926a",
   "metadata": {},
   "outputs": [],
   "source": []
  },
  {
   "cell_type": "code",
   "execution_count": null,
   "id": "8742377c-f70d-4035-ae7c-28bfe645684a",
   "metadata": {},
   "outputs": [],
   "source": []
  },
  {
   "cell_type": "code",
   "execution_count": 7,
   "id": "ec4c17b2-12d1-412f-98be-8d285ee2b77a",
   "metadata": {},
   "outputs": [
    {
     "name": "stdout",
     "output_type": "stream",
     "text": [
      "Manufacturer : HYUNDAI; Model : X10234\n",
      "None\n"
     ]
    }
   ],
   "source": [
    "class Car:\n",
    "    def __init__(self):\n",
    "        self.make = \"HYUNDAI\"\n",
    "        self.model = \"X10234\"\n",
    "        \n",
    "    def display(self):\n",
    "        print(f\"Manufacturer : {self.make}; Model : {self.model}\")\n",
    "        \n",
    "car1 = Car()\n",
    "\n",
    "print(car1.display())"
   ]
  },
  {
   "cell_type": "code",
   "execution_count": null,
   "id": "e15aeb94-f9e7-4dfc-98fd-d2a1679ecaa1",
   "metadata": {},
   "outputs": [],
   "source": []
  },
  {
   "cell_type": "code",
   "execution_count": null,
   "id": "37bf5e72-09f8-4673-8947-e0fce404578d",
   "metadata": {},
   "outputs": [],
   "source": []
  },
  {
   "cell_type": "code",
   "execution_count": null,
   "id": "e88f8bf6-4752-4989-becf-7099441b42d3",
   "metadata": {},
   "outputs": [],
   "source": []
  },
  {
   "cell_type": "code",
   "execution_count": null,
   "id": "fb537de3-12e8-486e-8e34-578fd5a46505",
   "metadata": {},
   "outputs": [],
   "source": []
  },
  {
   "cell_type": "markdown",
   "id": "9075fc5e-ea76-4bba-9144-56cdb76ecc0f",
   "metadata": {},
   "source": [
    "INHERITANCE"
   ]
  },
  {
   "cell_type": "markdown",
   "id": "30f10430-e29b-4207-8a32-bb7e37b1b01e",
   "metadata": {},
   "source": [
    "Inheritance is a fundamental concept in object-oriented programming (OOP) and refers to the ability of a class to inherit the attributes and methods from another class. In Python, classes can inherit properties and behaviors from a parent or base class to create new classes, known as derived or child classes. This mechanism allows you to establish relationships between classes and promote code reuse, making OOP more efficient and maintainable."
   ]
  },
  {
   "cell_type": "markdown",
   "id": "71456769-9140-42dc-bd58-2bb50ac1cc49",
   "metadata": {},
   "source": [
    "Here's an explanation of the significance of inheritance in OOP:\n",
    "\n",
    "Code Reusability: Inheritance allows you to reuse the code defined in a parent class (or base class) in multiple child classes. This reduces code duplication and promotes a more efficient development process.\n",
    "\n",
    "Hierarchical Structure: Inheritance provides a way to create a hierarchical structure of classes, where a child class inherits properties and behaviors from a parent class. This enables the organization and categorization of related classes.\n",
    "\n",
    "Extensibility: Child classes can extend the functionality of the parent class by adding new attributes and methods or by modifying existing ones. This provides a means for customizing and specializing classes to suit specific requirements.\n",
    "\n",
    "Polymorphism: Inheritance is a key component of polymorphism in OOP. It allows different objects, even of different derived classes, to be treated as instances of a common base class. This simplifies code that works with objects, as it can be written to expect a certain interface or set of behaviors.\n",
    "\n",
    "Improved Maintenance: When you need to make changes to a common set of attributes or methods, you only have to update the code in one place (the parent class). This ensures that changes are automatically reflected in all child classes, making maintenance more straightforward.\n",
    "\n",
    "Code Organization: Inheritance helps in organizing code in a logical and structured manner, making it easier to understand and manage complex systems. You can group related classes under a common parent class, which improves code readability."
   ]
  },
  {
   "cell_type": "code",
   "execution_count": null,
   "id": "af7fee83-cd64-4bd5-b71f-82e79a30da1e",
   "metadata": {},
   "outputs": [],
   "source": []
  },
  {
   "cell_type": "code",
   "execution_count": null,
   "id": "1f71b249-7501-496c-888f-91459bd6db0e",
   "metadata": {},
   "outputs": [],
   "source": []
  },
  {
   "cell_type": "markdown",
   "id": "d4072d05-b654-4114-a13b-e31f8c869df4",
   "metadata": {},
   "source": [
    "Single Inheritance:\n",
    "\n",
    "Single inheritance refers to the situation where a class inherits properties and behaviors from only one parent class.\n",
    "It forms a linear or hierarchical relationship between classes.\n",
    "In Python, single inheritance is straightforward and often used to establish a parent-child relationship."
   ]
  },
  {
   "cell_type": "code",
   "execution_count": 1,
   "id": "da0c111a-0d6b-4161-b3c7-4a5c22ed5b42",
   "metadata": {},
   "outputs": [
    {
     "name": "stdout",
     "output_type": "stream",
     "text": [
      "Woff!\n",
      "Meaow\n"
     ]
    }
   ],
   "source": [
    "class Animal:\n",
    "    def speak(self):\n",
    "        pass\n",
    "    \n",
    "class Dog(Animal):\n",
    "    def speak(self):\n",
    "        return \"Woff!\"\n",
    "    \n",
    "class Cat(Animal):\n",
    "    def speak(self):\n",
    "        return \"Meaow\"\n",
    "    \n",
    "dog = Dog()\n",
    "cat = Cat()\n",
    "\n",
    "print(dog.speak())\n",
    "print(cat.speak())"
   ]
  },
  {
   "cell_type": "markdown",
   "id": "96627e1f-dca3-4676-b19b-507a3fea03cc",
   "metadata": {},
   "source": [
    "Multiple Inheritance:\n",
    "\n",
    "Multiple inheritance occurs when a class inherits properties and behaviors from more than one parent class.\n",
    "It allows a class to combine features from multiple sources, creating complex class hierarchies.\n",
    "In Python, multiple inheritance is supported, but it requires careful handling to avoid ambiguity when methods or attributes with the same name exist in multiple parent classes."
   ]
  },
  {
   "cell_type": "code",
   "execution_count": 3,
   "id": "c0d2aa3d-6295-4cd8-8971-8eef51925ec2",
   "metadata": {},
   "outputs": [
    {
     "name": "stdout",
     "output_type": "stream",
     "text": [
      "Method A from Class A\n",
      "Method B from Class B\n",
      "Method C from Class C\n"
     ]
    }
   ],
   "source": [
    "class A:\n",
    "    def method_A(self):\n",
    "        return \"Method A from Class A\"\n",
    "    \n",
    "class B:\n",
    "    def method_B(self):\n",
    "        return \"Method B from Class B\"\n",
    "    \n",
    "class C(A,B):\n",
    "    def method_C(self):\n",
    "        return \"Method C from Class C\"\n",
    "    \n",
    "obj = C()\n",
    "\n",
    "print(obj.method_A())\n",
    "print(obj.method_B())\n",
    "print(obj.method_C())"
   ]
  },
  {
   "cell_type": "code",
   "execution_count": null,
   "id": "b40dbf36-b7cb-436a-acd3-575af738ab21",
   "metadata": {},
   "outputs": [],
   "source": []
  },
  {
   "cell_type": "code",
   "execution_count": null,
   "id": "c4cb23f7-1963-4582-bd35-713c516879b3",
   "metadata": {},
   "outputs": [],
   "source": []
  },
  {
   "cell_type": "code",
   "execution_count": 7,
   "id": "d48764cf-24d2-45c1-802a-a588381fcdf0",
   "metadata": {},
   "outputs": [
    {
     "name": "stdout",
     "output_type": "stream",
     "text": [
      "Color :  Red\n",
      "Speed :  240 kmph\n",
      "Brand :  Toyota\n"
     ]
    }
   ],
   "source": [
    "class Vehicle:\n",
    "    def __init__(self,color,speed):\n",
    "        self.color = color\n",
    "        self.speed = speed\n",
    "        \n",
    "class Car(Vehicle):\n",
    "    def __init__(self,color,speed,brand):\n",
    "        super().__init__(color,speed)\n",
    "        self.brand = brand\n",
    "        \n",
    "car1 = Car(\"Red\",\"240 kmph\",\"Toyota\")\n",
    "\n",
    "print(\"Color : \",car1.color)\n",
    "print(\"Speed : \",car1.speed)\n",
    "print(\"Brand : \",car1.brand)"
   ]
  },
  {
   "cell_type": "code",
   "execution_count": null,
   "id": "a3bf19a1-f6ef-4610-8421-a5699b093854",
   "metadata": {},
   "outputs": [],
   "source": []
  },
  {
   "cell_type": "code",
   "execution_count": null,
   "id": "db4f74ce-6512-4fac-866d-8938ad8b0294",
   "metadata": {},
   "outputs": [],
   "source": []
  },
  {
   "cell_type": "markdown",
   "id": "ee59f8e9-40be-4113-b984-6f70eb86cdfe",
   "metadata": {},
   "source": [
    "Method overriding is a fundamental concept in object-oriented programming that allows a subclass to provide a specific implementation for a method that is already defined in its parent class. When method overriding occurs, the subclass's version of the method is executed instead of the parent class's version when the method is called on an object of the subclass. This allows you to customize or extend the behavior of a method in the subclass while maintaining a consistent interface.\n"
   ]
  },
  {
   "cell_type": "markdown",
   "id": "23bf06e2-3b29-43ec-9b37-8d81e790c8c5",
   "metadata": {},
   "source": [
    "Key points about method overriding:\n",
    "\n",
    "The method in the subclass must have the same name, the same method signature (i.e., the same parameters), and the same return type as the method in the parent class that it's overriding.\n",
    "The overridden method in the subclass provides a new implementation that is tailored to the specific requirements of the subclass."
   ]
  },
  {
   "cell_type": "code",
   "execution_count": 10,
   "id": "16e5dbe9-ad55-4fc5-be5a-6000394013cd",
   "metadata": {},
   "outputs": [
    {
     "name": "stdout",
     "output_type": "stream",
     "text": [
      "Vehicle is being operated.\n",
      "Car is being driven on the road.\n",
      "Boat is being sailed on the sea.\n"
     ]
    }
   ],
   "source": [
    "class Vehicle:\n",
    "    def drive(self):\n",
    "        return \"Vehicle is being operated.\"\n",
    "class Car(Vehicle):\n",
    "    def drive(self):\n",
    "        return \"Car is being driven on the road.\"\n",
    "class Boat(Vehicle):\n",
    "    def drive(self):\n",
    "        return \"Boat is being sailed on the sea.\"\n",
    "\n",
    "obj = Vehicle()\n",
    "car = Car()\n",
    "boat = Boat()\n",
    "\n",
    "print(obj.drive())\n",
    "print(car.drive())\n",
    "print(boat.drive())"
   ]
  },
  {
   "cell_type": "code",
   "execution_count": null,
   "id": "36b6d7a9-772b-4fb1-a3b0-9df2435966e3",
   "metadata": {},
   "outputs": [],
   "source": [
    "\n",
    "\n"
   ]
  },
  {
   "cell_type": "code",
   "execution_count": null,
   "id": "9634279c-485d-425e-8270-1cf8a0624b4b",
   "metadata": {},
   "outputs": [],
   "source": []
  },
  {
   "cell_type": "markdown",
   "id": "ff36abc0-3391-415c-b198-58bf505cb16b",
   "metadata": {},
   "source": [
    "You can access the methods and attributes of a parent class from a child class using the super() function. The super() function returns a temporary object of the superclass, which allows you to call its methods and access its attributes."
   ]
  },
  {
   "cell_type": "code",
   "execution_count": 2,
   "id": "40333cab-5662-418f-80b9-f68a869307d2",
   "metadata": {},
   "outputs": [
    {
     "name": "stdout",
     "output_type": "stream",
     "text": [
      "Name is : Angee\n",
      "Age is : 30\n",
      "None\n"
     ]
    }
   ],
   "source": [
    "class Parent:\n",
    "    def __init__(self,name):\n",
    "        self.name = name\n",
    "        \n",
    "    def display_info(self):\n",
    "        print(f\"Name is : {self.name}\")\n",
    "        \n",
    "class Child(Parent):\n",
    "    def __init__(self,name,age):\n",
    "        super().__init__(name)\n",
    "        self.age = age\n",
    "        \n",
    "    def display_info(self):\n",
    "        super().display_info()\n",
    "        print(f\"Age is : {self.age}\")\n",
    "        \n",
    "\n",
    "childobj = Child(\"Angee\",30)\n",
    "\n",
    "print(childobj.display_info())"
   ]
  },
  {
   "cell_type": "markdown",
   "id": "1e8b8d80-9758-4f31-8fd5-717113dab477",
   "metadata": {},
   "source": []
  },
  {
   "cell_type": "code",
   "execution_count": null,
   "id": "72eabd06-1125-48fe-acfe-3adc71d4a95f",
   "metadata": {},
   "outputs": [],
   "source": []
  },
  {
   "cell_type": "markdown",
   "id": "ed46ec8c-14b7-4a60-91ce-b029618cc57d",
   "metadata": {},
   "source": [
    "The super() function in Python is used in the context of inheritance to access and invoke methods or attributes from the parent class within a child class. It provides a way to delegate method calls to the parent class, allowing for more flexible and maintainable code in the presence of inheritance.\n",
    "\n",
    "Initializing the Parent Class:\n",
    "\n",
    "super() is commonly used in the __init__ method of a child class to call the constructor of the parent class. This ensures that the initialization code in the parent class is executed before the child class's specific initialization.\n",
    "\n",
    "Overriding Methods:\n",
    "\n",
    "When a child class overrides a method from the parent class, you may still want to call the overridden method from the parent class. super() allows you to do this, promoting code reusability."
   ]
  },
  {
   "cell_type": "code",
   "execution_count": null,
   "id": "88298a57-c660-4cfe-9a80-ea4fb9f954c2",
   "metadata": {},
   "outputs": [],
   "source": []
  },
  {
   "cell_type": "code",
   "execution_count": 8,
   "id": "cec40ee1-b774-47d1-8e18-02973b3bf2c6",
   "metadata": {},
   "outputs": [
    {
     "name": "stdout",
     "output_type": "stream",
     "text": [
      " Alice is a Dog of Dobermann class\n",
      "Make Animal Sound\n",
      "Woof!\n"
     ]
    }
   ],
   "source": [
    "class Animal:\n",
    "    def __init__(self,species):\n",
    "        self.species = species\n",
    "        \n",
    "    def make_sound(self):\n",
    "        print(\"Make Animal Sound\")\n",
    "        \n",
    "class Dog(Animal):\n",
    "    def __init__(self,name,breed):\n",
    "        super().__init__(species=\"Dog\")\n",
    "        self.name =  name\n",
    "        self.breed = breed\n",
    "        \n",
    "    def make_sound(self):\n",
    "        super().make_sound()\n",
    "        print(f\"Woof!\")\n",
    "        \n",
    "dog = Dog(name=\"Alice\",breed=\"Dobermann\")\n",
    "\n",
    "print(f\" {dog.name} is a {dog.species} of {dog.breed} class\")\n",
    "dog.make_sound()"
   ]
  },
  {
   "cell_type": "code",
   "execution_count": null,
   "id": "78b0f286-37fc-4632-8997-c59a879cff9b",
   "metadata": {},
   "outputs": [],
   "source": []
  },
  {
   "cell_type": "code",
   "execution_count": null,
   "id": "08e1f7d0-40a1-4774-9a22-245fa8b0099f",
   "metadata": {},
   "outputs": [],
   "source": []
  },
  {
   "cell_type": "markdown",
   "id": "aa7d8e15-ae51-4778-8b5e-bd3afeb8e06d",
   "metadata": {},
   "source": [
    "The isinstance() function in Python is used to check if an object belongs to a particular class or if it is an instance of a class that is derived from a specified class. It allows you to determine the type of an object, making it useful for runtime type checking and handling different object types in a program.\n",
    "\n",
    "isinstance(object, classinformation)\n",
    "\n",
    "object: The object to be checked.\n",
    "classinfo: A class, a tuple of classes, or a type. If the object is an instance of any of these classes, the function returns True; otherwise, it returns False."
   ]
  },
  {
   "cell_type": "code",
   "execution_count": null,
   "id": "1ef644ee-a202-4a0f-9e7d-df8ecb211c36",
   "metadata": {},
   "outputs": [],
   "source": []
  },
  {
   "cell_type": "code",
   "execution_count": null,
   "id": "068616fe-a410-4117-9df2-5f9d53ce0f32",
   "metadata": {},
   "outputs": [],
   "source": []
  },
  {
   "cell_type": "markdown",
   "id": "93ba96fa-a6d7-4aec-aa22-c5c5465e4446",
   "metadata": {},
   "source": [
    "The issubclass() function in Python is used to check whether a given class is a subclass of another class. It returns True if the first class is a subclass of the second class, and False otherwise."
   ]
  },
  {
   "cell_type": "code",
   "execution_count": 1,
   "id": "ddd55595-b7a0-491d-b4f2-391eb3e279f5",
   "metadata": {},
   "outputs": [
    {
     "name": "stdout",
     "output_type": "stream",
     "text": [
      "True\n",
      "True\n"
     ]
    }
   ],
   "source": [
    "class A:\n",
    "    pass\n",
    "\n",
    "class B(A):\n",
    "    pass\n",
    "\n",
    "class C(B):\n",
    "    pass\n",
    "\n",
    "result1 = issubclass(C,A)\n",
    "\n",
    "result2 = issubclass(C,B)\n",
    "\n",
    "print(result1)\n",
    "print(result2)"
   ]
  },
  {
   "cell_type": "code",
   "execution_count": null,
   "id": "9e0fa2ed-e318-4852-a3ab-e8164669f21f",
   "metadata": {},
   "outputs": [],
   "source": []
  },
  {
   "cell_type": "code",
   "execution_count": null,
   "id": "3137eb58-1bd5-4ae9-9a6a-206ff7a4133f",
   "metadata": {},
   "outputs": [],
   "source": []
  },
  {
   "cell_type": "markdown",
   "id": "41a2f635-dd16-4982-adfb-66e9f954e4b4",
   "metadata": {},
   "source": [
    "Constructor inheritance refers to the mechanism by which a child class can inherit the constructor (also known as the initializer or __init__ method) of its parent class. When a new instance of a child class is created, the constructor of the parent class is automatically called, and the child class can also have its own constructor."
   ]
  },
  {
   "cell_type": "code",
   "execution_count": null,
   "id": "c54877f4-dc29-4a7d-b31d-b641561a4988",
   "metadata": {},
   "outputs": [],
   "source": []
  },
  {
   "cell_type": "code",
   "execution_count": null,
   "id": "55c4a2a4-60e1-4870-9570-1a3e48e953be",
   "metadata": {},
   "outputs": [],
   "source": []
  },
  {
   "cell_type": "code",
   "execution_count": 3,
   "id": "2af45963-d2c3-46b5-9597-26a2e9ff0278",
   "metadata": {},
   "outputs": [
    {
     "name": "stdout",
     "output_type": "stream",
     "text": [
      "The area of the circle is :  314.1592653589793\n",
      "The area of the rectangle is :  20\n"
     ]
    }
   ],
   "source": [
    "import math\n",
    "class Shape:\n",
    "    def area():\n",
    "        pass\n",
    "    \n",
    "class Circle(Shape):\n",
    "    def __init__(self,radius):\n",
    "        self.radius =  radius\n",
    "        \n",
    "    def area(self):\n",
    "        return math.pi*self.radius**2\n",
    "    \n",
    "class Rectangle(Shape):\n",
    "    def __init__(self,length,breadth):\n",
    "        self.length = length\n",
    "        self.breadth = breadth\n",
    "        \n",
    "    def area(self):\n",
    "        return self.length*self.breadth\n",
    "    \n",
    "\n",
    "circlea = Circle(radius=10)\n",
    "reca = Rectangle(length=4,breadth=5)\n",
    "\n",
    "print('The area of the circle is : ', circlea.area())\n",
    "print('The area of the rectangle is : ',reca.area())\n",
    "        \n",
    "    \n"
   ]
  },
  {
   "cell_type": "code",
   "execution_count": null,
   "id": "c900c8a7-8bf6-4575-80a2-533c9dd3413c",
   "metadata": {},
   "outputs": [],
   "source": []
  },
  {
   "cell_type": "code",
   "execution_count": null,
   "id": "abd5591a-1aaa-48f2-9122-666c63bfbbcd",
   "metadata": {},
   "outputs": [],
   "source": []
  },
  {
   "cell_type": "markdown",
   "id": "b935af41-bd7e-4fad-be25-9e93ade1e780",
   "metadata": {},
   "source": [
    "Abstract Base Classes (ABCs) in Python are used to define a common interface for a group of related classes. ABCs allow you to specify a set of methods that must be implemented by any concrete (i.e., non-abstract) class that inherits from the ABC. They provide a way to ensure that certain methods are present in the child classes, enforcing a consistent structure.\n",
    "\n",
    "The abc module in Python provides the infrastructure for defining abstract base classes. The ABC (Abstract Base Class) class and the abstractmethod decorator are key components of this module."
   ]
  },
  {
   "cell_type": "code",
   "execution_count": null,
   "id": "053c5596-2f28-44ee-bf23-99d662b82958",
   "metadata": {},
   "outputs": [],
   "source": []
  },
  {
   "cell_type": "code",
   "execution_count": null,
   "id": "2fb9bdb7-e6b6-457c-8e5b-2465a706dc4e",
   "metadata": {},
   "outputs": [],
   "source": []
  },
  {
   "cell_type": "code",
   "execution_count": 5,
   "id": "10739a5d-6a5a-4370-bec3-e6ed6915660d",
   "metadata": {},
   "outputs": [
    {
     "name": "stdout",
     "output_type": "stream",
     "text": [
      "The area of the circle is :  314.0\n",
      "The perimeter of the circle is :  62.800000000000004\n",
      "The area of the rectangle is :  20\n",
      "The perimeter of the rectangle is :  18\n"
     ]
    }
   ],
   "source": [
    "from abc import ABC, abstractmethod\n",
    "\n",
    "class Shape(ABC):\n",
    "    @abstractmethod\n",
    "    def area(self):\n",
    "        pass\n",
    "    \n",
    "    @abstractmethod\n",
    "    def perimeter(self):\n",
    "        pass\n",
    "    \n",
    "class Circle(Shape):\n",
    "    def __init__(self,radius):\n",
    "        self.radius = radius\n",
    "        \n",
    "    def area(self):\n",
    "        return 3.14*self.radius**2\n",
    "    \n",
    "    def perimeter(self):\n",
    "        return 2*3.14*self.radius\n",
    "    \n",
    "\n",
    "class Rectangle(Shape):\n",
    "    def __init__(self,length,breadth):\n",
    "        self.length =  length\n",
    "        self.breadth = breadth\n",
    "        \n",
    "    def area(self):\n",
    "        return self.length*self.breadth\n",
    "    \n",
    "    def perimeter(self):\n",
    "        return 2*self.length+2*self.breadth\n",
    "    \n",
    "    \n",
    "circ1 = Circle(radius=10)\n",
    "rect = Rectangle(length=4,breadth=5)\n",
    "\n",
    "print('The area of the circle is : ', circ1.area())\n",
    "print('The perimeter of the circle is : ', circ1.perimeter())\n",
    "print('The area of the rectangle is : ', rect.area())\n",
    "print('The perimeter of the rectangle is : ', rect.perimeter())"
   ]
  },
  {
   "cell_type": "code",
   "execution_count": null,
   "id": "9b8e1d27-0e5d-4c91-b327-100c91adc76e",
   "metadata": {},
   "outputs": [],
   "source": []
  },
  {
   "cell_type": "code",
   "execution_count": null,
   "id": "dae7c6ca-f57d-4f4b-8337-146abd539f77",
   "metadata": {},
   "outputs": [],
   "source": []
  },
  {
   "cell_type": "markdown",
   "id": "d03c1ef4-6329-48a2-8314-ccc3f059e9f6",
   "metadata": {},
   "source": [
    "You can prevent a child class from modifying certain attributes or methods inherited from a parent class by making use of name mangling and encapsulation. Name mangling involves adding a prefix to attribute or method names to make them less accessible in child classes."
   ]
  },
  {
   "cell_type": "code",
   "execution_count": null,
   "id": "d2f5920f-71f7-4aef-8eeb-e456695df33b",
   "metadata": {},
   "outputs": [],
   "source": []
  },
  {
   "cell_type": "code",
   "execution_count": null,
   "id": "5b964bd8-1801-4d4d-ad4a-0de201799740",
   "metadata": {},
   "outputs": [],
   "source": []
  },
  {
   "cell_type": "code",
   "execution_count": 8,
   "id": "2344738b-5e8a-4a28-8e92-2463a0347321",
   "metadata": {},
   "outputs": [
    {
     "name": "stdout",
     "output_type": "stream",
     "text": [
      "The details of the employee are : \n",
      "The name of the employee :  Akash Sharma\n",
      "The salary of the employee :  40000\n",
      "The department :  BioTech\n"
     ]
    }
   ],
   "source": [
    "class Employee:\n",
    "    def __init__(self,name,salary):\n",
    "        self.name = name\n",
    "        self.salary = salary\n",
    "        \n",
    "    def show_details(self):\n",
    "        print('The name of the employee : ', self.name)\n",
    "        print('The salary of the employee : ', self.salary)\n",
    "        \n",
    "class Manager(Employee):\n",
    "    def __init__(self,name,salary,department):\n",
    "        super().__init__(name,salary)\n",
    "        self.department = department\n",
    "        \n",
    "    def show_details(self):\n",
    "        super().show_details()\n",
    "        print('The department : ', self.department)\n",
    "        \n",
    "        \n",
    "emp = Manager(\"Akash Sharma\",40000,\"BioTech\")\n",
    "print('The details of the employee are : ')\n",
    "emp.show_details()\n",
    "        "
   ]
  },
  {
   "cell_type": "code",
   "execution_count": null,
   "id": "1da96503-19a9-46b9-bcd9-cb60a9517649",
   "metadata": {},
   "outputs": [],
   "source": []
  },
  {
   "cell_type": "code",
   "execution_count": null,
   "id": "322a1e2a-704a-4bda-b887-e39a7eedd2a3",
   "metadata": {},
   "outputs": [],
   "source": []
  },
  {
   "cell_type": "markdown",
   "id": "fd2d7f03-c405-4b9c-a02d-0e33714bddff",
   "metadata": {},
   "source": [
    "Method overloading refers to the ability to define multiple methods in the same class with the same name but with different parameter lists. Python does not support traditional method overloading as seen in some other languages like Java or C++, where you can have multiple methods with the same name in the same class, differing only in the type or number of parameters.\n",
    "\n",
    "However, Python provides a form of method overloading through a feature called default values for function parameters. By assigning default values to function parameters, you can create a single method that can be called with different numbers of arguments.\n",
    "\n",
    "Method overriding occurs when a child class provides a specific implementation for a method that is already defined in its parent class. The child class overrides the behavior of the method inherited from the parent class. Method overriding is a key feature of polymorphism in object-oriented programming."
   ]
  },
  {
   "cell_type": "code",
   "execution_count": null,
   "id": "4c70e620-fea9-4afe-b58d-2ab7efd5b46f",
   "metadata": {},
   "outputs": [],
   "source": []
  },
  {
   "cell_type": "code",
   "execution_count": null,
   "id": "be69e936-6fa4-4f42-b0c8-0e588f7a76ae",
   "metadata": {},
   "outputs": [],
   "source": []
  },
  {
   "cell_type": "markdown",
   "id": "df095c30-0c10-42c9-9014-6833208846c8",
   "metadata": {},
   "source": [
    "The __init__() method is a special method, also known as the constructor. It is called when an object is created from a class and is used to initialize the object's attributes. The primary purpose of the __init__() method is to set up the initial state of the object."
   ]
  },
  {
   "cell_type": "code",
   "execution_count": null,
   "id": "a08ef835-6a2e-4583-9fab-b0e7d916934c",
   "metadata": {},
   "outputs": [],
   "source": []
  },
  {
   "cell_type": "code",
   "execution_count": null,
   "id": "b4d1f4e1-51f2-4556-a230-267ded58f31f",
   "metadata": {},
   "outputs": [],
   "source": []
  },
  {
   "cell_type": "code",
   "execution_count": 10,
   "id": "e260937f-4a71-4b6d-b049-5234aaa02518",
   "metadata": {},
   "outputs": [
    {
     "name": "stdout",
     "output_type": "stream",
     "text": [
      "Le Bird is flying\n",
      "None\n",
      "The Eagle is flying\n",
      "None\n",
      "The Sparrow is Flying\n",
      "None\n"
     ]
    }
   ],
   "source": [
    "class Bird :\n",
    "    def fly(self):\n",
    "        print('Le Bird is flying')\n",
    "        \n",
    "class Eagle(Bird):\n",
    "    def fly(self):\n",
    "        print('The Eagle is flying')\n",
    "        \n",
    "class Sparrow(Bird):\n",
    "    def fly(self):\n",
    "        print('The Sparrow is Flying')\n",
    "        \n",
    "b = Bird()\n",
    "eag = Eagle()\n",
    "spa = Sparrow()\n",
    "\n",
    "print(b.fly())\n",
    "print(eag.fly())\n",
    "print(spa.fly())"
   ]
  },
  {
   "cell_type": "code",
   "execution_count": null,
   "id": "4d98ffa2-a0b0-4ea7-927f-393daea31f2c",
   "metadata": {},
   "outputs": [],
   "source": []
  },
  {
   "cell_type": "code",
   "execution_count": null,
   "id": "f074634c-6627-4bd2-9162-2c2df42596d3",
   "metadata": {},
   "outputs": [],
   "source": []
  },
  {
   "cell_type": "markdown",
   "id": "7c54c864-a870-489c-bf9c-ee8bb72af341",
   "metadata": {},
   "source": [
    "The \"diamond problem\" is a term used in the context of multiple inheritance in object-oriented programming languages. It refers to a specific issue that arises when a class inherits from two classes that have a common ancestor. This common ancestor is said to be inherited by the derived class through both of its parent classes, creating an ambiguity."
   ]
  },
  {
   "cell_type": "markdown",
   "id": "ba5e1571-7464-4d31-b8b5-c28d5c856d5f",
   "metadata": {},
   "source": [
    "   A\n",
    "   \n",
    "  / \\\n",
    "  \n",
    " B   C\n",
    " \n",
    "  \\ /\n",
    "  \n",
    "   D\n"
   ]
  },
  {
   "cell_type": "markdown",
   "id": "a1d4b3a3-6a30-4d09-8812-981b250e6164",
   "metadata": {},
   "source": [
    "Class A is the common ancestor.\n",
    "Classes B and C both inherit from A.\n",
    "Class D inherits from both B and C.\n",
    "The diamond problem occurs because class D has two paths to reach class A (via B and via C). This can lead to ambiguity in situations where there are conflicting methods or attributes in A that are overridden or modified in B and C."
   ]
  },
  {
   "cell_type": "markdown",
   "id": "edc24e9e-feef-42d9-a1c1-45f835bbea4f",
   "metadata": {},
   "source": [
    "Python addresses the diamond problem through its method resolution order (MRO) and the C3 linearization algorithm. In Python, each class has a specific method resolution order, which is the order in which base classes are searched when looking for a method or attribute. The super() function in Python is used to call a method from the next class in the MRO."
   ]
  },
  {
   "cell_type": "code",
   "execution_count": 12,
   "id": "674d7a1d-9ff9-47f5-a623-291ba3e5bca9",
   "metadata": {},
   "outputs": [
    {
     "name": "stdout",
     "output_type": "stream",
     "text": [
      "Class B\n",
      "Class C\n",
      "Class A\n"
     ]
    }
   ],
   "source": [
    "class A:\n",
    "    def display(self):\n",
    "        print('Class A')\n",
    "        \n",
    "class B(A):\n",
    "    def display(self):\n",
    "        print('Class B')\n",
    "        super().display()\n",
    "        \n",
    "class C(A):\n",
    "    def display(self):\n",
    "        print('Class C')\n",
    "        super().display()\n",
    "        \n",
    "\n",
    "class D(B,C):\n",
    "    pass\n",
    "\n",
    "d = D()\n",
    "\n",
    "d.display()\n",
    "        \n"
   ]
  },
  {
   "cell_type": "markdown",
   "id": "750ab2b0-0e9c-45b9-bfbd-e186c1a7998b",
   "metadata": {},
   "source": [
    "Class A is the common ancestor.\n",
    "Classes B and C inherit from A.\n",
    "Class D inherits from both B and C."
   ]
  },
  {
   "cell_type": "markdown",
   "id": "2a3f0a1b-76aa-4ade-ad97-308dd5187aa2",
   "metadata": {},
   "source": [
    "When the method() is called on an instance of class D, Python follows the MRO. In this case, the MRO is [D, B, C, A]. The super().method() calls the method from the next class in the MRO. "
   ]
  },
  {
   "cell_type": "code",
   "execution_count": null,
   "id": "491b00f5-42f3-4b8b-b064-4f5e4c6ba8cc",
   "metadata": {},
   "outputs": [],
   "source": []
  },
  {
   "cell_type": "markdown",
   "id": "14bed952-3005-4316-b922-04f5069474ce",
   "metadata": {},
   "source": [
    "\"Is-a\" Relationship:\n",
    "\n",
    "\n",
    "An \"is-a\" relationship signifies inheritance and implies that one class is a subtype of another. It indicates a relationship where an object of a derived class is also considered an object of its base class.\n",
    "\n",
    "\n",
    "Inheritance is often used to model \"is-a\" relationships, where a subclass inherits the properties and behaviors of a superclass."
   ]
  },
  {
   "cell_type": "markdown",
   "id": "e551960b-805a-4e19-81db-9bf2933f4de4",
   "metadata": {},
   "source": [
    "\"Has-a\" Relationship:\n",
    "\n",
    "A \"has-a\" relationship indicates that one class has another class as a component or part. It is often implemented through composition, where one class contains an instance of another class.\n",
    "\n",
    "Composition allows for greater flexibility and is used when the relationship between classes is more of a containment or aggregation."
   ]
  },
  {
   "cell_type": "code",
   "execution_count": null,
   "id": "796c581c-c83e-4f06-9363-6decf8c95576",
   "metadata": {},
   "outputs": [],
   "source": []
  },
  {
   "cell_type": "code",
   "execution_count": null,
   "id": "33c7b5ae-e1a6-433e-8f4a-b393f58d920a",
   "metadata": {},
   "outputs": [],
   "source": []
  },
  {
   "cell_type": "code",
   "execution_count": 15,
   "id": "164e0faf-084d-4255-82d6-70519bc6dce7",
   "metadata": {},
   "outputs": [
    {
     "name": "stdout",
     "output_type": "stream",
     "text": [
      "Hi, I'm Akash Vershama, Age: 19\n",
      "My student id is: 89000234 enrolled in the course Computer Science and Engineering\n",
      "Hi, I'm Burr Bose, Age: 50\n",
      "My professor id is: 777888 in the department: Technology\n"
     ]
    }
   ],
   "source": [
    "class Person:\n",
    "    def __init__(self, name, age):\n",
    "        self.name = name\n",
    "        self.age = age\n",
    "\n",
    "    def introduce(self):\n",
    "        return f'Hi, I\\'m {self.name}, Age: {self.age}'\n",
    "\n",
    "class Student(Person):\n",
    "    def __init__(self, name, age, student_id, course):\n",
    "        super().__init__(name, age)\n",
    "        self.student_id = student_id\n",
    "        self.course = course\n",
    "\n",
    "    def displayinfo(self):\n",
    "        return f'My student id is: {self.student_id} enrolled in the course {self.course}'\n",
    "\n",
    "class Professor(Person):\n",
    "    def __init__(self, name, age, professor_id, department):\n",
    "        super().__init__(name, age)\n",
    "        self.professor_id = professor_id\n",
    "        self.department = department\n",
    "\n",
    "    def displayinfo(self):\n",
    "        return f'My professor id is: {self.professor_id} in the department: {self.department}'\n",
    "\n",
    "# Example usage\n",
    "stud = Student(name='Akash Vershama', age=19, student_id=89000234, course='Computer Science and Engineering')\n",
    "print(stud.introduce())\n",
    "print(stud.displayinfo())\n",
    "\n",
    "prof = Professor(name='Burr Bose', age=50, professor_id=777888, department='Technology')\n",
    "print(prof.introduce())\n",
    "print(prof.displayinfo())\n"
   ]
  },
  {
   "cell_type": "code",
   "execution_count": null,
   "id": "a64bfc4f-4c05-4fa6-af11-14cbff97a84d",
   "metadata": {},
   "outputs": [],
   "source": []
  },
  {
   "cell_type": "code",
   "execution_count": null,
   "id": "4e0f2946-d64f-45f8-a006-0c8e0ca2d9af",
   "metadata": {},
   "outputs": [],
   "source": []
  },
  {
   "cell_type": "markdown",
   "id": "9f10fab3-f3d1-4682-be4d-634a5346e6aa",
   "metadata": {},
   "source": [
    "Encapsulation"
   ]
  },
  {
   "cell_type": "code",
   "execution_count": null,
   "id": "796b214b-5bb2-48ff-9a82-c629dd5d7342",
   "metadata": {},
   "outputs": [],
   "source": []
  },
  {
   "cell_type": "code",
   "execution_count": null,
   "id": "d164cee2-65aa-4381-b498-8df5c13c29a7",
   "metadata": {},
   "outputs": [],
   "source": []
  },
  {
   "cell_type": "markdown",
   "id": "93074e52-932e-4300-8225-9748cf246ea0",
   "metadata": {},
   "source": [
    "Encapsulation is one of the fundamental concepts in object-oriented programming (OOP) and is aimed at bundling the data (attributes or properties) and the methods (functions or procedures) that operate on the data into a single unit known as a class. This unit, or class, serves as a blueprint for creating objects."
   ]
  },
  {
   "cell_type": "markdown",
   "id": "e4e8a2f1-6967-48c1-81ee-6079ee08493b",
   "metadata": {},
   "source": [
    "Encapsulation is implemented through the use of access modifiers, which are keywords that define the visibility and accessibility of class members (attributes and methods). The three main access modifiers in Python are:\n",
    "\n",
    "Public (default): Members are accessible from outside the class.\n",
    "\n",
    "Private: Members are only accessible within the class.\n",
    "\n",
    "Protected: Members are accessible within the class and its subclasses."
   ]
  },
  {
   "cell_type": "markdown",
   "id": "a3b656ef-5c14-4447-9144-7f1e2fe72ea8",
   "metadata": {},
   "source": [
    "The primary role of encapsulation in Python and other object-oriented languages includes:\n",
    "\n",
    "Data Hiding: Encapsulation helps in hiding the internal details of a class and prevents direct access to its attributes from outside the class. This is achieved by marking attributes as private, making them accessible only through methods of the class."
   ]
  },
  {
   "cell_type": "markdown",
   "id": "2fe52041-85ea-42c9-bb44-8c6c0a781b8c",
   "metadata": {},
   "source": [
    "Implementation Hiding: Encapsulation allows the internal implementation of a class to be hidden from the outside world. This separation between the interface (public methods) and implementation details provides flexibility to change the internal workings of a class without affecting the code that uses the class."
   ]
  },
  {
   "cell_type": "code",
   "execution_count": null,
   "id": "6c2b40ed-699b-4843-a5f2-f12f0aab205e",
   "metadata": {},
   "outputs": [],
   "source": []
  },
  {
   "cell_type": "code",
   "execution_count": null,
   "id": "58596752-a13a-4f35-bc2a-38e489f44258",
   "metadata": {},
   "outputs": [],
   "source": []
  },
  {
   "cell_type": "markdown",
   "id": "1a56ecd5-6de1-4af9-a89a-7de162e6cca4",
   "metadata": {},
   "source": [
    "Encapsulation is achieved through the use of access modifiers and conventions. While Python does not have strict access control keywords like private or protected as some other programming languages do, it follows the principle of \"we are all consenting adults here.\" This means that it relies on conventions and naming conventions to indicate the intended level of access."
   ]
  },
  {
   "cell_type": "code",
   "execution_count": null,
   "id": "7f666b7f-7f92-4e01-aa17-e34a8638efa0",
   "metadata": {},
   "outputs": [],
   "source": []
  },
  {
   "cell_type": "code",
   "execution_count": null,
   "id": "c7c2ad5e-f811-4c86-b7b0-b63201fe5b91",
   "metadata": {},
   "outputs": [],
   "source": []
  },
  {
   "cell_type": "code",
   "execution_count": 2,
   "id": "a03a694e-9d8e-4adf-a287-b8fc65e64ac5",
   "metadata": {},
   "outputs": [
    {
     "name": "stdout",
     "output_type": "stream",
     "text": [
      "Make :  Toyota\n",
      "Model :  Corolla\n",
      "New Make :  Honda\n",
      "New Model :  Civic\n"
     ]
    }
   ],
   "source": [
    "class Car:\n",
    "    def __init__(self,make,model):\n",
    "        self._make = make\n",
    "        self._model = model\n",
    "        \n",
    "    def get_make(self):\n",
    "        return self._make\n",
    "    \n",
    "    def set_make(self,make):\n",
    "        self._make = make\n",
    "        \n",
    "    def get_model(self):\n",
    "        return self._model\n",
    "    \n",
    "    def set_model(self,model):\n",
    "        self._model =  model\n",
    "        \n",
    "        \n",
    "my_car = Car(\"Toyota\",\"Corolla\")\n",
    "\n",
    "print('Make : ', my_car.get_make())\n",
    "print('Model : ', my_car.get_model())\n",
    "\n",
    "my_car.set_make(\"Honda\")\n",
    "my_car.set_model(\"Civic\")\n",
    "\n",
    "print('New Make : ', my_car.get_make())\n",
    "print('New Model : ',my_car.get_model())\n",
    "        \n"
   ]
  },
  {
   "cell_type": "code",
   "execution_count": null,
   "id": "ae197548-9edc-4559-912c-975461571bba",
   "metadata": {},
   "outputs": [],
   "source": []
  },
  {
   "cell_type": "code",
   "execution_count": null,
   "id": "1cbcc0cf-2b01-4283-a2a3-62ddb7c894fa",
   "metadata": {},
   "outputs": [],
   "source": []
  },
  {
   "cell_type": "markdown",
   "id": "f1759824-008c-4ed4-895a-6e11b2b5393b",
   "metadata": {},
   "source": [
    "Public:\n",
    "\n",
    "Syntax: No special syntax is required. All members are public by default.\n",
    "Naming Convention: Members intended for public access are usually named without any leading underscores."
   ]
  },
  {
   "cell_type": "markdown",
   "id": "35557a4c-e0bf-4477-8806-0ead20b71995",
   "metadata": {},
   "source": [
    "Private:\n",
    "\n",
    "Syntax: Members intended to be private are prefixed with a double underscore (__).\n",
    "Naming Convention: Members with double underscores at the beginning are considered private and should not be accessed directly from outside the class."
   ]
  },
  {
   "cell_type": "markdown",
   "id": "766c210f-7350-4a8a-8ef4-a909994b522d",
   "metadata": {},
   "source": [
    "Protected:\n",
    "\n",
    "Syntax: Members intended to be protected are prefixed with a single underscore (_).\n",
    "Naming Convention: Members with a single underscore at the beginning are considered protected, indicating that they should not be accessed directly from outside the class, but they can be accessed by subclasses."
   ]
  },
  {
   "cell_type": "code",
   "execution_count": 3,
   "id": "d29d6ef9-9027-4c61-8c06-cd4ba3bbfdfd",
   "metadata": {},
   "outputs": [
    {
     "name": "stdout",
     "output_type": "stream",
     "text": [
      "Name :  Ayonabh Chakraborty\n",
      "Name :  Ayonav\n"
     ]
    }
   ],
   "source": [
    "class Person:\n",
    "    def __init__(self,name):\n",
    "        self.__name = name\n",
    "        \n",
    "    def get_name(self):\n",
    "        return self.__name\n",
    "    \n",
    "    def set_name(self,name):\n",
    "        self.__name = name\n",
    "        \n",
    "        \n",
    "namex = Person(\"Ayonabh Chakraborty\")\n",
    "\n",
    "print('Name : ', namex.get_name())\n",
    "\n",
    "namex.set_name('Ayonav')\n",
    "\n",
    "print('Name : ', namex.get_name())\n",
    "        "
   ]
  },
  {
   "cell_type": "code",
   "execution_count": null,
   "id": "0c22d96d-359a-4986-8ea8-ed955c6fdc0b",
   "metadata": {},
   "outputs": [],
   "source": []
  },
  {
   "cell_type": "code",
   "execution_count": null,
   "id": "b9679222-cef8-4507-ac79-4301fe969fb0",
   "metadata": {},
   "outputs": [],
   "source": []
  },
  {
   "cell_type": "markdown",
   "id": "53074599-034f-4c83-b18d-27842f5280fa",
   "metadata": {},
   "source": [
    "Purpose of Getter Methods:\n",
    "\n",
    "Retrieval of Data: Getter methods provide a way to access the values of private or protected attributes from outside the class.\n",
    "Abstraction: They abstract the internal representation of the data, allowing the class to change its implementation without affecting the code that uses the class."
   ]
  },
  {
   "cell_type": "markdown",
   "id": "26225a67-486b-4a77-ae43-66b1a30879d3",
   "metadata": {},
   "source": [
    "Purpose of Setter Methods:\n",
    "\n",
    "Modification of Data: Setter methods allow controlled modification of the values of private or protected attributes.\n",
    "Validation: They provide a convenient place to include validation logic to ensure that the new values meet certain criteria before updating the attribute."
   ]
  },
  {
   "cell_type": "code",
   "execution_count": 7,
   "id": "07e9fa1e-0637-46dd-8ed5-999b7c76f734",
   "metadata": {},
   "outputs": [
    {
     "name": "stdout",
     "output_type": "stream",
     "text": [
      "Name :  Alicia\n",
      "Age :  36\n",
      "Updated name :  John\n",
      "Updated age :  27\n"
     ]
    }
   ],
   "source": [
    "class Person:\n",
    "    def __init__(self,name,age):\n",
    "        self._name = name\n",
    "        self._age = age\n",
    "        \n",
    "    def get_name(self):\n",
    "        return self._name\n",
    "    \n",
    "    def get_age(self):\n",
    "        return self._age\n",
    "    \n",
    "    def set_name(self,new_name):\n",
    "        if isinstance(new_name,str):\n",
    "            self._name = new_name\n",
    "        else:\n",
    "            print('Invalid input')\n",
    "            \n",
    "    def set_age(self,new_age):\n",
    "        if isinstance(new_age,int) and new_age>=0:\n",
    "            self._age = new_age\n",
    "        else:\n",
    "            print('Invalid Input')\n",
    "            \n",
    "personx = Person(\"Alicia\",36)\n",
    "\n",
    "print('Name : ', personx.get_name())\n",
    "print('Age : ', personx.get_age())\n",
    "\n",
    "personx.set_name(\"John\")\n",
    "personx.set_age(27)\n",
    "\n",
    "print('Updated name : ', personx.get_name())\n",
    "print('Updated age : ', personx.get_age())\n",
    "\n"
   ]
  },
  {
   "cell_type": "code",
   "execution_count": null,
   "id": "743d7c86-99e0-490d-bf5d-850f593bf9b4",
   "metadata": {},
   "outputs": [],
   "source": []
  },
  {
   "cell_type": "code",
   "execution_count": null,
   "id": "aefdfaef-b2ba-42b5-a0c9-d4529b2bc3f1",
   "metadata": {},
   "outputs": [],
   "source": []
  },
  {
   "cell_type": "markdown",
   "id": "e215f30a-88f6-468e-a5e5-7d64dbf86e3c",
   "metadata": {},
   "source": [
    "Name mangling in Python is a mechanism that alters the name of an identifier to make it more difficult to accidentally clash with names used by other classes. It is primarily used to make attributes in a class more \"private\" by adding a prefix to their names. Name mangling is achieved by adding a double underscore (__) as a prefix to an identifier.\n",
    "\n",
    "The main purpose of name mangling is to prevent accidental name conflicts in situations where a class is extended or subclassed. It helps to encapsulate the attributes of a class and reduces the likelihood of unintended name clashes in larger codebases."
   ]
  },
  {
   "cell_type": "code",
   "execution_count": 12,
   "id": "42ba4c78-753c-41ee-bba9-22dd32fcf5e2",
   "metadata": {},
   "outputs": [
    {
     "name": "stdout",
     "output_type": "stream",
     "text": [
      "Details :  (11200.0, 'AB120009')\n",
      "Details :  (13200.0, 'AB120009')\n",
      "Withdraw :  (13100.0, 'AB120009')\n"
     ]
    }
   ],
   "source": [
    "class BankAccount:\n",
    "    def __init__(self,balance,account_number):\n",
    "        self.__balance = balance\n",
    "        self.__account_number = account_number\n",
    "        \n",
    "    def get_details(self):\n",
    "        return self.__balance, self.__account_number\n",
    "    \n",
    "    def deposit(self, deposit):\n",
    "        if isinstance(deposit,float) and deposit>0:\n",
    "            self.__balance += deposit\n",
    "        else:\n",
    "            print('Enter an amount to be deposited')\n",
    "            \n",
    "    def withdraw(self, withdraw):\n",
    "        if isinstance(withdraw, float) and  withdraw<self.__balance and withdraw>0:\n",
    "            self.__balance -= withdraw\n",
    "        else:\n",
    "            print('Enter an amount to be withdrawn')\n",
    "            \n",
    "            \n",
    "bc = BankAccount(11200.0,\"AB120009\")\n",
    "\n",
    "print('Details : ', bc.get_details())\n",
    "\n",
    "bc.deposit(2000.0)\n",
    "\n",
    "print('Details : ', bc.get_details())\n",
    "\n",
    "bc.withdraw(100.0)\n",
    "\n",
    "print('Withdraw : ', bc.get_details())\n",
    "            \n",
    "    "
   ]
  },
  {
   "cell_type": "code",
   "execution_count": null,
   "id": "100de84e-13a5-41e6-9873-e5ad3594c0b1",
   "metadata": {},
   "outputs": [],
   "source": []
  },
  {
   "cell_type": "code",
   "execution_count": null,
   "id": "fa4b3962-5dad-4196-906d-fd851e637655",
   "metadata": {},
   "outputs": [],
   "source": []
  },
  {
   "cell_type": "markdown",
   "id": "952cd556-9e99-4260-91b0-6d210be87cd7",
   "metadata": {},
   "source": [
    "Code Maintainability:\n",
    "Modularity:\n",
    "\n",
    "Encapsulation allows the bundling of data and methods into a single unit (class), promoting modularity. This makes it easier to understand, update, and extend code because related functionalities are grouped together.\n",
    "Abstraction:\n",
    "\n",
    "By hiding the internal implementation details of a class, encapsulation provides a clear and simplified interface to interact with the object. This abstraction allows developers to focus on how to use the class rather than how it is implemented, reducing complexity.\n",
    "Ease of Modification:\n",
    "\n",
    "Changes to the internal implementation of a class, such as modifying attributes or methods, can be made without affecting the external code that uses the class. This enhances flexibility and makes it easier to adapt the code to new requirements or improvements.\n",
    "Reduced Code Interdependence:\n",
    "\n",
    "Encapsulation minimizes dependencies between different parts of the code. External code interacts with a class through its defined interface, reducing the impact of changes within the class on the rest of the codebase. This separation of concerns contributes to better maintainability."
   ]
  },
  {
   "cell_type": "code",
   "execution_count": null,
   "id": "fde11a90-eab0-40be-b145-7ac971969d47",
   "metadata": {},
   "outputs": [],
   "source": []
  },
  {
   "cell_type": "markdown",
   "id": "23cc4d28-3889-4f42-ab77-01cdd3179688",
   "metadata": {},
   "source": [
    "Security:\n",
    "\n",
    "Access Control:\n",
    "\n",
    "Encapsulation provides a way to control access to the internal state of an object. By using access modifiers (public, private, protected), developers can specify which parts of a class are intended for external use and which are meant to be kept private. This helps prevent unintended interference and ensures that the class is used as intended.\n",
    "\n",
    "Data Hiding:\n",
    "\n",
    "Encapsulation hides the internal details of an object, making it more challenging for external entities to manipulate or misuse the object's state. Private attributes and methods are not directly accessible from outside the class, reducing the risk of unintended modifications.\n",
    "\n",
    "Encapsulation as a Barrier:\n",
    "\n",
    "Encapsulation serves as a barrier that protects the internal implementation of a class. It encapsulates the complexity within the class, exposing only what is necessary for external interactions. This isolation makes it more difficult for external code to introduce bugs or security vulnerabilities.\n",
    "\n",
    "Improved Maintenance of Security Measures:\n",
    "\n",
    "Security measures, such as validation and access control logic, can be centralized within the encapsulated class. This centralization makes it easier to manage and update security-related code without affecting the entire codebase."
   ]
  },
  {
   "cell_type": "code",
   "execution_count": null,
   "id": "2189782a-196f-431b-ac90-ce9dfb43c1a5",
   "metadata": {},
   "outputs": [],
   "source": []
  },
  {
   "cell_type": "code",
   "execution_count": null,
   "id": "7f1e80ad-d56f-4e2f-917e-9091bc6e4a68",
   "metadata": {},
   "outputs": [],
   "source": []
  },
  {
   "cell_type": "markdown",
   "id": "cacac822-474d-4158-81d9-6d7414c2060e",
   "metadata": {},
   "source": [
    "Private attributes are conventionally marked by a double underscore prefix (__). While they are not strictly private (as access is still possible through name mangling), it is discouraged to access them directly from outside the class. Name mangling is a mechanism that alters the name of an identifier by adding a prefix based on the class name, making it less straightforward to access."
   ]
  },
  {
   "cell_type": "code",
   "execution_count": 14,
   "id": "42e0a9e3-cdc7-46f0-84b0-3caf2d823747",
   "metadata": {},
   "outputs": [
    {
     "name": "stdout",
     "output_type": "stream",
     "text": [
      "Accessing the private attribute properly :  I am private\n",
      "Accessing the private attribute through name mangling :  I am private\n"
     ]
    }
   ],
   "source": [
    "class MyC:\n",
    "    def __init__(self):\n",
    "        self.__private = \"I am private\"\n",
    "        \n",
    "    def get_p(self):\n",
    "        return self.__private\n",
    "    \n",
    "    \n",
    "obj = MyC()\n",
    "\n",
    "print('Accessing the private attribute properly : ', obj.get_p())\n",
    "\n",
    "print('Accessing the private attribute through name mangling : ', obj._MyC__private)"
   ]
  },
  {
   "cell_type": "code",
   "execution_count": null,
   "id": "b8b22646-679c-420a-9e89-0a19972b70c9",
   "metadata": {},
   "outputs": [],
   "source": []
  },
  {
   "cell_type": "code",
   "execution_count": null,
   "id": "a5d09bd9-24ff-4a6a-9d26-3cc2511451a2",
   "metadata": {},
   "outputs": [],
   "source": []
  },
  {
   "cell_type": "code",
   "execution_count": 2,
   "id": "f16e749c-78d5-4cc3-9ccd-89c5d1273db8",
   "metadata": {},
   "outputs": [
    {
     "name": "stdout",
     "output_type": "stream",
     "text": [
      "Name of Student :  Alicia Keys\n",
      "Age of student :  18\n",
      "Code of student :  0X0089\n",
      "Name of Teacher :  Mr.Gomes\n",
      "Age of Teacher :  54\n",
      "Code of Teahcer :  1Y0007\n",
      "Course Name : CS001\n",
      "Course Code : Introduction to Database Sytems\n",
      "  \n",
      "All students  is  ['Alicia Keys', 'Alice Goil', 'Babu Loin']\n"
     ]
    }
   ],
   "source": [
    "class Person:\n",
    "    def __init__(self,name,age):\n",
    "        self._name = name\n",
    "        self._age = age\n",
    "        \n",
    "    def get_name(self):\n",
    "        return self._name\n",
    "    \n",
    "    def set_name(self,new_name):\n",
    "        self._name =  new_name\n",
    "        \n",
    "    def get_age(self):\n",
    "        return self._age\n",
    "    \n",
    "    def set_age(self, new_age):\n",
    "        self._age = new_age\n",
    "        \n",
    "        \n",
    "class Student(Person):\n",
    "    def __init__(self,name,age,student_id):\n",
    "        super().__init__(name,age)\n",
    "        self._student_id = student_id\n",
    "        \n",
    "    def get_student_id(self):\n",
    "        return self._student_id\n",
    "    \n",
    "    def set_id(self, new_student_id):\n",
    "        self._student_id = new_student_id\n",
    "        \n",
    "class Teacher(Person):\n",
    "    def __init__(self,name,age,teacher_id):\n",
    "        super().__init__(name,age)\n",
    "        self._teacher_id = teacher_id\n",
    "        \n",
    "    def get_teacher_id(self):\n",
    "        return self._teacher_id\n",
    "    \n",
    "    def set_teacher_id(self, new_tracher_id):\n",
    "        self._teacher_id = new_teahcer_id\n",
    "        \n",
    "\n",
    "class Course:\n",
    "    def __init__(self,course_name,course_code,teacher_name,list_of_students):\n",
    "        self._course_name = course_name\n",
    "        self._course_code = course_code\n",
    "        self._teacher_name = teacher_name\n",
    "        self._list_of_students = list_of_students if list_of_students is not None else []\n",
    "        \n",
    "    def get_code(self):\n",
    "        return self._course_code\n",
    "    \n",
    "    def get_cname(self):\n",
    "        return self._course_name\n",
    "    \n",
    "    def get_tname(self):\n",
    "        return self._teacher_name\n",
    "    \n",
    "    def get_list(self):\n",
    "        return self._list_of_students\n",
    "    \n",
    "    def set_code(self,new_course_code):\n",
    "        self._course_code = new_course_code\n",
    "        \n",
    "    def set_cname(self,new_course_name):\n",
    "        self._course_name = new_course_name\n",
    "        \n",
    "    def set_tname(self,new_teacher_name):\n",
    "        self._teacher_name = new_teacher_name\n",
    "        \n",
    "    def add_student(self, student):\n",
    "        self._list_of_students.append(student)\n",
    "        \n",
    "    def remove_student(self,student):\n",
    "        self._list_of_students.remove(student)\n",
    "        \n",
    "        \n",
    "s1 = Student(\"Alicia Keys\",18,\"0X0089\")\n",
    "t1 = Teacher(\"Mr.Gomes\",54,\"1Y0007\")\n",
    "c1 = Course(\"CS001\",\"Introduction to Database Sytems\",t1,[s1])\n",
    "\n",
    "\n",
    "print(\"Name of Student : \", s1.get_name())\n",
    "print(\"Age of student : \", s1.get_age())\n",
    "print(\"Code of student : \", s1.get_student_id())\n",
    "print(\"Name of Teacher : \", t1.get_name())\n",
    "print(\"Age of Teacher : \", t1.get_age())\n",
    "print(\"Code of Teahcer : \", t1.get_teacher_id())\n",
    "print(\"Course Name :\", c1.get_cname())\n",
    "print(\"Course Code :\", c1.get_code())\n",
    "s2 = Student(\"Alice Goil\", 17,\"0X0088\")\n",
    "c1.add_student(s2)\n",
    "s3 = Student(\"Babu Loin\", 19, \"0X0086\")\n",
    "c1.add_student(s3)\n",
    "print(\"  \")\n",
    "print(\"All students  is \", [student.get_name() for student in c1.get_list()])\n",
    "        "
   ]
  },
  {
   "cell_type": "code",
   "execution_count": null,
   "id": "1b64bbc9-d0c3-474d-bed5-ae0776795a2e",
   "metadata": {},
   "outputs": [],
   "source": []
  },
  {
   "cell_type": "code",
   "execution_count": null,
   "id": "f87b0d43-f55b-4070-acd3-53760329dd7e",
   "metadata": {},
   "outputs": [],
   "source": []
  },
  {
   "cell_type": "markdown",
   "id": "29abbb94-acee-4cc9-bfc4-8521e4b333bb",
   "metadata": {},
   "source": [
    "Property decorators are a feature that allows you to define getter, setter, and deleter methods for class attributes in a way that looks like accessing or modifying an attribute directly, but with the added benefit of encapsulation. Property decorators are used to create read-only or read-write properties and provide a clean and Pythonic way to work with attributes while controlling access and modification.\n",
    "\n",
    "How Property Decorators Work:\n",
    "\n",
    "@property:\n",
    "\n",
    "Decorates a method to make it a read-only property.\n",
    "This method is called when the property is accessed.\n",
    "\n",
    "\n",
    "@<property_name>.setter:\n",
    "\n",
    "Decorates a method to set the value of the property.\n",
    "This method is called when the property is assigned a value.\n",
    "\n",
    "\n",
    "@<property_name>.deleter:\n",
    "\n",
    "Decorates a method to delete the property.\n",
    "This method is called when the del statement is used on the property."
   ]
  },
  {
   "cell_type": "code",
   "execution_count": 13,
   "id": "64a22c4d-bf23-4d76-8411-a89b3f9feea5",
   "metadata": {},
   "outputs": [],
   "source": [
    "class MC:\n",
    "    def __init__(self,x):\n",
    "        self._x = x\n",
    "        \n",
    "    @property\n",
    "    def x(self):\n",
    "        print(\"The value of x is : \")\n",
    "        return self._x\n",
    "    \n",
    "    @x.setter\n",
    "    def x(self,value):\n",
    "        if value < 0:\n",
    "            raise ValueError(\"X must be non-negative\")\n",
    "        self._x = value\n",
    "        \n",
    "    @x.deleter\n",
    "    def x(self):\n",
    "        print(\"Deleting the value of x\")\n",
    "        del self._x\n",
    "        \n",
    "obj = MC(4)\n",
    "        "
   ]
  },
  {
   "cell_type": "code",
   "execution_count": 14,
   "id": "e5908687-1d7b-4474-9824-3da2598ecd42",
   "metadata": {},
   "outputs": [
    {
     "name": "stdout",
     "output_type": "stream",
     "text": [
      "The value of x is : \n",
      "4\n"
     ]
    }
   ],
   "source": [
    "print(obj.x)"
   ]
  },
  {
   "cell_type": "code",
   "execution_count": 15,
   "id": "9ac9defc-5ad6-4928-b960-a93997955ba2",
   "metadata": {},
   "outputs": [],
   "source": [
    "obj.x = 10"
   ]
  },
  {
   "cell_type": "code",
   "execution_count": 16,
   "id": "6db62b37-9f64-4951-885b-d5074c5b099b",
   "metadata": {},
   "outputs": [
    {
     "name": "stdout",
     "output_type": "stream",
     "text": [
      "The value of x is : \n",
      "10\n"
     ]
    }
   ],
   "source": [
    "print(obj.x)"
   ]
  },
  {
   "cell_type": "code",
   "execution_count": 17,
   "id": "31ce4763-3cb4-478c-ac50-4fb316a5abab",
   "metadata": {},
   "outputs": [
    {
     "name": "stdout",
     "output_type": "stream",
     "text": [
      "Deleting the value of x\n"
     ]
    }
   ],
   "source": [
    "del obj.x"
   ]
  },
  {
   "cell_type": "code",
   "execution_count": 18,
   "id": "6b6ab405-b893-40d8-94b5-751daf51b99a",
   "metadata": {},
   "outputs": [
    {
     "name": "stdout",
     "output_type": "stream",
     "text": [
      "The value of x is : \n"
     ]
    },
    {
     "ename": "AttributeError",
     "evalue": "'MC' object has no attribute '_x'",
     "output_type": "error",
     "traceback": [
      "\u001b[0;31m---------------------------------------------------------------------------\u001b[0m",
      "\u001b[0;31mAttributeError\u001b[0m                            Traceback (most recent call last)",
      "Cell \u001b[0;32mIn[18], line 1\u001b[0m\n\u001b[0;32m----> 1\u001b[0m \u001b[38;5;28mprint\u001b[39m(\u001b[43mobj\u001b[49m\u001b[38;5;241;43m.\u001b[39;49m\u001b[43mx\u001b[49m)\n",
      "Cell \u001b[0;32mIn[13], line 8\u001b[0m, in \u001b[0;36mMC.x\u001b[0;34m(self)\u001b[0m\n\u001b[1;32m      5\u001b[0m \u001b[38;5;129m@property\u001b[39m\n\u001b[1;32m      6\u001b[0m \u001b[38;5;28;01mdef\u001b[39;00m \u001b[38;5;21mx\u001b[39m(\u001b[38;5;28mself\u001b[39m):\n\u001b[1;32m      7\u001b[0m     \u001b[38;5;28mprint\u001b[39m(\u001b[38;5;124m\"\u001b[39m\u001b[38;5;124mThe value of x is : \u001b[39m\u001b[38;5;124m\"\u001b[39m)\n\u001b[0;32m----> 8\u001b[0m     \u001b[38;5;28;01mreturn\u001b[39;00m \u001b[38;5;28;43mself\u001b[39;49m\u001b[38;5;241;43m.\u001b[39;49m\u001b[43m_x\u001b[49m\n",
      "\u001b[0;31mAttributeError\u001b[0m: 'MC' object has no attribute '_x'"
     ]
    }
   ],
   "source": [
    "print(obj.x)"
   ]
  },
  {
   "cell_type": "code",
   "execution_count": null,
   "id": "440941ae-6b0b-4b76-88e6-12844ec4c9b1",
   "metadata": {},
   "outputs": [],
   "source": []
  },
  {
   "cell_type": "code",
   "execution_count": null,
   "id": "040a747e-77fc-403b-90c7-38f58155c8ab",
   "metadata": {},
   "outputs": [],
   "source": []
  },
  {
   "cell_type": "markdown",
   "id": "75c8ac06-674e-4f3d-a60b-84638af78e0f",
   "metadata": {},
   "source": [
    "Data hiding is a fundamental concept in object-oriented programming that involves restricting access to the internal state (attributes or properties) of an object. It is closely related to the concept of encapsulation, which is one of the core principles of OOP. Data hiding ensures that the internal details of an object are hidden from external code, and access to the internal state is controlled through well-defined interfaces.\n",
    "\n",
    "Importance of Data Hiding in Encapsulation:-\n",
    "Abstraction:\n",
    "\n",
    "Data hiding allows the definition of abstract interfaces for classes. External code interacts with objects through these interfaces without needing to know the details of how the data is stored or manipulated internally. This abstraction simplifies the understanding of the class.\n",
    "\n",
    "\n",
    "Security:\n",
    "\n",
    "By restricting direct access to internal state, data hiding helps prevent unauthorized or unintended modifications to an object's attributes. This enhances security by controlling how and when the internal state can be modified.\n",
    "\n",
    "\n",
    "Maintainability:\n",
    "\n",
    "Hiding implementation details behind well-defined interfaces makes it easier to modify or extend the internal structure of a class without affecting the external code that uses it. This contributes to code maintainability and reduces the likelihood of introducing bugs during changes.\n",
    "\n",
    "\n",
    "Reduced Dependency:\n",
    "\n",
    "Data hiding reduces the dependency between different parts of a program. External code relies on the public interface of a class rather than its internal implementation, which makes it less susceptible to changes in the implementation details of other classes."
   ]
  },
  {
   "cell_type": "code",
   "execution_count": null,
   "id": "466968cc-ca11-4282-8bd8-6461bbb73a39",
   "metadata": {},
   "outputs": [],
   "source": []
  },
  {
   "cell_type": "code",
   "execution_count": null,
   "id": "d722006c-6fc4-4d47-9d4e-2c20d9f7218f",
   "metadata": {},
   "outputs": [],
   "source": []
  },
  {
   "cell_type": "code",
   "execution_count": 28,
   "id": "07b555e6-d2ab-4090-b53f-fe773c08d8ba",
   "metadata": {},
   "outputs": [
    {
     "name": "stdout",
     "output_type": "stream",
     "text": [
      "Employee ID :  0X00345\n",
      "Salary :  90000\n",
      "  \n",
      "  \n",
      "The salary after bonus is : \n"
     ]
    },
    {
     "data": {
      "text/plain": [
       "90700"
      ]
     },
     "execution_count": 28,
     "metadata": {},
     "output_type": "execute_result"
    }
   ],
   "source": [
    "class Employee:\n",
    "    def __init__(self,empid,salary):\n",
    "        self._empid = empid\n",
    "        self._salary = salary\n",
    "        \n",
    "    def get_id(self):\n",
    "        \n",
    "        return self._empid\n",
    "    \n",
    "    def get_salary(self):\n",
    "        \n",
    "        return self._salary\n",
    "    \n",
    "    def calc_bonus(self,bonus):\n",
    "        if bonus < 0:\n",
    "            raise ValueError(\"Enter the bonus amount\")\n",
    "        self._salary += bonus\n",
    "        print(\"The salary after bonus is : \")\n",
    "        return self._salary\n",
    "        \n",
    "c = Employee(empid=\"0X00345\",salary=90000)\n",
    "employeeid = c.get_id()\n",
    "print(\"Employee ID : \",employeeid)\n",
    "currentsalary = c.get_salary()\n",
    "print(\"Salary : \",currentsalary)\n",
    "print(\"  \")\n",
    "print(\"  \")\n",
    "c.calc_bonus(700)\n",
    "\n",
    "    "
   ]
  },
  {
   "cell_type": "code",
   "execution_count": null,
   "id": "b4e93a6a-b123-4237-9dbd-2cda8dc7dbe0",
   "metadata": {},
   "outputs": [],
   "source": []
  },
  {
   "cell_type": "code",
   "execution_count": null,
   "id": "6b844f75-3502-426d-8ac9-0a571b132dac",
   "metadata": {},
   "outputs": [],
   "source": []
  },
  {
   "cell_type": "markdown",
   "id": "25f144c3-cd51-47c8-992b-6b030bc795a8",
   "metadata": {},
   "source": [
    "Accessors (Getter Methods):-\n",
    "\n",
    "Definition:\n",
    "Accessors, also known as getter methods, are responsible for retrieving the values of private attributes.\n",
    "\n",
    "Purpose:\n",
    "\n",
    "Controlled Access:\n",
    "Accessors provide controlled access to the internal state of an object. They act as a gateway for external code to retrieve information.\n",
    "\n",
    "Abstraction:\n",
    "By using accessors, the internal representation of data is abstracted from external code. This abstraction allows for changes in the internal implementation without affecting external users.\n",
    "\n",
    "Readability:\n",
    "Accessors improve code readability by offering a clear and consistent way to obtain attribute values."
   ]
  },
  {
   "cell_type": "markdown",
   "id": "506a1bd5-c3f6-4a85-8e65-3b82a3a1f552",
   "metadata": {},
   "source": [
    "Mutators (Setter Methods):\n",
    "Definition:\n",
    "Mutators, or setter methods, are responsible for modifying the values of private attributes.\n",
    "\n",
    "Purpose:\n",
    "\n",
    "Controlled Modification:\n",
    "Mutators provide a controlled mechanism for modifying the internal state. They allow for validation, logic, and consistency checks before updating attributes.\n",
    "\n",
    "Encapsulation:\n",
    "Mutators encapsulate the details of how the internal state is modified. This encapsulation ensures that modifications adhere to predefined rules.\n",
    "\n",
    "Security:\n",
    "By using mutators, the class can implement security checks to prevent invalid or unauthorized modifications."
   ]
  },
  {
   "cell_type": "code",
   "execution_count": null,
   "id": "32a6eca1-e947-4491-b03e-0cd535a2d7a8",
   "metadata": {},
   "outputs": [],
   "source": []
  },
  {
   "cell_type": "code",
   "execution_count": null,
   "id": "aac6415e-bd49-42bc-8b7a-2ce492839160",
   "metadata": {},
   "outputs": [],
   "source": []
  },
  {
   "cell_type": "markdown",
   "id": "a57da087-6b8e-4cf1-8d8b-a6a1a6b43dac",
   "metadata": {},
   "source": [
    "Increased Complexity:\n",
    "\n",
    "Encapsulation can introduce additional complexity to the code, especially when dealing with a large number of classes, attributes, and methods. This complexity might make the code harder to understand and maintain.\n",
    "\n",
    "\n",
    "Overhead:\n",
    "\n",
    "The use of getter and setter methods can introduce some performance overhead compared to direct attribute access. In Python, however, this overhead is generally minimal, and the benefits of encapsulation often outweigh this concern.\n",
    "\n",
    "\n",
    "Boilerplate Code:\n",
    "\n",
    "Implementing getters and setters for every attribute can lead to boilerplate code, making the class definition longer and potentially less readable.\n",
    "\n",
    "\n",
    "Flexibility vs. Rigidity:\n",
    "\n",
    "While encapsulation promotes a controlled and consistent interface, it can also introduce rigidity. If the internal implementation needs to change frequently, encapsulation might become a hindrance rather than a benefit.\n",
    "\n",
    "\n",
    "Learning Curve:\n",
    "\n",
    "For developers new to object-oriented programming or those unfamiliar with the codebase, understanding the encapsulation design of a system might require a learning curve. The use of accessors and mutators may not be immediately intuitive to everyone.\n",
    "\n",
    "\n",
    "Testing Challenges:\n",
    "\n",
    "Encapsulation may make unit testing more challenging, especially when trying to isolate and test specific components of a class. Testability can be impacted if the internal state is not easily accessible for testing purposes.\n",
    "\n",
    "\n",
    "Possible Misuse:\n",
    "\n",
    "While encapsulation helps protect the internal state of an object, it does not prevent all forms of misuse. Developers might still misuse the interface or make incorrect assumptions about how to use certain classes.\n",
    "\n",
    "\n",
    "Verbosity:\n",
    "\n",
    "The use of accessors and mutators can make the code more verbose, especially if there are many attributes in a class. This verbosity can make the code less concise and harder to read.\n",
    "\n",
    "\n",
    "Tight Coupling:\n",
    "\n",
    "In some cases, encapsulation can lead to tight coupling between classes, especially if the accessors and mutators expose too much of the internal implementation. Tight coupling can reduce the flexibility of the system."
   ]
  },
  {
   "cell_type": "code",
   "execution_count": null,
   "id": "84a8e18a-6bdb-495b-bab3-c3e9dd659353",
   "metadata": {},
   "outputs": [],
   "source": []
  },
  {
   "cell_type": "code",
   "execution_count": null,
   "id": "e7df4e03-9602-4e42-b993-aabd240948d5",
   "metadata": {},
   "outputs": [],
   "source": []
  },
  {
   "cell_type": "code",
   "execution_count": 7,
   "id": "8b6f6bd8-823a-4daa-bad9-3ca6e8521a6c",
   "metadata": {},
   "outputs": [
    {
     "name": "stdout",
     "output_type": "stream",
     "text": [
      "The name of the first book is :  To Dukecrest Boulevard\n",
      "The author of the first book is :  Poptha Asmes\n",
      "Is the book available ? :  True\n",
      " \n",
      "The name of the second book is :  Make it Possible\n",
      "THe author of the second book is :  Guardi Nirer\n",
      "Is the book available? :  True\n",
      "Is the book two actually available? :  False\n"
     ]
    }
   ],
   "source": [
    "class Library:\n",
    "    def __init__(self,title,author,available):\n",
    "        self._title = title\n",
    "        self._author = author\n",
    "        self._available = available\n",
    "        \n",
    "    def get_title(self):\n",
    "        return self._title\n",
    "    \n",
    "    def get_author(self):\n",
    "        return self._author\n",
    "    \n",
    "    def availability(self):\n",
    "        return self._available\n",
    "        \n",
    "    def setavailability(self,newvalue):\n",
    "        self._available = newvalue\n",
    "        \n",
    "    \n",
    "b1 = Library(\"To Dukecrest Boulevard\",\"Poptha Asmes\",available=True)\n",
    "b2 = Library(\"Make it Possible\", \"Guardi Nirer\", available=True)\n",
    "\n",
    "print(\"The name of the first book is : \", b1.get_title())\n",
    "print(\"The author of the first book is : \", b1.get_author())\n",
    "print(\"Is the book available ? : \", b1.availability())\n",
    "print(\" \")\n",
    "print(\"The name of the second book is : \", b2.get_title())\n",
    "print(\"THe author of the second book is : \", b2.get_author())\n",
    "print(\"Is the book available? : \", b2.availability())\n",
    "\n",
    "b2.setavailability(False)\n",
    "print(\"Is the book two actually available? : \", b2.availability())"
   ]
  },
  {
   "cell_type": "code",
   "execution_count": null,
   "id": "1b771f4b-2982-42ae-80ec-f26ae6bf366a",
   "metadata": {},
   "outputs": [],
   "source": []
  },
  {
   "cell_type": "code",
   "execution_count": null,
   "id": "25a0411f-c7ff-44f7-8f55-0e8196625340",
   "metadata": {},
   "outputs": [],
   "source": []
  },
  {
   "cell_type": "markdown",
   "id": "9291bfb5-1899-4cce-8174-080824811487",
   "metadata": {},
   "source": [
    "Abstraction:\n",
    "\n",
    "Encapsulation allows you to abstract the internal details of a class or module. Users of a class only need to know about its public interface, not the intricate details of its implementation. This abstraction simplifies the understanding of a component, making it easier to reuse.\n",
    "\n",
    "\n",
    "Modularity:\n",
    "\n",
    "Encapsulation promotes modularity by encapsulating related functionalities within a single class or module. A well-designed class encapsulates a set of related attributes and methods, forming a modular unit. This modularity makes it easier to manage and maintain code, and modules can be reused in different parts of the program or even in different programs.\n",
    "\n",
    "\n",
    "Code Organization:\n",
    "\n",
    "Encapsulation helps organize code into manageable units. Each class or module encapsulates a specific set of features, and the internal details are hidden from external code. This organization improves the overall structure of the program, making it more modular and easier to navigate.\n",
    "\n",
    "\n",
    "Reduced Code Duplication:\n",
    "\n",
    "Encapsulation reduces code duplication by encapsulating common functionalities in reusable classes or modules. If a certain functionality is needed in multiple parts of the program, encapsulating it in a class or module allows for reuse without duplicating code.\n",
    "\n",
    "\n",
    "Ease of Maintenance:\n",
    "\n",
    "Code that adheres to encapsulation principles is generally easier to maintain. Changes to the internal implementation of a class don't affect external code as long as the public interface remains the same. This separation between internal implementation and external interface simplifies maintenance efforts.\n",
    "\n",
    "\n",
    "Enhanced Flexibility:\n",
    "\n",
    "Encapsulation enhances flexibility by allowing the internal implementation of a class to change without affecting the external code. This flexibility is essential for adapting to changing requirements and improving the design over time.\n",
    "\n",
    "\n",
    "Encapsulation of State and Behavior:\n",
    "\n",
    "By encapsulating both state (attributes) and behavior (methods) within a class, encapsulation provides a comprehensive unit that can be easily reused. This encapsulation ensures that the state and behavior are closely tied together, making it easier to understand and use the class.\n",
    "\n",
    "\n",
    "Encapsulation of Invariants:\n",
    "\n",
    "Encapsulation allows you to encapsulate invariants, ensuring that certain conditions or rules are maintained within a class. By encapsulating these invariants, you create reusable components that guarantee specific behaviors or constraints, contributing to code reliability."
   ]
  },
  {
   "cell_type": "code",
   "execution_count": null,
   "id": "91b6db13-51a1-425e-a01e-f85ed9a60d8f",
   "metadata": {},
   "outputs": [],
   "source": []
  },
  {
   "cell_type": "code",
   "execution_count": null,
   "id": "83f7f55e-4fae-45d6-aecf-ed5d2f1ce8ac",
   "metadata": {},
   "outputs": [],
   "source": []
  },
  {
   "cell_type": "markdown",
   "id": "2f3b1e26-018e-4c8c-8e1c-27c9bd95577e",
   "metadata": {},
   "source": [
    "Information hiding is a crucial concept in encapsulation, one of the four fundamental principles of object-oriented programming (OOP). Encapsulation refers to the bundling of data (attributes or properties) and the methods (functions or procedures) that operate on that data into a single unit called a class. Information hiding, often referred to as data hiding, is a key aspect of encapsulation that emphasizes restricting access to certain details of a class and revealing only what is necessary for the external world to interact with the object.\n",
    "\n",
    "The main idea behind information hiding is to hide the internal complexities and implementation details of a class from the outside world while exposing a well-defined and controlled interface. This interface consists of public methods that provide a way to interact with the object without exposing the internal workings or representation of its data. By hiding the implementation details, the class becomes a black box, and changes to its internal structure won't affect the code that uses the class."
   ]
  },
  {
   "cell_type": "markdown",
   "id": "fc2c3f3a-0f3e-413e-9ce6-cac1bf729d23",
   "metadata": {},
   "source": [
    "Modularity: Encapsulation with information hiding promotes modularity by allowing developers to focus on one part of the code without being concerned about the internal details of other components.\n",
    "\n",
    "Security: By restricting direct access to certain parts of the code, information hiding enhances security. It reduces the risk of unintended manipulation of data and helps prevent unauthorized access to sensitive information.\n",
    "\n",
    "Maintainability: When internal details are hidden, developers can modify the internal implementation of a class without affecting the external code that uses it. This makes software easier to maintain and update.\n",
    "\n",
    "Code Reusability: Encapsulation facilitates code reusability because objects can be used as black-box components in different parts of a program without exposing their internal complexities."
   ]
  },
  {
   "cell_type": "code",
   "execution_count": null,
   "id": "7685940a-d542-4a4c-bccf-81b8a3edded0",
   "metadata": {},
   "outputs": [],
   "source": []
  },
  {
   "cell_type": "code",
   "execution_count": null,
   "id": "acc9a93f-c2f8-4636-81b7-49c427885d98",
   "metadata": {},
   "outputs": [],
   "source": []
  },
  {
   "cell_type": "code",
   "execution_count": 7,
   "id": "d8c0e047-33d3-4fff-b3a3-43e52d6e8afa",
   "metadata": {},
   "outputs": [
    {
     "name": "stdout",
     "output_type": "stream",
     "text": [
      "Name of the customer is :  Robbie Williams\n",
      "Address of the customer is : 8/1 Avenue Road, Moor Lake, Dezingon\n",
      "Contact Information :  3331110003\n",
      " \n",
      "Name of the customer is :  Ron Williams\n"
     ]
    }
   ],
   "source": [
    "class Customer:\n",
    "    def __init__(self,name,address,confo):\n",
    "        self.__name = name\n",
    "        self.__address = address\n",
    "        self.__confo = confo\n",
    "        \n",
    "    def get_name(self):\n",
    "        return self.__name\n",
    "    \n",
    "    def get_address(self):\n",
    "        return self.__address\n",
    "    \n",
    "    def get__confo(self):\n",
    "        return self.__confo\n",
    "    \n",
    "    def set_name(self,new_name):\n",
    "        self.__name = new_name\n",
    "        \n",
    "    def set_address(self,new_address):\n",
    "        self.__address = new_addresss\n",
    "        \n",
    "    def set_confo(self, new_confo):\n",
    "        self.__confo = new_confo\n",
    "        \n",
    "    \n",
    "    \n",
    "if __name__ == '__main__':\n",
    "    c1 = Customer(name=\"Robbie Williams\", address=\"8/1 Avenue Road, Moor Lake, Dezingon\",confo=3331110003)\n",
    "    print('Name of the customer is : ', c1.get_name())\n",
    "    print('Address of the customer is :', c1.get_address())\n",
    "    print('Contact Information : ', c1.get__confo())\n",
    "    print(\" \")\n",
    "    \n",
    "    c1.set_name(\"Ron Williams\")\n",
    "    print('Name of the customer is : ', c1.get_name())\n",
    "    \n",
    "    \n"
   ]
  },
  {
   "cell_type": "code",
   "execution_count": null,
   "id": "3481e871-8863-4c99-8cf7-07ce3c9d9040",
   "metadata": {},
   "outputs": [],
   "source": []
  },
  {
   "cell_type": "code",
   "execution_count": null,
   "id": "62497741-2d20-4940-9fa1-d7b26c57fb0f",
   "metadata": {},
   "outputs": [],
   "source": []
  },
  {
   "cell_type": "code",
   "execution_count": null,
   "id": "8d4e5f5c-70a1-407a-ae20-786da53b344c",
   "metadata": {},
   "outputs": [],
   "source": []
  },
  {
   "cell_type": "code",
   "execution_count": null,
   "id": "eccbfb1e-65ed-4501-ac28-f8a83ed29bf0",
   "metadata": {},
   "outputs": [],
   "source": []
  },
  {
   "cell_type": "markdown",
   "id": "3252b4b2-1966-4221-8121-6bc84f2964c3",
   "metadata": {},
   "source": [
    "Polymorphism"
   ]
  },
  {
   "cell_type": "code",
   "execution_count": null,
   "id": "d24a662d-c355-42ab-8d22-37a02cc1873f",
   "metadata": {},
   "outputs": [],
   "source": []
  },
  {
   "cell_type": "code",
   "execution_count": null,
   "id": "76ab9384-1e86-4fc4-8a09-5dd63be160cd",
   "metadata": {},
   "outputs": [],
   "source": []
  },
  {
   "cell_type": "markdown",
   "id": "304ab143-c9e0-4cf1-826a-dda1aa5824b2",
   "metadata": {},
   "source": [
    "Polymorphism in Python is a concept that allows objects of different types to be treated as objects of a common type. It enables a single interface to represent different types or, in other words, the ability of a single function or method to work with different types of data."
   ]
  },
  {
   "cell_type": "markdown",
   "id": "3ac7f4e2-c7bc-49be-9c78-93a849291f02",
   "metadata": {},
   "source": [
    "Encapsulation: Bundling of data and methods that operate on that data into a single unit (class).\n",
    "\n",
    "Abstraction: Simplifying complex systems by modeling classes based on the essential properties and behaviors.\n",
    "\n",
    "Inheritance: Creating new classes by reusing properties and behaviors of existing classes.\n",
    "\n",
    "Polymorphism: Providing a single interface for different data types, allowing flexibility in using different classes interchangeably."
   ]
  },
  {
   "cell_type": "code",
   "execution_count": null,
   "id": "98d65db4-1026-4763-9c1b-8b7ba664835d",
   "metadata": {},
   "outputs": [],
   "source": []
  },
  {
   "cell_type": "code",
   "execution_count": null,
   "id": "cc0df3a9-058f-49a3-af60-e78a2152702a",
   "metadata": {},
   "outputs": [],
   "source": []
  },
  {
   "cell_type": "markdown",
   "id": "382ae212-d652-4315-9bf4-93a44a0779bd",
   "metadata": {},
   "source": [
    "Compile-time Polymorphism (Static Binding):\n",
    "\n",
    "Also known as static polymorphism, compile-time polymorphism involves resolving method calls at compile time.\n",
    "In Python, true function overloading (having multiple functions with the same name but different parameter types) is not supported in the same way as in some other statically-typed languages like C++ or Java.\n",
    "However, Python achieves a form of compile-time polymorphism through default parameter values and variable-length argument lists.\n",
    "Function calls are determined based on the number and types of arguments during compile-time."
   ]
  },
  {
   "cell_type": "code",
   "execution_count": null,
   "id": "ab75eefd-36d1-49c2-b07d-f8bfe8b452d2",
   "metadata": {},
   "outputs": [],
   "source": []
  },
  {
   "cell_type": "markdown",
   "id": "6ec22bd8-c506-4473-95ff-89ec3e5270a2",
   "metadata": {},
   "source": [
    "Runtime Polymorphism (Dynamic Binding):\n",
    "\n",
    "Also known as dynamic polymorphism, runtime polymorphism  involves resolving method calls at runtime.\n",
    "It is associated with method overriding in the context of object-oriented programming.\n",
    "In Python, method overriding is achieved when a subclass provides a specific implementation for a method that is already defined in its superclass.\n",
    "The actual method to be called is determined dynamically during runtime based on the type of the object."
   ]
  },
  {
   "cell_type": "code",
   "execution_count": null,
   "id": "abf12fdb-5551-4891-94b2-0b05a2c711f1",
   "metadata": {},
   "outputs": [],
   "source": []
  },
  {
   "cell_type": "code",
   "execution_count": null,
   "id": "8cf5a839-f8d0-4226-9f65-4b8ef8d83f3f",
   "metadata": {},
   "outputs": [],
   "source": []
  },
  {
   "cell_type": "code",
   "execution_count": 6,
   "id": "c5092ee4-f6c1-4d4c-994c-7149ffa386aa",
   "metadata": {},
   "outputs": [
    {
     "name": "stdout",
     "output_type": "stream",
     "text": [
      "For square ,\n",
      "Area : 25\n",
      " \n",
      "For rectagle ,\n",
      "Area : 200\n",
      " \n",
      "For triangle ,\n",
      "Area : 10.0\n",
      " \n",
      "For circle, \n",
      "Area : 1661.0600000000002\n"
     ]
    }
   ],
   "source": [
    "import math\n",
    "\n",
    "class Shape:\n",
    "    def calc_area(self):\n",
    "        pass\n",
    "    \n",
    "class Square(Shape):\n",
    "    def __init__(self,side):\n",
    "        self.side = side\n",
    "        \n",
    "    def calc_area(self):\n",
    "        return self.side**2\n",
    "    \n",
    "class Rectangle(Shape):\n",
    "    def __init__(self,length,breadth):\n",
    "        self.length = length\n",
    "        self.breadth = breadth\n",
    "        \n",
    "    def calc_area(self):\n",
    "        return self.length*self.breadth\n",
    "    \n",
    "class Triangle(Shape):\n",
    "    def __init__(self,base,height):\n",
    "        self.base = base\n",
    "        self.height = height\n",
    "        \n",
    "    def calc_area(self):\n",
    "        return 0.5*self.base*self.height\n",
    "    \n",
    "class Circle(Shape):\n",
    "    def __init__(self,radius):\n",
    "        self.radius = radius\n",
    "        \n",
    "    def calc_area(self):\n",
    "        return 3.14*(self.radius**2)\n",
    "    \n",
    "    \n",
    "def printarea(shape):\n",
    "    print(f'Area : {shape.calc_area()}')\n",
    "    \n",
    "    \n",
    "square = Square(side=5)\n",
    "rectangle = Rectangle(length=20,breadth=10)\n",
    "triangle = Triangle(base=2,height=10)\n",
    "circle = Circle(radius=23)\n",
    "\n",
    "print('For square ,')\n",
    "printarea(square)\n",
    "print(\" \")\n",
    "print('For rectagle ,')\n",
    "printarea(rectangle)\n",
    "print(\" \")\n",
    "print('For triangle ,')\n",
    "printarea(triangle)\n",
    "print(\" \")\n",
    "print(\"For circle, \")\n",
    "printarea(circle)\n",
    "    \n",
    "        "
   ]
  },
  {
   "cell_type": "code",
   "execution_count": null,
   "id": "0f3ac7ff-1122-40ae-9bb8-b9a0fb225580",
   "metadata": {},
   "outputs": [],
   "source": []
  },
  {
   "cell_type": "code",
   "execution_count": null,
   "id": "b89383d8-b312-4a72-ab05-c3fa36641de5",
   "metadata": {},
   "outputs": [],
   "source": []
  },
  {
   "cell_type": "markdown",
   "id": "6766de88-952f-453b-97a1-5b08386d295b",
   "metadata": {},
   "source": [
    "Method overriding is a concept in object-oriented programming that allows a subclass to provide a specific implementation for a method that is already defined in its superclass. In other words, the subclass redefines or overrides a method inherited from its superclass, providing its own implementation.\n",
    "\n",
    "Example:-"
   ]
  },
  {
   "cell_type": "code",
   "execution_count": 8,
   "id": "936f011d-b6db-4f61-abb0-e8d546d06509",
   "metadata": {},
   "outputs": [
    {
     "name": "stdout",
     "output_type": "stream",
     "text": [
      "make some generic sound\n",
      "Woof!\n",
      "Meow!\n"
     ]
    }
   ],
   "source": [
    "class Animal:\n",
    "    def make_sound(self):\n",
    "        print(\"make some generic sound\")\n",
    "        \n",
    "class Dog(Animal):\n",
    "    def make_sound(self):\n",
    "        print(\"Woof!\")\n",
    "\n",
    "class Cat(Animal):\n",
    "    def make_sound(self):\n",
    "        print(\"Meow!\")\n",
    "        \n",
    "animal = Animal()\n",
    "animal.make_sound()\n",
    "dog = Dog()\n",
    "dog.make_sound()\n",
    "cat = Cat()\n",
    "cat.make_sound()"
   ]
  },
  {
   "cell_type": "code",
   "execution_count": null,
   "id": "655faa62-0967-422e-8daf-541b366e77b8",
   "metadata": {},
   "outputs": [],
   "source": []
  },
  {
   "cell_type": "code",
   "execution_count": null,
   "id": "46a0a87d-b53c-4c00-93ad-aefa12e8afc8",
   "metadata": {},
   "outputs": [],
   "source": []
  },
  {
   "cell_type": "markdown",
   "id": "370175e4-bc94-4aa3-8015-ecf2533d2b1c",
   "metadata": {},
   "source": [
    "Polymorphism:\n",
    "Polymorphism refers to the ability of objects of different types to be treated as objects of a common type. It allows a single interface to represent different types of data, and it is often associated with method overriding in the context of object-oriented programming."
   ]
  },
  {
   "cell_type": "code",
   "execution_count": 12,
   "id": "40056c49-e2d3-4173-9d83-d94feb3e8d9c",
   "metadata": {},
   "outputs": [
    {
     "name": "stdout",
     "output_type": "stream",
     "text": [
      "Woof!\n",
      "Meow!\n"
     ]
    }
   ],
   "source": [
    "class Animal:\n",
    "    def make_sound(self):\n",
    "        return 'Some generic sound'\n",
    "        \n",
    "class Dog(Animal):\n",
    "    def make_sound(self):\n",
    "        return 'Woof!'\n",
    "        \n",
    "class Cat(Animal):\n",
    "    def make_sound(self):\n",
    "        return 'Meow!'\n",
    "        \n",
    "def soundx(animal):\n",
    "    return animal.make_sound()\n",
    "    \n",
    "dog = Dog()\n",
    "cat = Cat()\n",
    "\n",
    "print(soundx(dog))\n",
    "print(soundx(cat))\n"
   ]
  },
  {
   "cell_type": "code",
   "execution_count": null,
   "id": "4102d489-24cf-408a-a752-4f25262178cb",
   "metadata": {},
   "outputs": [],
   "source": []
  },
  {
   "cell_type": "code",
   "execution_count": null,
   "id": "5c6726c7-2a43-4785-8b03-48574bb960a4",
   "metadata": {},
   "outputs": [],
   "source": []
  },
  {
   "cell_type": "code",
   "execution_count": 15,
   "id": "77677de7-895e-4b42-b746-ca457165628b",
   "metadata": {},
   "outputs": [
    {
     "name": "stdout",
     "output_type": "stream",
     "text": [
      "Woof!\n",
      "Meow!\n",
      "Chirp!\n"
     ]
    }
   ],
   "source": [
    "class Animal:\n",
    "    def speak(self):\n",
    "        return 'Generic Animal Sound'\n",
    "    \n",
    "class Dog(Animal):\n",
    "    def speak(self):\n",
    "        return 'Woof!'\n",
    "    \n",
    "class Cat(Animal):\n",
    "    def speak(self):\n",
    "        return 'Meow!'\n",
    "\n",
    "class Bird(Animal):\n",
    "    def speak(self):\n",
    "        return 'Chirp!'\n",
    "    \n",
    "def xsound(animal):\n",
    "    return animal.speak()\n",
    "    \n",
    "    \n",
    "dog = Dog()\n",
    "cat = Cat()\n",
    "bird = Bird()\n",
    "\n",
    "print(xsound(dog))\n",
    "print(xsound(cat))\n",
    "print(xsound(bird))"
   ]
  },
  {
   "cell_type": "code",
   "execution_count": null,
   "id": "54670841-80fd-4303-adc0-0dfeb2a045ac",
   "metadata": {},
   "outputs": [],
   "source": []
  },
  {
   "cell_type": "markdown",
   "id": "4a93adbd-c503-47fe-9c3e-d17484a97fd6",
   "metadata": {},
   "source": [
    "Abstract classes cannot be instantiated:\n",
    "\n",
    "An abstract class is a class that cannot be instantiated on its own. It is meant to be a blueprint for other classes rather than an actual object.\n",
    "You cannot create an object directly from an abstract class. Instead, it serves as a template for other classes that inherit from it.\n",
    "\n",
    "\n",
    "\n",
    "Their abstract methods must be implemented by concrete subclasses:\n",
    "\n",
    "An abstract method is a method declared in an abstract class that has no implementation in the abstract class itself.\n",
    "Concrete subclasses (non-abstract classes) that inherit from the abstract class must provide an implementation for all the abstract methods declared in the abstract class.\n",
    "The requirement to implement abstract methods ensures that every concrete subclass adheres to a common interface, meaning that each subclass provides its own specific implementation for the methods defined in the abstract class.\n",
    "\n",
    "\n",
    "\n",
    "This ensures that all subclasses adhere to a common interface:\n",
    "\n",
    "By enforcing the implementation of abstract methods in concrete subclasses, you establish a common interface or contract that all subclasses must follow.\n",
    "It guarantees that regardless of the specific details or functionality of each subclass, they all share a set of methods defined in the abstract class.\n",
    "This common interface allows objects of different concrete subclasses to be used interchangeably, promoting polymorphism and making the code more predictable and maintainable."
   ]
  },
  {
   "cell_type": "code",
   "execution_count": 16,
   "id": "3bdfaaee-f15b-4d94-afcf-e3daf4c51ac2",
   "metadata": {},
   "outputs": [
    {
     "name": "stdout",
     "output_type": "stream",
     "text": [
      "For square ,\n",
      "Area : 25\n",
      " \n",
      "For rectagle ,\n",
      "Area : 200\n",
      " \n",
      "For triangle ,\n",
      "Area : 10.0\n",
      " \n",
      "For circle, \n",
      "Area : 1661.0600000000002\n"
     ]
    }
   ],
   "source": [
    "from abc import ABC, abstractmethod\n",
    "import math\n",
    "\n",
    "class Shape(ABC):\n",
    "    @abstractmethod\n",
    "    def calc_area(self):\n",
    "        pass\n",
    "    \n",
    "class Square(Shape):\n",
    "    def __init__(self,side):\n",
    "        self.side = side\n",
    "        \n",
    "    def calc_area(self):\n",
    "        return self.side**2\n",
    "    \n",
    "class Rectangle(Shape):\n",
    "    def __init__(self,length,breadth):\n",
    "        self.length = length\n",
    "        self.breadth = breadth\n",
    "        \n",
    "    def calc_area(self):\n",
    "        return self.length*self.breadth\n",
    "    \n",
    "class Triangle(Shape):\n",
    "    def __init__(self,base,height):\n",
    "        self.base = base\n",
    "        self.height = height\n",
    "        \n",
    "    def calc_area(self):\n",
    "        return 0.5*self.base*self.height\n",
    "    \n",
    "class Circle(Shape):\n",
    "    def __init__(self,radius):\n",
    "        self.radius = radius\n",
    "        \n",
    "    def calc_area(self):\n",
    "        return 3.14*(self.radius**2)\n",
    "    \n",
    "    \n",
    "def printarea(shape):\n",
    "    print(f'Area : {shape.calc_area()}')\n",
    "    \n",
    "    \n",
    "square = Square(side=5)\n",
    "rectangle = Rectangle(length=20,breadth=10)\n",
    "triangle = Triangle(base=2,height=10)\n",
    "circle = Circle(radius=23)\n",
    "\n",
    "print('For square ,')\n",
    "printarea(square)\n",
    "print(\" \")\n",
    "print('For rectagle ,')\n",
    "printarea(rectangle)\n",
    "print(\" \")\n",
    "print('For triangle ,')\n",
    "printarea(triangle)\n",
    "print(\" \")\n",
    "print(\"For circle, \")\n",
    "printarea(circle)\n",
    "    \n",
    "        "
   ]
  },
  {
   "cell_type": "code",
   "execution_count": null,
   "id": "7ea33904-e389-41b8-ad25-9cd29bcef048",
   "metadata": {},
   "outputs": [],
   "source": []
  },
  {
   "cell_type": "code",
   "execution_count": null,
   "id": "086587ad-ade1-4040-9307-44c2cfc1664c",
   "metadata": {},
   "outputs": [],
   "source": []
  },
  {
   "cell_type": "code",
   "execution_count": 18,
   "id": "98cb0f9c-3b1c-439d-8caf-683c87047fec",
   "metadata": {},
   "outputs": [
    {
     "name": "stdout",
     "output_type": "stream",
     "text": [
      "Start the car!\n",
      "Ride the bicycle!\n",
      "Start the boat!\n"
     ]
    }
   ],
   "source": [
    "from abc import ABC, abstractmethod\n",
    "\n",
    "class VehicleSystem(ABC):\n",
    "    @abstractmethod\n",
    "    def vehicle_start(self):\n",
    "        return 'Start the vehicle.'\n",
    "    \n",
    "class Car(VehicleSystem):\n",
    "    def vehicle_start(self):\n",
    "        return 'Start the car!'\n",
    "    \n",
    "class Bicycle(VehicleSystem):\n",
    "    def vehicle_start(self):\n",
    "        return 'Ride the bicycle!'\n",
    "    \n",
    "class Boat(VehicleSystem):\n",
    "    def vehicle_start(self):\n",
    "        return 'Start the boat!'\n",
    "    \n",
    "def start_vehicle(vehicle):\n",
    "    return vehicle.vehicle_start()\n",
    "\n",
    "car = Car()\n",
    "bicycle = Bicycle()\n",
    "boat = Boat()\n",
    "\n",
    "print(start_vehicle(car))\n",
    "print(start_vehicle(bicycle))\n",
    "print(start_vehicle(boat))"
   ]
  },
  {
   "cell_type": "code",
   "execution_count": null,
   "id": "28774e81-b04a-4a70-8f13-43a1dd4be4e8",
   "metadata": {},
   "outputs": [],
   "source": []
  },
  {
   "cell_type": "code",
   "execution_count": null,
   "id": "1a9ee45e-d595-4bbc-8cb3-ffe3ff0b98b4",
   "metadata": {},
   "outputs": [],
   "source": [
    "\n"
   ]
  },
  {
   "cell_type": "code",
   "execution_count": null,
   "id": "00a3263d-f64c-4bdf-869e-d6497609af55",
   "metadata": {},
   "outputs": [],
   "source": []
  },
  {
   "cell_type": "markdown",
   "id": "4539b438-617d-4216-b917-e42ac72baca6",
   "metadata": {},
   "source": [
    "isinstance() Function:\n",
    "\n",
    "The isinstance() function is used to determine if an object is an instance of a particular class or a tuple of classes.\n",
    "It plays a significant role in polymorphism by allowing you to check if an object is an instance of a base class or any of its derived classes.\n",
    "This function is often used to handle objects of different types in a unified way, supporting the idea of treating objects based on their common interface rather than their specific types."
   ]
  },
  {
   "cell_type": "markdown",
   "id": "4989fd91-8174-4726-9afb-fdd0fef00dbe",
   "metadata": {},
   "source": [
    "issubclass() Function:\n",
    "\n",
    "The issubclass() function is used to check if a class is a subclass of another class.\n",
    "It is particularly useful in polymorphism to verify the inheritance relationships between classes, ensuring that a subclass adheres to the common interface defined by its base class."
   ]
  },
  {
   "cell_type": "code",
   "execution_count": null,
   "id": "26c500d9-77d7-4725-b559-d7c10211108f",
   "metadata": {},
   "outputs": [],
   "source": []
  },
  {
   "cell_type": "code",
   "execution_count": null,
   "id": "e365c21b-cfb6-4b4a-8fcf-4cecfcb365ee",
   "metadata": {},
   "outputs": [],
   "source": []
  },
  {
   "cell_type": "markdown",
   "id": "df928b9a-a636-4a03-a14b-09d0714bb027",
   "metadata": {},
   "source": [
    "The @abstractmethod decorator in Python is part of the abc (Abstract Base Classes) module, and it is used to define abstract methods in abstract classes. Abstract methods are methods declared in an abstract class but have no implementation in the abstract class itself. Subclasses that inherit from the abstract class are required to provide an implementation for these abstract methods."
   ]
  },
  {
   "cell_type": "code",
   "execution_count": null,
   "id": "e095bd6f-1a0e-4073-8382-ae92f5b5ccb2",
   "metadata": {},
   "outputs": [],
   "source": []
  },
  {
   "cell_type": "code",
   "execution_count": null,
   "id": "50ad1d52-0e20-4a6e-a292-5264789ddb9f",
   "metadata": {},
   "outputs": [],
   "source": []
  },
  {
   "cell_type": "code",
   "execution_count": 4,
   "id": "effc921f-bebe-4247-b4aa-73ac5fb6791b",
   "metadata": {},
   "outputs": [
    {
     "name": "stdout",
     "output_type": "stream",
     "text": [
      "First Instruction : \n",
      "Start the vehicle!\n",
      " \n",
      "Second Instruction : \n",
      "Stop the vehicle!\n"
     ]
    }
   ],
   "source": [
    "class Vehicle:\n",
    "    def command(self):\n",
    "        pass\n",
    "    \n",
    "class Start_Vehicle(Vehicle):\n",
    "    def command(self):\n",
    "        return 'Start the vehicle!'\n",
    "    \n",
    "class Stop_Vehicle(Vehicle):\n",
    "    def command(self):\n",
    "        return 'Stop the vehicle!'\n",
    "    \n",
    "def take_command(step):\n",
    "    return step.command()\n",
    "\n",
    "\n",
    "start = Start_Vehicle()\n",
    "stop = Stop_Vehicle()\n",
    "\n",
    "print('First Instruction : ')\n",
    "print(take_command(start))\n",
    "print(\" \")\n",
    "print(\"Second Instruction : \")\n",
    "print(take_command(stop))\n"
   ]
  },
  {
   "cell_type": "code",
   "execution_count": null,
   "id": "80266ce9-e4d5-487b-ab38-399cd242a4e5",
   "metadata": {},
   "outputs": [],
   "source": []
  },
  {
   "cell_type": "code",
   "execution_count": null,
   "id": "f31f853f-5169-46ca-a575-ae570ce27b2d",
   "metadata": {},
   "outputs": [],
   "source": []
  },
  {
   "cell_type": "markdown",
   "id": "6e2b9642-fa4f-430a-aad3-8c70d29412a1",
   "metadata": {},
   "source": [
    "Abstract Classes:\n",
    "\n",
    "\n",
    "Definition:\n",
    "\n",
    "Abstract classes are classes that cannot be instantiated on their own.\n",
    "They are meant to be subclassed by other classes.\n",
    "Abstract classes often contain abstract methods, which are methods without a body. Subclasses must provide implementations for these abstract methods.\n",
    "\n",
    "\n",
    "Usage:\n",
    "\n",
    "Abstract classes are used to define a common interface for a group of related classes.\n",
    "They provide a blueprint for other classes to follow.\n",
    "\n",
    "\n",
    "Declaration:\n",
    "\n",
    "Abstract classes are created using the ABC (Abstract Base Class) module in Python.\n",
    "The ABC module allows you to define abstract methods using the @abstractmethod decorator.\n",
    "\n",
    "\n",
    "Instantiation:\n",
    "\n",
    "Abstract classes cannot be instantiated directly. Attempting to create an instance of an abstract class will result in a TypeError."
   ]
  },
  {
   "cell_type": "code",
   "execution_count": null,
   "id": "72087e29-cf57-4eb5-b927-ff117322c708",
   "metadata": {},
   "outputs": [],
   "source": []
  },
  {
   "cell_type": "markdown",
   "id": "029d8119-9f21-4e2d-be30-4200cd613a02",
   "metadata": {},
   "source": [
    "Concrete Classes:\n",
    "\n",
    "\n",
    "Definition:\n",
    "\n",
    "Concrete classes are regular classes that can be instantiated on their own.\n",
    "They can be used to create objects directly.\n",
    "\n",
    "\n",
    "Usage:\n",
    "\n",
    "Concrete classes are used to provide specific implementations for the abstract methods defined in abstract classes.\n",
    "They can also have their own methods and attributes.\n",
    "\n",
    "\n",
    "Declaration:\n",
    "\n",
    "Concrete classes are created without using the ABC module, and they provide implementations for all abstract methods of their parent abstract classes.\n",
    "\n",
    "\n",
    "Instantiation:\n",
    "\n",
    "Concrete classes can be instantiated just like any other class in Python."
   ]
  },
  {
   "cell_type": "markdown",
   "id": "0f735dbe-bc98-471b-8e9e-f2b447e4cc70",
   "metadata": {},
   "source": []
  },
  {
   "cell_type": "code",
   "execution_count": null,
   "id": "bedd4a08-88a2-46fb-9b38-ea808ca4d54e",
   "metadata": {},
   "outputs": [],
   "source": []
  },
  {
   "cell_type": "markdown",
   "id": "9a1c03e4-fd08-4593-bffb-7b881bc83a46",
   "metadata": {},
   "source": [
    "Abstract Data Types (ADTs) are a fundamental concept in computer science and software engineering that involve the specification of a set of operations on a data type without specifying the details of how these operations are implemented. The primary goal of ADTs is to provide a high-level abstraction, allowing programmers to use and manipulate data structures without needing to be concerned with the underlying implementation details. This concept helps in achieving abstraction, which is a key principle in software design."
   ]
  },
  {
   "cell_type": "code",
   "execution_count": null,
   "id": "3a17e80c-6870-4c15-b05b-50a6407f75a2",
   "metadata": {},
   "outputs": [],
   "source": []
  },
  {
   "cell_type": "code",
   "execution_count": null,
   "id": "c82c3ac8-147b-4223-943e-676d47adac2e",
   "metadata": {},
   "outputs": [],
   "source": []
  },
  {
   "cell_type": "code",
   "execution_count": 4,
   "id": "d8ad269a-270d-44e1-a15b-83bdbb2371b0",
   "metadata": {},
   "outputs": [
    {
     "name": "stdout",
     "output_type": "stream",
     "text": [
      " \n",
      "Salary of Rish Bose with 0X0001 ID is : 250000\n",
      " \n",
      "Salary of Ayonav C with 0D0101 ID is : 100000\n",
      " \n",
      "Salary of Rev Luton with 1000D0x ID is : 25000\n"
     ]
    }
   ],
   "source": [
    "from abc import ABC, abstractmethod\n",
    "class Company:\n",
    "    def __init__(self,name,employee_id):\n",
    "        self.name = name\n",
    "        self.employee_id = employee_id\n",
    "    \n",
    "    @abstractmethod\n",
    "    def get_salary(self):\n",
    "        pass\n",
    "    \n",
    "class Manager(Company):\n",
    "    def __init__(self,name,employee_id,team_size):\n",
    "        super().__init__(name,employee_id)\n",
    "        self.team_size = team_size\n",
    "        \n",
    "    def get_salary(self):\n",
    "        if self.team_size > 5 and self.team_size <= 10:\n",
    "            return f'Salary of {self.name} with {self.employee_id} ID is : 50000'\n",
    "        elif self.team_size > 10 and self.team_size <= 50 :\n",
    "            return f'Salary of {self.name} with {self.employee_id} ID is : 100000'\n",
    "        elif self.team_size > 50:\n",
    "            return f'Salary of {self.name} with {self.employee_id} ID is : 250000'\n",
    "        else:\n",
    "            return f'{self.employee_id} ID number is not a manager.'\n",
    "        \n",
    "class Developer(Company):\n",
    "    def __init__(self,name,employee_id,plang):\n",
    "        super().__init__(name,employee_id)\n",
    "        self.plang = plang\n",
    "        \n",
    "    def get_salary(self):\n",
    "        if self.plang == 'python' or 'Python' or 'PYTHON':\n",
    "            return f'Salary of {self.name} with {self.employee_id} ID is : 100000'\n",
    "        elif self.plang == 'java' or 'Java' or 'JAVA':\n",
    "            return f'Salary of {self.name} with {self.employee_id} ID is : 75000'\n",
    "        else:\n",
    "            return f'{self.employee_id} is not a developer'\n",
    "        \n",
    "\n",
    "class Designer(Company):\n",
    "    def __init__(self,name,employee_id,exp):\n",
    "        super().__init__(name,employee_id)\n",
    "        self.exp = exp\n",
    "        \n",
    "    def get_salary(self):\n",
    "        if self.exp > 10 :\n",
    "            return f'Salary of {self.name} with {self.employee_id} ID is : 40000'\n",
    "        elif self.exp <= 10 :\n",
    "            return f'Salary of {self.name} with {self.employee_id} ID is : 25000'\n",
    "        elif self.exp == 0:\n",
    "            return f'{self.name} is an intern.'\n",
    "        else:\n",
    "            return f'{self.employee_id} is not a designer'\n",
    "        \n",
    "def calc(obj):\n",
    "    return obj.get_salary()\n",
    "\n",
    "manager = Manager(name='Rish Bose', employee_id='0X0001',team_size=450)\n",
    "developer = Developer(name='Ayonav C',employee_id='0D0101',plang='python')\n",
    "designer = Designer(name='Rev Luton',employee_id='1000D0x',exp=2)\n",
    "print(\" \")\n",
    "print(calc(manager))\n",
    "print(\" \")\n",
    "print(calc(developer))\n",
    "print(\" \")\n",
    "print(calc(designer))\n",
    "        \n",
    "    \n",
    "        \n",
    "    "
   ]
  },
  {
   "cell_type": "code",
   "execution_count": null,
   "id": "afc2b30c-385b-4b42-a9af-636c77fa117c",
   "metadata": {},
   "outputs": [],
   "source": []
  },
  {
   "cell_type": "code",
   "execution_count": null,
   "id": "2f5d5443-dbf8-43b9-b9b7-590556ff3519",
   "metadata": {},
   "outputs": [],
   "source": []
  },
  {
   "cell_type": "markdown",
   "id": "608f4c06-af62-41fd-a3a9-0f7585230a7c",
   "metadata": {},
   "source": [
    "\n",
    "Abstraction is a crucial concept in software development, especially in large-scale projects, where complexity is inherently high. Here are several benefits of using abstraction in large-scale software development projects:-\n",
    "\n",
    "\n",
    "Complexity Management:\n",
    "\n",
    "Reduced Cognitive Load: Abstraction allows developers to focus on high-level concepts and hide unnecessary details. This reduces the cognitive load on developers, making it easier to understand, maintain, and modify the codebase.\n",
    "\n",
    "\n",
    "Code Organization and Structure:\n",
    "\n",
    "Modularity: Abstraction facilitates modular design. Components with well-defined interfaces can be developed and tested independently, making it easier to manage and maintain the codebase.\n",
    "\n",
    "\n",
    "Encapsulation: Abstraction supports encapsulation, where the internal implementation details are hidden. This helps in creating more robust and maintainable code by preventing unintended interference with internal workings.\n",
    "\n",
    "\n",
    "Code Reusability:\n",
    "\n",
    "Library and Framework Usage: Abstraction allows developers to use external libraries and frameworks without needing to understand their internal implementations. This promotes code reuse and accelerates development by leveraging existing solutions.\n",
    "\n",
    "\n",
    "Adaptability and Maintenance:\n",
    "\n",
    "Easier Updates: With abstraction, it becomes easier to update or replace components without affecting the entire system. Changes can be localized to the specific module or class, reducing the risk of introducing bugs and making updates more manageable.\n",
    "\n",
    "\n",
    "Maintenance Ease:\n",
    "\n",
    "Abstraction supports a clear separation of concerns, making it easier to identify and fix issues. Maintenance tasks become less error-prone as developers can focus on specific components without being overwhelmed by the entire system.\n",
    "\n",
    "\n",
    "Team Collaboration:\n",
    "\n",
    "Clear Interfaces: Abstraction enforces the definition of clear interfaces between different components. This allows different teams or developers to work on different parts of the system simultaneously, as long as they adhere to the specified interfaces.\n",
    "\n",
    "\n",
    "Scalability:\n",
    "\n",
    "Support for Growth: Abstraction allows the system to scale gracefully. As new features are added or requirements change, the existing abstractions provide a foundation that can be extended without necessitating a complete overhaul of the codebase.\n",
    "\n",
    "\n",
    "Security and Stability:\n",
    "\n",
    "Isolation of Concerns: Abstraction helps in isolating concerns, reducing the impact of changes in one part of the system on others. This isolation contributes to enhanced security and stability by minimizing the potential for unintended side effects.\n",
    "\n",
    "\n",
    "Testing and Debugging:\n",
    "\n",
    "Focused Testing: Abstraction enables more focused and targeted testing. Unit testing becomes more effective when individual components can be tested in isolation, ensuring that each part of the system works correctly before integration.\n",
    "\n",
    "\n",
    "Documentation:\n",
    "\n",
    "Clear Documentation: Abstraction encourages the creation of clear and concise documentation. High-level abstractions provide a natural way to document the purpose and usage of different components, aiding developers in understanding the system."
   ]
  },
  {
   "cell_type": "code",
   "execution_count": null,
   "id": "e8325de3-bac6-4a15-963b-deacaf98bc56",
   "metadata": {},
   "outputs": [],
   "source": []
  },
  {
   "cell_type": "code",
   "execution_count": null,
   "id": "0649fc11-b2f2-43e1-a6f5-58a8118e1535",
   "metadata": {},
   "outputs": [],
   "source": []
  },
  {
   "cell_type": "markdown",
   "id": "fe81b7d2-ef69-49d2-b544-2ce9095c6600",
   "metadata": {},
   "source": [
    "Code Reusability:\n",
    "\n",
    "\n",
    "Encapsulation of Implementation Details:\n",
    "\n",
    "Abstraction allows developers to encapsulate the implementation details of a particular functionality within a module, class, or function.\n",
    "Users of the abstraction interact with it through a well-defined interface, and they are shielded from the underlying complexities.\n",
    "This encapsulation makes it easier to reuse the abstraction without needing to understand or modify its internal workings.\n",
    "\n",
    "\n",
    "Creation of Libraries and Modules:\n",
    "\n",
    "Python supports the creation of reusable libraries and modules, which can be seen as abstracted collections of related functionalities.\n",
    "By abstracting away the implementation details and exposing a clean interface, these libraries can be easily reused in different projects.\n",
    "\n",
    "\n",
    "Inheritance and Polymorphism:\n",
    "\n",
    "Inheritance, a form of abstraction, allows the creation of new classes that inherit the properties and methods of existing classes.\n",
    "Polymorphism enables objects to be treated as instances of their parent class, promoting interchangeable use of different implementations.\n",
    "These features contribute to code reuse by allowing developers to build on existing classes and modify or extend their behavior.\n",
    "\n",
    "\n",
    "Design Patterns:\n",
    "\n",
    "Abstraction helps in the implementation of design patterns, which are proven solutions to recurring design problems.\n",
    "Design patterns often involve creating abstract classes or interfaces that can be adapted to various scenarios, fostering code reuse across different contexts.\n",
    "\n",
    "\n",
    "\n",
    "\n",
    "Modularity:\n",
    "\n",
    "\n",
    "Separation of Concerns:\n",
    "\n",
    "Abstraction encourages the separation of concerns, where different parts of the program are isolated and treated as independent modules.\n",
    "Each module can focus on a specific aspect of functionality, making the codebase more organized and easier to understand.\n",
    "\n",
    "\n",
    "Well-Defined Interfaces:\n",
    "\n",
    "Abstraction defines well-defined interfaces for modules, classes, or functions.\n",
    "This separation of interface from implementation allows modules to interact with each other based on specified contracts, promoting a clear boundary between different parts of the program.\n",
    "\n",
    "\n",
    "Independent Development:\n",
    "\n",
    "With abstraction, different modules can be developed independently as long as they adhere to the defined interfaces.\n",
    "This independence facilitates parallel development by different teams or developers, leading to faster and more efficient project development.\n",
    "\n",
    "\n",
    "Easy Maintenance:\n",
    "\n",
    "Modularity simplifies maintenance efforts. When a change is required, developers can focus on the specific module without affecting the entire codebase.\n",
    "This targeted approach to maintenance reduces the risk of introducing errors and accelerates the debugging and updating process.\n",
    "\n",
    "\n",
    "Dynamic Loading and Importing:\n",
    "\n",
    "Python's ability to dynamically load and import modules at runtime enhances modularity.\n",
    "Modules can be added or replaced without affecting the rest of the program, making it easier to extend or update functionalities."
   ]
  },
  {
   "cell_type": "code",
   "execution_count": null,
   "id": "d9880ed5-53f1-4d11-9ba8-c7abc8eab8a7",
   "metadata": {},
   "outputs": [],
   "source": []
  },
  {
   "cell_type": "code",
   "execution_count": null,
   "id": "73f93b01-adee-4768-b41b-1328a344b68a",
   "metadata": {},
   "outputs": [],
   "source": []
  },
  {
   "cell_type": "markdown",
   "id": "786220fd-d42e-4b94-8063-7282a38e1034",
   "metadata": {},
   "source": [
    "The concept of function pointers is not explicit as in some other languages like C or C++, where you can have pointers to functions. However, the concept of achieving polymorphism, which is closely related to function pointers in other languages, is still relevant and can be implemented in Python using a different approach.\n",
    "\n",
    "In Python, polymorphism can be achieved through the use of duck typing and abstract base classes. Duck typing allows objects to be used based on their behavior rather than their type, and abstract base classes provide a way to define a common interface that multiple classes can implement."
   ]
  },
  {
   "cell_type": "code",
   "execution_count": null,
   "id": "7fabd586-7730-4986-a810-c067d9104c91",
   "metadata": {},
   "outputs": [],
   "source": []
  },
  {
   "cell_type": "code",
   "execution_count": null,
   "id": "39822a48-b9b2-486a-8f8d-1d8efd70ae8c",
   "metadata": {},
   "outputs": [],
   "source": []
  },
  {
   "cell_type": "markdown",
   "id": "e31c595c-0de9-434c-9169-ae27071dbb8f",
   "metadata": {},
   "source": [
    "Comparisons:\n",
    "\n",
    "\n",
    "Multiple Inheritance:\n",
    "\n",
    "Abstract classes support single inheritance, meaning a class can inherit from only one abstract class.\n",
    "Interfaces support multiple inheritance, allowing a class to implement multiple interfaces.\n",
    "\n",
    "\n",
    "Default Implementation:\n",
    "\n",
    "Abstract classes can provide both abstract and concrete methods, offering a mix of default and required behavior.\n",
    "Interfaces only provide a contract for methods, leaving the implementation entirely to the implementing class.\n",
    "\n",
    "\n",
    "Enforcement:\n",
    "\n",
    "Abstract classes use inheritance to enforce a common structure among subclasses.\n",
    "Interfaces use explicit implementation of methods to enforce a contract.\n",
    "\n",
    "\n",
    "Flexibility:\n",
    "\n",
    "Interfaces offer more flexibility, especially when dealing with classes that are not part of the same inheritance hierarchy."
   ]
  },
  {
   "cell_type": "code",
   "execution_count": null,
   "id": "87e4951d-8a90-44ab-bc16-f53949322d88",
   "metadata": {},
   "outputs": [],
   "source": []
  },
  {
   "cell_type": "code",
   "execution_count": null,
   "id": "dda5d450-90fb-43ac-8d5e-6fcbc27aeae0",
   "metadata": {},
   "outputs": [],
   "source": []
  },
  {
   "cell_type": "code",
   "execution_count": 5,
   "id": "c9e8cd06-2ceb-4e75-9f1c-77f5c7f92724",
   "metadata": {},
   "outputs": [
    {
     "name": "stdout",
     "output_type": "stream",
     "text": [
      "The mammals are eating.\n",
      "The birds are sleeping.\n",
      "The reptiles are making sounds.\n",
      "The mammals are sleeping.\n",
      "The birds are making sounds.\n",
      "The reptiles are eating.\n",
      "The mammals are making sounds.\n",
      "The birds are feeding.\n",
      "The reptiles are sleeping.\n"
     ]
    }
   ],
   "source": [
    "from abc import ABC, abstractmethod\n",
    "\n",
    "class Animal(ABC):\n",
    "    @abstractmethod\n",
    "    def eating(self):\n",
    "        pass\n",
    "    \n",
    "    @abstractmethod\n",
    "    def sleeping(self):\n",
    "        pass\n",
    "    \n",
    "    @abstractmethod\n",
    "    def sounds(self):\n",
    "        pass\n",
    "    \n",
    "    \n",
    "class Mammal(Animal):\n",
    "    def eating(self):\n",
    "        return 'The mammals are eating.'\n",
    "    \n",
    "    def sleeping(self):\n",
    "        return 'The mammals are sleeping.'\n",
    "    \n",
    "    def sounds(self):\n",
    "        return 'The mammals are making sounds.'\n",
    "    \n",
    "    \n",
    "class Bird(Animal):\n",
    "    def eating(self):\n",
    "        return 'The birds are feeding.'\n",
    "    \n",
    "    def sleeping(self):\n",
    "        return 'The birds are sleeping.'\n",
    "    \n",
    "    def sounds(self):\n",
    "        return 'The birds are making sounds.'\n",
    "    \n",
    "\n",
    "class Reptile(Animal):\n",
    "    def eating(self):\n",
    "        return 'The reptiles are eating.'\n",
    "    \n",
    "    def sleeping(self):\n",
    "        return 'The reptiles are sleeping.'\n",
    "    \n",
    "    def sounds(self):\n",
    "        return 'The reptiles are making sounds.'\n",
    "    \n",
    "    \n",
    "def eat(obj):\n",
    "    return obj.eating()\n",
    "\n",
    "def sleep(obj):\n",
    "    return obj.sleeping()\n",
    "\n",
    "def sound(obj):\n",
    "    return obj.sounds()\n",
    "\n",
    "\n",
    "mammal = Mammal()\n",
    "bird = Bird()\n",
    "reptile = Reptile()\n",
    "\n",
    "print(mammal.eating())\n",
    "print(bird.sleeping())\n",
    "print(reptile.sounds())\n",
    "print(mammal.sleeping())\n",
    "print(bird.sounds())\n",
    "print(reptile.eating())\n",
    "print(mammal.sounds())\n",
    "print(bird.eating())\n",
    "print(reptile.sleeping())\n",
    "    \n",
    "    "
   ]
  },
  {
   "cell_type": "code",
   "execution_count": null,
   "id": "2425d544-750b-41ef-8bb3-e7b6b52fbca7",
   "metadata": {},
   "outputs": [],
   "source": []
  },
  {
   "cell_type": "code",
   "execution_count": null,
   "id": "3fb38589-ecae-4846-b3d4-7e043ea422aa",
   "metadata": {},
   "outputs": [],
   "source": []
  },
  {
   "cell_type": "code",
   "execution_count": null,
   "id": "74852b2a-906e-4520-b1ee-56d47fc9d6cc",
   "metadata": {},
   "outputs": [],
   "source": []
  },
  {
   "cell_type": "code",
   "execution_count": null,
   "id": "adbe05d5-23ad-41b0-9db6-5f320a3c9c2f",
   "metadata": {},
   "outputs": [],
   "source": []
  },
  {
   "cell_type": "markdown",
   "id": "93050c78-dcbd-4491-aa6d-912761039264",
   "metadata": {},
   "source": [
    "Abstraction :"
   ]
  },
  {
   "cell_type": "code",
   "execution_count": null,
   "id": "6c479ceb-4b56-4f3b-8509-8142c793473a",
   "metadata": {},
   "outputs": [],
   "source": []
  },
  {
   "cell_type": "code",
   "execution_count": null,
   "id": "19422ba2-3b4d-48ac-91c4-825fa4fa1d39",
   "metadata": {},
   "outputs": [],
   "source": []
  },
  {
   "cell_type": "markdown",
   "id": "d61c40ec-8e6e-49b7-a6a0-e6a799ce3ea1",
   "metadata": {},
   "source": [
    "Abstraction in Python and OOP generally involves creating abstract classes and interfaces that define a blueprint for other classes. These abstract classes may include abstract methods, which are declared but not implemented in the abstract class. Concrete classes that inherit from the abstract class must provide implementations for these abstract methods."
   ]
  },
  {
   "cell_type": "code",
   "execution_count": null,
   "id": "28ba830e-d4b7-430e-9eb4-8a15f03941b1",
   "metadata": {},
   "outputs": [],
   "source": []
  },
  {
   "cell_type": "code",
   "execution_count": null,
   "id": "d4b0229d-5ad4-44e5-ab9a-0b19cd17115c",
   "metadata": {},
   "outputs": [],
   "source": []
  },
  {
   "cell_type": "markdown",
   "id": "9f5b83fe-a4d5-4961-a20a-195706e147f2",
   "metadata": {},
   "source": [
    "Simplification of Complex Systems:\n",
    "\n",
    "Abstraction allows developers to focus on essential features and ignore unnecessary details, simplifying the understanding of complex systems.\n",
    "By modeling real-world entities with abstract classes, the code reflects the inherent structure and behavior of the system, making it more intuitive and easier to work with.\n",
    "\n",
    "\n",
    "Modularity and Encapsulation:\n",
    "\n",
    "Abstract classes act as modules that encapsulate related functionalities. This modular approach makes it easier to manage and maintain code because each module (class) is responsible for a specific aspect of the overall system.\n",
    "Encapsulation helps hide the internal implementation details of a class, providing a clear interface for interaction. This reduces dependencies between different parts of the code, promoting a more modular and scalable design.\n",
    "\n",
    "\n",
    "Code Reusability:\n",
    "\n",
    "Abstraction promotes code reusability through the use of abstract classes and interfaces. These can serve as templates for creating multiple concrete classes, inheriting common properties and behaviors.\n",
    "Developers can extend and customize abstract classes to suit specific needs, avoiding redundant code and minimizing the risk of errors that may arise from duplicating functionality.\n",
    "\n",
    "\n",
    "Ease of Maintenance:\n",
    "\n",
    "With abstraction, changes to the underlying implementation can be localized to specific classes or modules. This reduces the impact of modifications, making the codebase more maintainable and less prone to unintended side effects.\n",
    "Developers can update or extend the system without affecting unrelated parts, facilitating a smoother maintenance process.\n",
    "\n",
    "\n",
    "Improved Collaboration:\n",
    "\n",
    "Abstraction provides a high-level, conceptual view of the system, making it easier for multiple developers to collaborate. Each developer can work on a specific module or class without needing an in-depth understanding of the entire codebase.\n",
    "Well-defined interfaces in abstract classes also enable parallel development, where teams can work on different components concurrently, as long as they adhere to the specified contracts.\n",
    "\n",
    "\n",
    "Scalability and Flexibility:\n",
    "\n",
    "Abstraction supports scalability by allowing the addition of new features or components without significant modifications to existing code. New functionalities can be implemented in new classes that adhere to the existing abstract class or interface.\n",
    "The flexibility provided by abstraction makes it easier to adapt and extend the software as requirements evolve over time."
   ]
  },
  {
   "cell_type": "code",
   "execution_count": null,
   "id": "27c6ded9-182a-474d-be00-0a7f650950fa",
   "metadata": {},
   "outputs": [],
   "source": []
  },
  {
   "cell_type": "code",
   "execution_count": null,
   "id": "dcb8053e-6a35-42a6-afd9-3e72dafba0df",
   "metadata": {},
   "outputs": [],
   "source": []
  },
  {
   "cell_type": "code",
   "execution_count": 2,
   "id": "fc2d9ec0-942a-4b6d-8983-87765594a0a4",
   "metadata": {},
   "outputs": [
    {
     "name": "stdout",
     "output_type": "stream",
     "text": [
      "Area of Rectangle :  1729\n",
      "Area of Circle :  200.96\n",
      "Area of Square :  144\n",
      "Area ofTriangle :  10.0\n"
     ]
    }
   ],
   "source": [
    "from abc import ABC, abstractmethod\n",
    "\n",
    "class Shape(ABC):\n",
    "    def calc_area(self):\n",
    "        pass\n",
    "    \n",
    "class Rectangle(Shape):\n",
    "    def __init__(self,length,breadth):\n",
    "        self.length = length\n",
    "        self.breadth = breadth\n",
    "        \n",
    "    def calc_area(self):\n",
    "        return self.length*self.breadth\n",
    "    \n",
    "class Circle(Shape):\n",
    "    def __init__(self,radius):\n",
    "        self.radius = radius\n",
    "        \n",
    "    def calc_area(self):\n",
    "        return 3.14*(self.radius**2)\n",
    "    \n",
    "class Square(Shape):\n",
    "    def __init__(self,side):\n",
    "        self.side = side\n",
    "        \n",
    "    def calc_area(self):\n",
    "        return self.side**2\n",
    "    \n",
    "class Triangle(Shape):\n",
    "    def __init__(self,height,base):\n",
    "        self.height = height\n",
    "        self.base = base\n",
    "        \n",
    "    def calc_area(self):\n",
    "        return 0.5*self.height*self.base\n",
    "    \n",
    "    \n",
    "rec = Rectangle(length=19,breadth=91)\n",
    "circ = Circle(radius=8)\n",
    "sq = Square(side=12)\n",
    "tri = Triangle(height=5,base=4)\n",
    "\n",
    "print('Area of Rectangle : ', rec.calc_area())\n",
    "print('Area of Circle : ', circ.calc_area())\n",
    "print('Area of Square : ', sq.calc_area())\n",
    "print('Area ofTriangle : ', tri.calc_area())\n",
    "    \n",
    "    \n",
    "    "
   ]
  },
  {
   "cell_type": "code",
   "execution_count": null,
   "id": "5960b6e8-e283-41ad-9fc1-aa2ee659fb97",
   "metadata": {},
   "outputs": [],
   "source": []
  },
  {
   "cell_type": "code",
   "execution_count": null,
   "id": "62f570b6-de0d-4aea-b4f6-c69cd4426bf5",
   "metadata": {},
   "outputs": [],
   "source": []
  },
  {
   "cell_type": "markdown",
   "id": "842d37aa-fb44-4236-838a-b6e82996e6eb",
   "metadata": {},
   "source": [
    "Abstract classes and methods are part of the broader concept of abstraction in object-oriented programming. They allow you to define a common interface or blueprint for a group of related classes while leaving the specific implementation details to the concrete subclasses.\n",
    "\n",
    "The abc module (Abstract Base Classes) in Python provides a way to define abstract classes and abstract methods. \n",
    "\n",
    "-> Define the ABC and abstractmethod using 'abc' module\n",
    "-> Create the base class using ABC to define the abstractmethod\n",
    "-> Create the function that is to be implemented in the concrete classes using abstractmethod and keep it with 'pass' declaration\n",
    "-> Create the concrete classes to use the functions declared in the base class"
   ]
  },
  {
   "cell_type": "code",
   "execution_count": null,
   "id": "b5a60a05-a952-4efe-9553-6fb76f383063",
   "metadata": {},
   "outputs": [],
   "source": []
  },
  {
   "cell_type": "code",
   "execution_count": null,
   "id": "183593ca-b6c7-46d9-9bbe-3b5f06eb0b94",
   "metadata": {},
   "outputs": [],
   "source": []
  },
  {
   "cell_type": "markdown",
   "id": "9f0fcdb5-e22d-4f65-a944-808c6b46c71e",
   "metadata": {},
   "source": [
    "Abstract Classes:\n",
    "\n",
    "    \n",
    "Cannot be Instantiated: Abstract classes cannot be instantiated directly. They exist to be subclassed, and their main purpose is to provide a structure for subclasses.\n",
    "\n",
    "May Contain Abstract Methods: Abstract classes often include one or more abstract methods, which are declared but not implemented in the abstract class itself. Concrete subclasses must provide implementations for these methods.\n",
    "\n",
    "Enforce Structure: Abstract classes enforce a structure on derived classes, ensuring that certain methods are implemented. This helps maintain consistency across subclasses.\n",
    "\n",
    "Use Case: Abstract classes are useful when you want to define a common interface for a group of related classes, but you don't want instances of the abstract class itself. For example, a generic Shape class with abstract methods like calculate_area and calculate_perimeter can serve as a blueprint for concrete shape classes like Circle and Rectangle.\n",
    "\n",
    "\n",
    "\n",
    "\n",
    "\n",
    "Regular Classes:\n",
    "\n",
    "\n",
    "Can be Instantiated: Regular classes can be instantiated, meaning objects (instances) can be created directly from them.\n",
    "\n",
    "May Have Fully Implemented Methods: Regular classes can have fully implemented methods. They may or may not include abstract methods. Instances of regular classes can be created without the need for further implementation.\n",
    "\n",
    "Use Case: Regular classes are suitable for scenarios where you want to create objects directly and provide complete implementations for methods. These classes represent specific entities with well-defined behavior.\n",
    "\n",
    "\n",
    "\n",
    "\n",
    "Use Cases:\n",
    "\n",
    "Abstract Classes:\n",
    "\n",
    "Define a common interface for a family of related classes.\n",
    "Ensure that certain methods are implemented by concrete subclasses.\n",
    "Provide a level of abstraction, allowing for flexibility and extensibility in the design.\n",
    "\n",
    "\n",
    "Regular Classes:\n",
    "\n",
    "Represent specific entities or objects with concrete implementations.\n",
    "Can be instantiated to create objects directly.\n",
    "Suitable for scenarios where a complete, ready-to-use class is needed without the need for further subclassing."
   ]
  },
  {
   "cell_type": "code",
   "execution_count": null,
   "id": "4cc83a27-1d7d-48fb-b5d9-5844728e325e",
   "metadata": {},
   "outputs": [],
   "source": []
  },
  {
   "cell_type": "code",
   "execution_count": null,
   "id": "773529fd-13e1-4086-8b44-70032716f062",
   "metadata": {},
   "outputs": [],
   "source": []
  },
  {
   "cell_type": "code",
   "execution_count": 19,
   "id": "10851f67-6017-40e8-93e0-1a187bc9bbef",
   "metadata": {},
   "outputs": [
    {
     "name": "stdout",
     "output_type": "stream",
     "text": [
      "Details - Account: 0x011789, Balance: 1992091.0\n",
      "Enter an amount within the deposit limit.\n",
      "Deposit - Account: 0x011789, Balance: 1992091.0\n",
      "Withdraw an amount within the limit\n",
      "Withdraw - Account: 0x011789, Balance: 1992091.0\n"
     ]
    }
   ],
   "source": [
    "from abc import ABC, abstractmethod \n",
    "\n",
    "class Bank(ABC):\n",
    "    def __init__(self, acc_num, balance):\n",
    "        self.acc_num = acc_num \n",
    "        self._balance = balance\n",
    "    \n",
    "    @abstractmethod\n",
    "    def display(self):\n",
    "        pass\n",
    "    \n",
    "class Details(Bank):\n",
    "    def display(self):\n",
    "        return f\"Details - Account: {self.acc_num}, Balance: {self._balance}\"\n",
    "\n",
    "class Deposit(Bank):\n",
    "    def deposit(self, amount):\n",
    "        if 1000 <= amount <= 50000:\n",
    "            self._balance += amount\n",
    "            return f'The amount successfully deposited'\n",
    "        else:\n",
    "            return 'Enter an amount within the deposit limit.'\n",
    "            \n",
    "    def display(self):\n",
    "        return f\"Deposit - Account: {self.acc_num}, Balance: {self._balance}\"\n",
    "\n",
    "class Withdraw(Bank):\n",
    "    def withdraw(self, amount):\n",
    "        if 500 <= amount <= 100000:\n",
    "            self._balance -= amount\n",
    "            return f'The amount is withdrawn successfully'\n",
    "        else:\n",
    "            return 'Withdraw an amount within the limit'\n",
    "    \n",
    "    def display(self):\n",
    "        return f\"Withdraw - Account: {self.acc_num}, Balance: {self._balance}\"\n",
    "    \n",
    "   \n",
    "\n",
    "\n",
    "acc_num = '0x011789'\n",
    "initial_balance = 1992091.0\n",
    "\n",
    "details = Details(acc_num=acc_num, balance=initial_balance)\n",
    "deposit = Deposit(acc_num=acc_num, balance=initial_balance)\n",
    "withdraw = Withdraw(acc_num=acc_num, balance=initial_balance)\n",
    "\n",
    "print(details.display())\n",
    "# Perform operations\n",
    "print(deposit.deposit(amount=900.0))\n",
    "print(deposit.display())\n",
    "\n",
    "print(withdraw.withdraw(amount=7800000.29))\n",
    "print(withdraw.display())\n",
    "\n"
   ]
  },
  {
   "cell_type": "code",
   "execution_count": null,
   "id": "1399e17e-6c4a-43dd-9c33-63d062326a0a",
   "metadata": {},
   "outputs": [],
   "source": []
  },
  {
   "cell_type": "code",
   "execution_count": null,
   "id": "891bc3a1-a494-4437-8de0-b94f866db5a6",
   "metadata": {},
   "outputs": [],
   "source": []
  },
  {
   "cell_type": "markdown",
   "id": "e67c48c4-efa0-49f6-baca-fe754b2f6282",
   "metadata": {},
   "source": [
    "An interface in programming generally refers to a set of rules or specifications that a class must follow. In Python, interfaces are often implemented using abstract classes, and the ABC (Abstract Base Class) module provides a way to define abstract classes and abstract methods.\n",
    "\n",
    "Role in Achieving Abstraction:\n",
    "\n",
    "Abstract classes and abstract methods play a crucial role in achieving abstraction in Python.\n",
    "They allow the definition of a common interface that multiple classes can adhere to, ensuring a consistent structure and behavior.\n",
    "Abstraction helps in hiding the implementation details from the user, providing a clear and standardized way to interact with objects."
   ]
  },
  {
   "cell_type": "code",
   "execution_count": null,
   "id": "9a651b87-8a31-440d-b102-3ca9efa89b46",
   "metadata": {},
   "outputs": [],
   "source": []
  },
  {
   "cell_type": "code",
   "execution_count": null,
   "id": "7374282a-5504-41d3-95bf-7c7383b4fce5",
   "metadata": {},
   "outputs": [],
   "source": []
  },
  {
   "cell_type": "code",
   "execution_count": 1,
   "id": "9d006baf-827b-4e90-9aff-96c842c421e7",
   "metadata": {},
   "outputs": [
    {
     "name": "stdout",
     "output_type": "stream",
     "text": [
      "The dog is eating\n",
      "The dog is sleeping\n"
     ]
    }
   ],
   "source": [
    "from abc import ABC, abstractmethod\n",
    "\n",
    "class Animal(ABC):\n",
    "    def eat(self):\n",
    "        pass\n",
    "    def sleep(self):\n",
    "        pass\n",
    "    \n",
    "    \n",
    "class Dog(Animal):\n",
    "    def eat(self):\n",
    "        return f'The dog is eating'\n",
    "    \n",
    "    def sleep(self):\n",
    "        return f'The dog is sleeping'\n",
    "    \n",
    "    \n",
    "dog = Dog()\n",
    "\n",
    "print(dog.eat())\n",
    "print(dog.sleep())\n"
   ]
  },
  {
   "cell_type": "code",
   "execution_count": null,
   "id": "e5e07ea4-7c22-4121-adc4-f44df9729f29",
   "metadata": {},
   "outputs": [],
   "source": []
  },
  {
   "cell_type": "code",
   "execution_count": null,
   "id": "e470e29a-3730-4033-93f0-72fb53ce440d",
   "metadata": {},
   "outputs": [],
   "source": []
  },
  {
   "cell_type": "markdown",
   "id": "ee328874-4ccc-4ec6-ae4a-a9e62e5e7d7a",
   "metadata": {},
   "source": [
    "Data Protection: Encapsulation allows the bundling of data (attributes) and methods (functions) into a single unit (class). This bundling helps in protecting the internal state of an object.\n",
    "By using access modifiers (such as private or protected), encapsulation restricts direct access to the internal state of an object, preventing unauthorized modifications.\n",
    "\n",
    "Implementation Hiding: The internal details of how a class accomplishes its functionality are hidden from the outside world. This is a form of abstraction known as implementation hiding.\n",
    "Users of a class only need to know the public interface (public methods and properties) to interact with the object. They are shielded from the complexity of the internal workings.\n",
    "\n",
    "Code Maintenance: Encapsulation allows for better organization of code. The data and the methods that operate on that data are kept together in a class, making it easier to understand and maintain the codebase.\n",
    "Changes to the internal implementation of a class do not affect the external code that uses the class as long as the public interface remains unchanged.\n",
    "\n",
    "Modularity: Encapsulation promotes modularity by grouping related functionality together. Each class acts as a module with a well-defined interface.\n",
    "This modular approach makes it easier to break down complex systems into smaller, manageable components, promoting code reusability."
   ]
  },
  {
   "cell_type": "code",
   "execution_count": null,
   "id": "54309554-12b0-4a9e-b9d1-4943b7e21580",
   "metadata": {},
   "outputs": [],
   "source": []
  },
  {
   "cell_type": "code",
   "execution_count": null,
   "id": "b66fba36-819e-4fe6-827c-4c257273be4f",
   "metadata": {},
   "outputs": [],
   "source": []
  },
  {
   "cell_type": "markdown",
   "id": "c103f7a3-c9d1-48e9-9587-1939203a142a",
   "metadata": {},
   "source": [
    "Defining a Contract: Abstract methods define a contract or an interface that concrete subclasses must adhere to.\n",
    "They specify the methods that any concrete subclass must implement to be considered a valid implementation of the abstract class.\n",
    "\n",
    "Enforcing Consistency: Abstract methods enforce consistency across multiple subclasses by ensuring that all subclasses provide an implementation for the specified methods.\n",
    "This consistency is essential for achieving a common interface and facilitating code organization and maintenance.\n",
    "\n",
    "Forcing Subclass Implementation: Abstract methods act as a mechanism for forcing concrete subclasses to provide their own implementations.\n",
    "When a subclass fails to implement an abstract method, it results in a runtime error or a compile-time error, depending on the programming language."
   ]
  },
  {
   "cell_type": "code",
   "execution_count": null,
   "id": "8489268a-216f-4a1a-b797-024414a9e89e",
   "metadata": {},
   "outputs": [],
   "source": []
  },
  {
   "cell_type": "code",
   "execution_count": null,
   "id": "d663f0bc-60ec-4b02-8a58-32e5a293ae95",
   "metadata": {},
   "outputs": [],
   "source": []
  },
  {
   "cell_type": "code",
   "execution_count": 7,
   "id": "842c0837-d89a-4cd1-9dd9-08efadf2ef17",
   "metadata": {},
   "outputs": [
    {
     "name": "stdout",
     "output_type": "stream",
     "text": [
      "Give instructions to start the vehicle : \n",
      "Start the vehicle\n",
      "Give instructions to stop the vehicle : \n",
      "Stop the vehicle\n"
     ]
    }
   ],
   "source": [
    "from abc import ABC, abstractmethod\n",
    "\n",
    "class System(ABC):\n",
    "    @abstractmethod\n",
    "    def start(self):\n",
    "        pass\n",
    "    \n",
    "    @abstractmethod\n",
    "    def stop(self):\n",
    "        pass\n",
    "    \n",
    "class Vehicle(System):\n",
    "    def start(self):\n",
    "        return f'Start the vehicle'\n",
    "    def stop(self):\n",
    "        return f'Stop the vehicle'\n",
    "    \n",
    "    \n",
    "ins = Vehicle()\n",
    "\n",
    "print('Give instructions to start the vehicle : ')\n",
    "print(ins.start())\n",
    "\n",
    "print('Give instructions to stop the vehicle : ')\n",
    "print(ins.stop())"
   ]
  },
  {
   "cell_type": "code",
   "execution_count": null,
   "id": "56339bff-04ec-4e47-974c-8d4083563ba6",
   "metadata": {},
   "outputs": [],
   "source": []
  },
  {
   "cell_type": "code",
   "execution_count": null,
   "id": "a55c0645-f8fa-4834-a26d-3893510fdcdd",
   "metadata": {},
   "outputs": [],
   "source": []
  },
  {
   "cell_type": "markdown",
   "id": "8948fef9-62c0-4b6a-adba-2b8d7829acbc",
   "metadata": {},
   "source": [
    "Abstract properties are used to define properties in abstract classes that must be implemented by concrete subclasses. Like abstract methods, abstract properties provide a way to enforce a consistent interface across multiple subclasses. Abstract properties are defined using the ABC (Abstract Base Class) module and the @abstractproperty decorator."
   ]
  },
  {
   "cell_type": "code",
   "execution_count": null,
   "id": "cd881160-1ade-4bf5-aaf4-f8f94eb2b247",
   "metadata": {},
   "outputs": [],
   "source": []
  },
  {
   "cell_type": "code",
   "execution_count": null,
   "id": "7711f03d-06ca-4d99-993d-6c2d489a9b45",
   "metadata": {},
   "outputs": [],
   "source": []
  },
  {
   "cell_type": "code",
   "execution_count": 10,
   "id": "e73a49f5-9061-4cf4-bdd3-e951aa9435e0",
   "metadata": {},
   "outputs": [
    {
     "name": "stdout",
     "output_type": "stream",
     "text": [
      "The salary of the manager is :  The salary of the manager is : 90000.0\n",
      "The salary of the developer is :  The salary of the developer is : 60000.0\n",
      "The salary of the designer is :  The salary of the designer is : 20000.0\n"
     ]
    }
   ],
   "source": [
    "from abc import ABC, abstractmethod\n",
    "\n",
    "class salarydetails(ABC):\n",
    "    def get_salary(self):\n",
    "        pass\n",
    "    \n",
    "class Manager(salarydetails):\n",
    "    def __init__(self,amount):\n",
    "        self.amount = amount\n",
    "    def get_salary(self):\n",
    "        return f'The salary of the manager is : {self.amount}'\n",
    "    \n",
    "class Developer(salarydetails):\n",
    "    def __init__(self,amount):\n",
    "        self.amount = amount\n",
    "    def get_salary(self):\n",
    "        return f'The salary of the developer is : {self.amount}'\n",
    "    \n",
    "class Designer(salarydetails):\n",
    "    def __init__(self,amount):\n",
    "        self.amount = amount\n",
    "    def get_salary(self):\n",
    "        return f'The salary of the designer is : {self.amount}'\n",
    "    \n",
    "def getc(obj):\n",
    "    return obj.get_salary()\n",
    "\n",
    "\n",
    "man = Manager(amount=90000.0)\n",
    "dev = Developer(amount=60000.0)\n",
    "des = Designer(amount=20000.0)\n",
    "\n",
    "print('The salary of the manager is : ', man.get_salary())\n",
    "print('The salary of the developer is : ', dev.get_salary())\n",
    "print('The salary of the designer is : ', des.get_salary())"
   ]
  },
  {
   "cell_type": "code",
   "execution_count": null,
   "id": "ae675bf3-87af-4101-a2c3-7b9518bcec1a",
   "metadata": {},
   "outputs": [],
   "source": []
  },
  {
   "cell_type": "code",
   "execution_count": null,
   "id": "6d77ef35-c8c4-4e0b-bcfc-c0799b896f88",
   "metadata": {},
   "outputs": [],
   "source": []
  },
  {
   "cell_type": "markdown",
   "id": "5cabbec8-7476-4adc-a2ce-56045e53dc32",
   "metadata": {},
   "source": [
    "1. Definition:\n",
    "\n",
    "Abstract Classes:\n",
    "\n",
    "Cannot be instantiated directly.\n",
    "May contain abstract methods and serve as a blueprint for concrete subclasses.\n",
    "Concrete Classes:\n",
    "\n",
    "Can be instantiated directly.\n",
    "Provide concrete implementations for all methods.\n",
    "2. Instantiation:\n",
    "\n",
    "Abstract Classes:\n",
    "\n",
    "Cannot be instantiated directly.\n",
    "Used as a template for concrete subclasses.\n",
    "Concrete Classes:\n",
    "\n",
    "Instantiated directly using class_name() or the class constructor.\n",
    "Represent specific instances with fully defined behaviors.\n",
    "3. Abstract Methods:\n",
    "\n",
    "Abstract Classes:\n",
    "\n",
    "Contain abstract methods with method signatures only.\n",
    "Must be implemented by concrete subclasses.\n",
    "Concrete Classes:\n",
    "\n",
    "Provide concrete implementations for all methods.\n",
    "Can be directly called on instances.\n",
    "4. Use Cases:\n",
    "\n",
    "Abstract Classes:\n",
    "\n",
    "Define a common interface for related classes.\n",
    "Ensure consistency in structure and behavior across subclasses.\n",
    "Concrete Classes:\n",
    "\n",
    "Used when a complete and specific implementation is available.\n",
    "Represent specific instances with fully defined behaviors."
   ]
  },
  {
   "cell_type": "markdown",
   "id": "d627810b-bb3f-4d8b-91fa-aa6d2740f232",
   "metadata": {},
   "source": []
  },
  {
   "cell_type": "code",
   "execution_count": null,
   "id": "8923011d-256e-4265-866a-503ba65a4dcc",
   "metadata": {},
   "outputs": [],
   "source": []
  },
  {
   "cell_type": "code",
   "execution_count": null,
   "id": "2e3369bd-e0a5-4482-9873-313e7ec789a5",
   "metadata": {},
   "outputs": [],
   "source": []
  },
  {
   "cell_type": "markdown",
   "id": "f0d3edc3-da0d-4a91-a528-4f4458cd52a5",
   "metadata": {},
   "source": [
    "1. Definition of Abstract Data Types (ADTs):\n",
    "\n",
    "Abstract Data Types (ADTs):\n",
    "Abstract Data Types are high-level descriptions of a set of operations on data, independent of their implementation details.\n",
    "They define the behavior of data structures and operations on them without specifying how these operations are implemented.\n",
    "ADTs focus on what operations can be performed, not how they are carried out.\n",
    "\n",
    "\n",
    "2. Role of ADTs in Achieving Abstraction:\n",
    "\n",
    "Abstraction: Abstraction is the process of simplifying complex systems by modeling classes based on their essential features.\n",
    "ADTs play a crucial role in achieving abstraction in Python by allowing programmers to work with high-level concepts and operations without worrying about the low-level details.\n",
    "\n",
    "Encapsulation: ADTs encapsulate the implementation details, providing a clear separation between what a data structure does and how it accomplishes those tasks.\n",
    "Users of ADTs interact with them through well-defined interfaces, hiding the internal complexities and promoting a modular design.\n",
    "\n",
    "Code Reusability: ADTs provide reusable and well-defined components that can be easily integrated into various applications.\n",
    "Users can utilize the same ADT in different contexts without needing to understand or modify its internal workings.\n",
    "\n",
    "Standardization: ADTs establish standardized interfaces for data structures, promoting consistency across different implementations.\n",
    "Standardization facilitates communication between different parts of a program and simplifies code maintenance.\n",
    "\n",
    "Simplicity and Modularity: ADTs promote simplicity by presenting a high-level view of data structures and their operations.\n",
    "They encourage modularity by breaking down complex systems into smaller, manageable units, improving code organization and readability."
   ]
  },
  {
   "cell_type": "code",
   "execution_count": null,
   "id": "6ea5404b-1d76-47ee-955f-aa334e83db9f",
   "metadata": {},
   "outputs": [],
   "source": []
  },
  {
   "cell_type": "code",
   "execution_count": null,
   "id": "761b8756-ff55-4ffc-86af-4319b791c201",
   "metadata": {},
   "outputs": [],
   "source": []
  },
  {
   "cell_type": "code",
   "execution_count": 13,
   "id": "6beb7866-eaa9-4643-bc24-b8ecf3764ae1",
   "metadata": {},
   "outputs": [
    {
     "name": "stdout",
     "output_type": "stream",
     "text": [
      "Start up the computer\n",
      "The computer is active\n",
      "Sht down the computer\n",
      "The computer is shut off\n"
     ]
    }
   ],
   "source": [
    "from abc import ABC, abstractmethod\n",
    "\n",
    "class System(ABC):\n",
    "    def power_on(self):\n",
    "        pass\n",
    "    \n",
    "    def shutdown(self):\n",
    "        pass\n",
    "    \n",
    "class Computer(System):\n",
    "    def power_on(self):\n",
    "        return f'The computer is active'\n",
    "    \n",
    "    def shutdown(self):\n",
    "        return f'The computer is shut off'\n",
    "    \n",
    "obj = Computer()\n",
    "\n",
    "print('Start up the computer')\n",
    "print(obj.power_on())\n",
    "print('Sht down the computer')\n",
    "print(obj.shutdown())\n",
    "    "
   ]
  },
  {
   "cell_type": "code",
   "execution_count": null,
   "id": "1a93698b-eb52-4117-95c0-52a23609e152",
   "metadata": {},
   "outputs": [],
   "source": []
  },
  {
   "cell_type": "code",
   "execution_count": null,
   "id": "7d3a1a7f-5c50-472b-9bb6-981659243853",
   "metadata": {},
   "outputs": [],
   "source": []
  },
  {
   "cell_type": "code",
   "execution_count": null,
   "id": "9636f7fc-510d-4d54-a6d9-265fe5c22feb",
   "metadata": {},
   "outputs": [],
   "source": []
  }
 ],
 "metadata": {
  "kernelspec": {
   "display_name": "Python 3 (ipykernel)",
   "language": "python",
   "name": "python3"
  },
  "language_info": {
   "codemirror_mode": {
    "name": "ipython",
    "version": 3
   },
   "file_extension": ".py",
   "mimetype": "text/x-python",
   "name": "python",
   "nbconvert_exporter": "python",
   "pygments_lexer": "ipython3",
   "version": "3.10.8"
  }
 },
 "nbformat": 4,
 "nbformat_minor": 5
}
